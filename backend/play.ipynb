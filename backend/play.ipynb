{
 "cells": [
  {
   "cell_type": "code",
   "execution_count": 2,
   "metadata": {},
   "outputs": [
    {
     "name": "stderr",
     "output_type": "stream",
     "text": [
      "/Users/ryandu/Desktop/iGEM/2023/cadmir/.conda/lib/python3.10/site-packages/pinecone/index.py:4: TqdmWarning: IProgress not found. Please update jupyter and ipywidgets. See https://ipywidgets.readthedocs.io/en/stable/user_install.html\n",
      "  from tqdm.autonotebook import tqdm\n"
     ]
    },
    {
     "data": {
      "text/plain": [
       "True"
      ]
     },
     "execution_count": 2,
     "metadata": {},
     "output_type": "execute_result"
    }
   ],
   "source": [
    "import requests\n",
    "import pandas\n",
    "from langchain.document_loaders import UnstructuredPDFLoader, OnlinePDFLoader, PyPDFLoader\n",
    "from langchain.text_splitter import RecursiveCharacterTextSplitter\n",
    "from langchain.embeddings import OpenAIEmbeddings\n",
    "from langchain.vectorstores.pinecone import Pinecone\n",
    "from supabase.client import Client, create_client\n",
    "import datetime\n",
    "from tqdm import tqdm\n",
    "import pinecone\n",
    "import os\n",
    "from dotenv import load_dotenv\n",
    "from langchain.llms import OpenAI\n",
    "from langchain.chat_models import ChatOpenAI\n",
    "from langchain.chains import RetrievalQA\n",
    "\n",
    "from langchain.chains.llm import LLMChain\n",
    "from langchain.prompts import PromptTemplate\n",
    "from langchain.chains.combine_documents.stuff import StuffDocumentsChain\n",
    "\n",
    "load_dotenv()"
   ]
  },
  {
   "cell_type": "code",
   "execution_count": 3,
   "metadata": {},
   "outputs": [],
   "source": [
    "index_name = \"cadmir\"\n",
    "namespace = \"cad1\"\n",
    "pinecone.init(\n",
    "    api_key=os.getenv(\"PINECONE_API_KEY\"),\n",
    "    environment=os.getenv(\"PINECONE_ENV\")\n",
    ")"
   ]
  },
  {
   "cell_type": "code",
   "execution_count": 4,
   "metadata": {},
   "outputs": [],
   "source": [
    "embedding = OpenAIEmbeddings()\n",
    "# supabase: Client = create_client(supabase_url=os.environ.get(\"SUPABASE_URL\"), supabase_key=os.environ.get(\"SUPABASE_SERVICE_KEY\"))\n",
    "# store = SupabaseVectorStore(embedding=embedding, client=supabase, table_name=\"knowledge\")\n",
    "# store.similarity_search(\"miRNA\",400)"
   ]
  },
  {
   "cell_type": "code",
   "execution_count": 5,
   "metadata": {},
   "outputs": [],
   "source": [
    "index = pinecone.Index(\"cadmir\")\n",
    "pinecones = Pinecone(index, embedding.embed_query, 'text' )"
   ]
  },
  {
   "cell_type": "code",
   "execution_count": 12,
   "metadata": {},
   "outputs": [],
   "source": [
    "llm = OpenAI()\n",
    "cadmirIndex = Pinecone.from_existing_index(\"cadmir\", embedding, \"text\", namespace=\"cad1\")"
   ]
  },
  {
   "cell_type": "code",
   "execution_count": 13,
   "metadata": {},
   "outputs": [],
   "source": [
    "qa = RetrievalQA.from_chain_type(llm=OpenAI(), retriever=cadmirIndex.as_retriever(search_kwargs={'k':10}), return_source_documents=True)"
   ]
  },
  {
   "cell_type": "code",
   "execution_count": 14,
   "metadata": {},
   "outputs": [
    {
     "data": {
      "text/plain": [
       "{'query': 'what mirna are associated with androgen levels ',\n",
       " 'result': \" I don't know.\",\n",
       " 'source_documents': [Document(page_content='was observed that in the multivariate anal‑ ysis, although plasma and tissue expression levels of mir‑718, mir‑486, mir‑130 and mir‑122 were included in the model, only the plasmid levels of miR‑486 showed a significant change [odds ratio (or) 2.467; 95% ci, 1.407‑4.327; Table iV]. The or analysis obtained with the logit model, suggested that statistically the increase of mir‑486 increased the risk of damage in the ascending aortic wall (increase of a point of plasma mir‑486 produced an increase equal to 2.467 of the risk of being lGMd or HGMd compared with the cn group).Plasma circulating levels of miR‑718 were significantly decreased in the HGd group compared with the cn and lGd groups (P<0.01; Fig. 5B), whereas mi r‑122 levels were significantly decreased in the LGMD and HGD groups compared with the cn group (P<0.001; Fig. 5B). n otably, plasma expression levels of mir‑486 were significantly increased in the lGMd and HGd groups compared with the CN group (P<0.01). No significant', metadata={'add_date': datetime.date(2023, 8, 29), 'doi': '10.3892/mmr.2021.12516'}),\n",
       "  Document(page_content='TNFR-1, neuropilin-1 and angiogenin. Low levels of miR-18a-5p, miR-106a-5p and miR-223-3p were significantly associated with high lev- els of a variety of mainly inflammatory and endothelium- related biomarkers (ESAM, LTBR, PIGR, syndecan-1, GDF-15, RAGE, TNFR-1, pentraxin-3, galectin-3, troy), whereas low levels of miR-27a-3p and miR-199a-3p were related to high levels of biomarkers important in angiogen- esis-related processes (galectin-3, neuropilin-1 and angio- genin), as summarized in Fig. 1.We studied the association between our set of established circulating miRNAs and CV-related endpoints. Within 18 months, 28 events of rehospitalization resulted fromBiomarker values are presented in ng/mL per quartile of circulating miRNA levels, either as mean ± standard deviation or median with inter- quartile range (in square brackets). Quartile 1 (Q1) represents the patients with the highest miRNA levels, whereas quartile 4 (Q4) represents the patients with the lowest miRNA levels ESAM', metadata={'add_date': datetime.date(2023, 8, 29), 'doi': '10.1007/s00392-017-1096-z'}),\n",
       "  Document(page_content='the serum of patients [82, 84–90] (Table 5) (Figure 3). Hu et al. demonstrated in a two-stage case-control analysis that serum levels of miR-25, miR-16, miR-222 and miR- 324-3p were significantly upregulated as compared to those other miRNAs (miR-191 and miR-484) used as endogenous control in Chinese breast cancer patients [85] (Table 5). Wu reported that miR-25 expression was significantly higher in breast cancer patients based on data of 683 breast cancer tissues when compared to that in 87 normal breast tissues according to The Cancer Genome Atlas [83]. Interestingly, another clinical study enrolling 240 Norwegian early breast cancer patients showed strong and significant associations between the overexpression of miR-25, miR-18a/b, miR-106b, and miR-505 with high proliferation, estrogen receptor negativity and cytokeratin 5/6 positivity of cancer [86] (Table 5). Moreover, using dataset analysis Farazzi et al. reported that miRNA families might control subtype-specific pathways in', metadata={'add_date': datetime.date(2023, 8, 30), 'doi': '10.18632/oncotarget.24662'}),\n",
       "  Document(page_content='differentially expressed mirnas and their target mrnas. one-way anoVa, followed by Bonferroni correction, were used to assess statistical significance among different groups. Data are presented as the mean ± SD of the fold‑change with respect to the control. Fold-change >1 and fold-change <1 represent upregulation and downregulation, respectively. n=5. mirna/mir, microrna; acSl1, long-chain-fatty-acid-coa ligase 1; naMPT, nicotinamide phosphoribosyltransferase; rGS2, regulator of G-protein signaling 2; JdP2, Jun dimerization protein 2.P=1.3x10-05), aQP9 (P=9x10-12; P<2.22x10-16; P<2.22x10-16) and JdP2 (P=0.00031; P=1.3x10-08; P=1.3x10-07) in Mi were significantly downregulated at discharge, one month after discharge and six months after discharge compared with that at admission. Whereas, it was found that the expression levels of STaT1 (P=8.1x10-11; P=2.1x10-13; P=7x10-10) and aKT3 (P=0.0036; P=5.6x10-06; P=1x10-09) in MI were significantly upregulated at discharge, one month after', metadata={'add_date': datetime.date(2023, 8, 29), 'doi': '10.3892/mmr.2020.11517'}),\n",
       "  Document(page_content='serum levels of miR-181a and BP; each unit decrease in dCt ( doubling of expression) of serum miR-181a was associated with ≈3.4 mmHg increase in SBP (β = –3.4, SE = 1.7, P = 0.043). The association between serum miR-181a and DBP showed the same trend but did not reach the level of nominal statis- tical significance (β = –1.3, SE = 0.9, P = 0.158).renal Coexpression of renin and mir-181a Is Most apparent in the Distal Nephron of the Human Kidney There was strong immunostaining for renin in the juxtaglomerular apparatus, as expected (Figure 1A). The expression of renin within cortical tubules was polarized, with tubules at the vascular pole of glom- eruli (distal convoluted tubules) showing stronger immunostaining compared with segments most consistent with identity of proximal tubules ( Figures 1A, B). Reninmir-181a Is associated with Downregulation of Mitochondrial respiration and upregulation of Immunity/Inflammation Pathways in 69 Human Kidneys Characterized by Next-Generation rNa', metadata={'add_date': datetime.date(2023, 8, 30), 'doi': '10.2119/molmed.2015.00096'}),\n",
       "  Document(page_content='monitor treatment effects in future clinical trials for AMD.The expression of hsa-mir-301-3p, hsa-mir-361-5p, and hsa- mir-424-5p was analyzed by qRT-PCR in the serum of 59 GA AMD patients from the Cologne and Bonn study and compared to all controls (Figure 1, Table S1). There was no statistically significant association of cmiRNA levels with GA compared to controls (pcorrected.0.05). We also found no significant association of the cmiRNA profile including hsa-mir-301-3p, hsa-mir-361-5p, and hsa-mir-424-5p with GA AMD versus controls (p = 0.084).We applied a three stage design to identify significantly associated cmiRNAs. First, RNASeq was performed to screen for miRNA candidates in 9 cases and 9 controls from the Regensburg study. The cmiRNAs with a nominal significance of p.0.1 were then validated in an unrelated set of 45 NV cases and 68 controls from the Regensburg study (Table 1). Finally, candidate cmiRNAs with a nominal significant association (p, 0.05, adjusted or unadjusted', metadata={'add_date': datetime.date(2023, 8, 29), 'doi': '10.1371/journal.pone.0107461'}),\n",
       "  Document(page_content='currently available for diagnostic purposes (17). There are limited data on the association between mirnas and aF. in comparison with the control group, aF patients had lower levels of miR‑423. Similarly, in HL‑1 cells treated with Ang II, the expression level of miR‑423 was found to be significantly lower than the level in the control group.urinary miRNA. Excreted urinary miRNAs already fulfill some of the prerequisites for a good biomarker. Nevertheless, further investigation is needed before preclinical and clinical applications.atrial conduction disorder is characterized by a decrease in action potential duration and impulse propagation rate. These changes are often induced in the early stages of atrial remodeling (14). Atrial dilatation and fibrosis observed in AF are characterized by structural remodeling, which leads to conduction disturbances. until recently, these electrophysi‑ ological changes provided the basis for a method to treat aF. However, aF promotes the remodeling', metadata={'add_date': datetime.date(2023, 8, 28), 'doi': '10.3892/mmr.2022.12702'}),\n",
       "  Document(page_content='miR-21 could inﬂuence the abnormal aldosterone secretion in the hypertension setting and contribute to primary aldosteronism [46].A number of studies has reported changes in the expressions of miRNAs and its possible use as a biomarker in connection with sodium homeostasis, blood pressure and renin expression. In a small cohort study (n = 10) that evaluated, using a microarray, the correlation of salt intake and blood pressure, 45 differentially-expressed miRNAs were found with miR-4516 displaying the highest expression change across salt intake variation [47]. Interestingly, the exosomes from the urine samples showed a reduction of miR-4516 expression in the inverse salt-sensitive (mean arterial pressure (MAP) decreases ≥7 mmHg with high salt intake) vs. the salt-resistant subjects (control; <7 mmHg MAP change with high salt intake) and, conversely, an increase in the expression in the salt-sensitive (≥7 mmHg increase in MAP) vs. the salt-resistant group [47]. Similarly, a recent', metadata={'add_date': datetime.date(2023, 8, 29), 'doi': '10.3390/ijms19040927'}),\n",
       "  Document(page_content='the terminal reactions we had previously reported, and that these eﬀects are apparent at both the mRNA and the steroid levels. We then analyse the eﬀects of individual miRNAs on speciﬁc transcripts, guided by bioinformatic analysis of gene sequence. Finally, we dem- onstrate that certain of these corticosteroid-regulating miR- NAs are diﬀerentially expressed in aldosterone-producing adenoma tissue (APA). We propose that these miRNAs may have a signiﬁcant pathogenic role and potential diagnostic value.Abnormal expression of speciﬁc miRNAs can be patho- genic [14, 16]; miRNA levels are altered in adrenal carcinoma and adenoma tissue when compared with normal adrenal2.1. Cell Culture and Transfection. The H295R human adrenocortical cell line (a gift from Professor William Rainey, Medical College of Georgia, USA) [24] and HeLa cells (European Collection of Animal Cell Cultures, Wiltshire, UK) were maintained as previously described [8] and used between passage numbers 15 and 25. Cells', metadata={'add_date': datetime.date(2023, 8, 30), 'doi': '10.1155/2017/2021903'}),\n",
       "  Document(page_content='reported association with aortopathies (18‑20). The expression levels of mi r‑718, miR‑486, miR‑130 and miR‑122 were first investigated in the tissue specimens of the ascending aortic wall, followed by detection in circulation (plasma) to determine whether there was an association between aortic damage and variation in the expression levels of mirnas. The data obtained showed an association between tissue and circulating levels of these mirnas. in multivariate analysis, the estimate of odds ratio for mir‑486 indicated that high levels of mir‑486 might be associated with a high risk of having high scores of damage in the ascending aortic wall. it has been demonstrated that mir‑122, mir‑130a and mir‑486 regulation is dependent on the tricuspid or bicuspid morphology of the aortic valve, and mir‑718 may be considered as a biomarker of aortic dilata‑ tion (20). Moreover, mir‑122 and mir‑130a are molecular effectors in the BaV‑associated dysregulation of TGF‑β1 receptor. TGF‑β1 mediates', metadata={'add_date': datetime.date(2023, 8, 29), 'doi': '10.3892/mmr.2021.12516'})]}"
      ]
     },
     "execution_count": 14,
     "metadata": {},
     "output_type": "execute_result"
    }
   ],
   "source": [
    "qa({\"query\":\"what mirna are associated with androgen levels \"})"
   ]
  },
  {
   "cell_type": "code",
   "execution_count": 15,
   "metadata": {},
   "outputs": [
    {
     "data": {
      "text/plain": [
       "VectorStoreRetriever(tags=['Pinecone'], metadata=None, vectorstore=<langchain.vectorstores.pinecone.Pinecone object at 0x127bd6350>, search_type='similarity', search_kwargs={})"
      ]
     },
     "execution_count": 15,
     "metadata": {},
     "output_type": "execute_result"
    }
   ],
   "source": [
    "pinecones.as_retriever()"
   ]
  },
  {
   "cell_type": "code",
   "execution_count": 28,
   "metadata": {},
   "outputs": [],
   "source": [
    "question = \"How does the miRNA-33 pathway work?\""
   ]
  },
  {
   "cell_type": "code",
   "execution_count": 29,
   "metadata": {},
   "outputs": [],
   "source": [
    "docs = cadmirIndex.similarity_search(query=question, namespace=\"cad1\", k=10)"
   ]
  },
  {
   "cell_type": "code",
   "execution_count": 30,
   "metadata": {},
   "outputs": [
    {
     "name": "stdout",
     "output_type": "stream",
     "text": [
      "The miRNA-33 pathway is involved in regulating autophagy, lysosomal function, and lipid homeostasis. It works by repressing multiple genes with related functions, including genes involved in autophagy and lipid metabolism. The pathway is regulated by miR-33 and its passenger strand miR-33*, which both contribute to the inhibitory activity of the pathway. In the context of Mycobacterium tuberculosis (Mtb) infection, Mtb induces the expression of miR-33 and miR-33* to impair xenophagy (the process by which cells eliminate intracellular pathogens) and promote fatty acid stores in lipid bodies, which helps the bacteria survive inside host cells. Additionally, miR-33 is involved in regulating cell proliferation, cell cycle progression, and fatty acid metabolism. The pathway is also implicated in myocardial regeneration and repair, as well as in the pathogenesis of myocardial fibrosis.\n"
     ]
    }
   ],
   "source": [
    "# Define prompt\n",
    "prompt_template = f\"\"\"${question} \n",
    "\n",
    "\"\"\" + \"\"\"\n",
    "\n",
    "Here are the information:\"{text}\"\n",
    "CONCISE SUMMARY:\"\"\"\n",
    "prompt = PromptTemplate.from_template(prompt_template)\n",
    "\n",
    "# Define LLM chain\n",
    "llm = ChatOpenAI(temperature=0, model_name=\"gpt-3.5-turbo-16k\")\n",
    "llm_chain = LLMChain(llm=llm, prompt=prompt)\n",
    "\n",
    "# Define StuffDocumentsChain\n",
    "stuff_chain = StuffDocumentsChain(\n",
    "    llm_chain=llm_chain, document_variable_name=\"text\"\n",
    ")\n",
    "\n",
    "print(stuff_chain.run(docs))"
   ]
  },
  {
   "cell_type": "code",
   "execution_count": null,
   "metadata": {},
   "outputs": [],
   "source": []
  },
  {
   "cell_type": "code",
   "execution_count": null,
   "metadata": {},
   "outputs": [],
   "source": []
  }
 ],
 "metadata": {
  "kernelspec": {
   "display_name": "Python 3",
   "language": "python",
   "name": "python3"
  },
  "language_info": {
   "codemirror_mode": {
    "name": "ipython",
    "version": 3
   },
   "file_extension": ".py",
   "mimetype": "text/x-python",
   "name": "python",
   "nbconvert_exporter": "python",
   "pygments_lexer": "ipython3",
   "version": "3.10.12"
  },
  "orig_nbformat": 4
 },
 "nbformat": 4,
 "nbformat_minor": 2
}

{
 "cells": [
  {
   "cell_type": "code",
   "execution_count": 1,
   "metadata": {},
   "outputs": [
    {
     "data": {
      "text/plain": [
       "True"
      ]
     },
     "execution_count": 1,
     "metadata": {},
     "output_type": "execute_result"
    }
   ],
   "source": [
    "import requests\n",
    "import pandas\n",
    "from langchain.document_loaders import UnstructuredPDFLoader, OnlinePDFLoader, PyPDFLoader\n",
    "from langchain.text_splitter import RecursiveCharacterTextSplitter\n",
    "from langchain.embeddings import OpenAIEmbeddings\n",
    "from langchain.vectorstores.supabase import SupabaseVectorStore\n",
    "from supabase.client import Client, create_client\n",
    "import datetime\n",
    "from tqdm import tqdm\n",
    "\n",
    "import os\n",
    "from dotenv import load_dotenv\n",
    "load_dotenv()"
   ]
  },
  {
   "cell_type": "code",
   "execution_count": 2,
   "metadata": {},
   "outputs": [],
   "source": [
    "embedding = OpenAIEmbeddings()\n",
    "supabase: Client = create_client(supabase_url=os.environ.get(\"SUPABASE_URL\"), supabase_key=os.environ.get(\"SUPABASE_SERVICE_KEY\"))\n",
    "store = SupabaseVectorStore(embedding=embedding, client=supabase, table_name=\"knowledge\")\n",
    "store.similarity_search(\"miRNA\",400)"
   ]
  },
  {
   "cell_type": "code",
   "execution_count": 8,
   "metadata": {},
   "outputs": [
    {
     "ename": "APIError",
     "evalue": "{'code': 'PGRST202', 'details': 'Searched for the function public.match_documents with parameters match_count, query_embedding or with a single unnamed json/jsonb parameter, but no matches were found in the schema cache.', 'hint': None, 'message': 'Could not find the function public.match_documents(match_count, query_embedding) in the schema cache'}",
     "output_type": "error",
     "traceback": [
      "\u001b[0;31m---------------------------------------------------------------------------\u001b[0m",
      "\u001b[0;31mAPIError\u001b[0m                                  Traceback (most recent call last)",
      "Cell \u001b[0;32mIn[8], line 2\u001b[0m\n\u001b[1;32m      1\u001b[0m store \u001b[39m=\u001b[39m SupabaseVectorStore(embedding\u001b[39m=\u001b[39membedding, client\u001b[39m=\u001b[39msupabase, table_name\u001b[39m=\u001b[39m\u001b[39m\"\u001b[39m\u001b[39mknowledge\u001b[39m\u001b[39m\"\u001b[39m)\n\u001b[0;32m----> 2\u001b[0m store\u001b[39m.\u001b[39;49msimilarity_search(\u001b[39m\"\u001b[39;49m\u001b[39mmiRNA\u001b[39;49m\u001b[39m\"\u001b[39;49m,\u001b[39m400\u001b[39;49m)\n",
      "File \u001b[0;32m~/Desktop/iGEM/2023/cadmir/.conda/lib/python3.10/site-packages/langchain/vectorstores/supabase.py:170\u001b[0m, in \u001b[0;36mSupabaseVectorStore.similarity_search\u001b[0;34m(self, query, k, filter, **kwargs)\u001b[0m\n\u001b[1;32m    162\u001b[0m \u001b[39mdef\u001b[39;00m \u001b[39msimilarity_search\u001b[39m(\n\u001b[1;32m    163\u001b[0m     \u001b[39mself\u001b[39m,\n\u001b[1;32m    164\u001b[0m     query: \u001b[39mstr\u001b[39m,\n\u001b[0;32m   (...)\u001b[0m\n\u001b[1;32m    167\u001b[0m     \u001b[39m*\u001b[39m\u001b[39m*\u001b[39mkwargs: Any,\n\u001b[1;32m    168\u001b[0m ) \u001b[39m-\u001b[39m\u001b[39m>\u001b[39m List[Document]:\n\u001b[1;32m    169\u001b[0m     vectors \u001b[39m=\u001b[39m \u001b[39mself\u001b[39m\u001b[39m.\u001b[39m_embedding\u001b[39m.\u001b[39membed_documents([query])\n\u001b[0;32m--> 170\u001b[0m     \u001b[39mreturn\u001b[39;00m \u001b[39mself\u001b[39;49m\u001b[39m.\u001b[39;49msimilarity_search_by_vector(\n\u001b[1;32m    171\u001b[0m         vectors[\u001b[39m0\u001b[39;49m], k\u001b[39m=\u001b[39;49mk, \u001b[39mfilter\u001b[39;49m\u001b[39m=\u001b[39;49m\u001b[39mfilter\u001b[39;49m, \u001b[39m*\u001b[39;49m\u001b[39m*\u001b[39;49mkwargs\n\u001b[1;32m    172\u001b[0m     )\n",
      "File \u001b[0;32m~/Desktop/iGEM/2023/cadmir/.conda/lib/python3.10/site-packages/langchain/vectorstores/supabase.py:181\u001b[0m, in \u001b[0;36mSupabaseVectorStore.similarity_search_by_vector\u001b[0;34m(self, embedding, k, filter, **kwargs)\u001b[0m\n\u001b[1;32m    174\u001b[0m \u001b[39mdef\u001b[39;00m \u001b[39msimilarity_search_by_vector\u001b[39m(\n\u001b[1;32m    175\u001b[0m     \u001b[39mself\u001b[39m,\n\u001b[1;32m    176\u001b[0m     embedding: List[\u001b[39mfloat\u001b[39m],\n\u001b[0;32m   (...)\u001b[0m\n\u001b[1;32m    179\u001b[0m     \u001b[39m*\u001b[39m\u001b[39m*\u001b[39mkwargs: Any,\n\u001b[1;32m    180\u001b[0m ) \u001b[39m-\u001b[39m\u001b[39m>\u001b[39m List[Document]:\n\u001b[0;32m--> 181\u001b[0m     result \u001b[39m=\u001b[39m \u001b[39mself\u001b[39;49m\u001b[39m.\u001b[39;49msimilarity_search_by_vector_with_relevance_scores(\n\u001b[1;32m    182\u001b[0m         embedding, k\u001b[39m=\u001b[39;49mk, \u001b[39mfilter\u001b[39;49m\u001b[39m=\u001b[39;49m\u001b[39mfilter\u001b[39;49m, \u001b[39m*\u001b[39;49m\u001b[39m*\u001b[39;49mkwargs\n\u001b[1;32m    183\u001b[0m     )\n\u001b[1;32m    185\u001b[0m     documents \u001b[39m=\u001b[39m [doc \u001b[39mfor\u001b[39;00m doc, _ \u001b[39min\u001b[39;00m result]\n\u001b[1;32m    187\u001b[0m     \u001b[39mreturn\u001b[39;00m documents\n",
      "File \u001b[0;32m~/Desktop/iGEM/2023/cadmir/.conda/lib/python3.10/site-packages/langchain/vectorstores/supabase.py:213\u001b[0m, in \u001b[0;36mSupabaseVectorStore.similarity_search_by_vector_with_relevance_scores\u001b[0;34m(self, query, k, filter)\u001b[0m\n\u001b[1;32m    209\u001b[0m \u001b[39mdef\u001b[39;00m \u001b[39msimilarity_search_by_vector_with_relevance_scores\u001b[39m(\n\u001b[1;32m    210\u001b[0m     \u001b[39mself\u001b[39m, query: List[\u001b[39mfloat\u001b[39m], k: \u001b[39mint\u001b[39m, \u001b[39mfilter\u001b[39m: Optional[Dict[\u001b[39mstr\u001b[39m, Any]] \u001b[39m=\u001b[39m \u001b[39mNone\u001b[39;00m\n\u001b[1;32m    211\u001b[0m ) \u001b[39m-\u001b[39m\u001b[39m>\u001b[39m List[Tuple[Document, \u001b[39mfloat\u001b[39m]]:\n\u001b[1;32m    212\u001b[0m     match_documents_params \u001b[39m=\u001b[39m \u001b[39mself\u001b[39m\u001b[39m.\u001b[39mmatch_args(query, k, \u001b[39mfilter\u001b[39m)\n\u001b[0;32m--> 213\u001b[0m     res \u001b[39m=\u001b[39m \u001b[39mself\u001b[39;49m\u001b[39m.\u001b[39;49m_client\u001b[39m.\u001b[39;49mrpc(\u001b[39mself\u001b[39;49m\u001b[39m.\u001b[39;49mquery_name, match_documents_params)\u001b[39m.\u001b[39;49mexecute()\n\u001b[1;32m    215\u001b[0m     match_result \u001b[39m=\u001b[39m [\n\u001b[1;32m    216\u001b[0m         (\n\u001b[1;32m    217\u001b[0m             Document(\n\u001b[0;32m   (...)\u001b[0m\n\u001b[1;32m    224\u001b[0m         \u001b[39mif\u001b[39;00m search\u001b[39m.\u001b[39mget(\u001b[39m\"\u001b[39m\u001b[39mcontent\u001b[39m\u001b[39m\"\u001b[39m)\n\u001b[1;32m    225\u001b[0m     ]\n\u001b[1;32m    227\u001b[0m     \u001b[39mreturn\u001b[39;00m match_result\n",
      "File \u001b[0;32m~/Desktop/iGEM/2023/cadmir/.conda/lib/python3.10/site-packages/postgrest/_sync/request_builder.py:68\u001b[0m, in \u001b[0;36mSyncQueryRequestBuilder.execute\u001b[0;34m(self)\u001b[0m\n\u001b[1;32m     66\u001b[0m         \u001b[39mreturn\u001b[39;00m APIResponse\u001b[39m.\u001b[39mfrom_http_request_response(r)\n\u001b[1;32m     67\u001b[0m     \u001b[39melse\u001b[39;00m:\n\u001b[0;32m---> 68\u001b[0m         \u001b[39mraise\u001b[39;00m APIError(r\u001b[39m.\u001b[39mjson())\n\u001b[1;32m     69\u001b[0m \u001b[39mexcept\u001b[39;00m ValidationError \u001b[39mas\u001b[39;00m e:\n\u001b[1;32m     70\u001b[0m     \u001b[39mraise\u001b[39;00m APIError(r\u001b[39m.\u001b[39mjson()) \u001b[39mfrom\u001b[39;00m \u001b[39me\u001b[39;00m\n",
      "\u001b[0;31mAPIError\u001b[0m: {'code': 'PGRST202', 'details': 'Searched for the function public.match_documents with parameters match_count, query_embedding or with a single unnamed json/jsonb parameter, but no matches were found in the schema cache.', 'hint': None, 'message': 'Could not find the function public.match_documents(match_count, query_embedding) in the schema cache'}"
     ]
    }
   ],
   "source": [
    "store = SupabaseVectorStore(embedding=embedding, client=supabase, table_name=\"knowledge\")\n",
    "store.similarity_search(\"miRNA\",400)"
   ]
  },
  {
   "cell_type": "code",
   "execution_count": 7,
   "metadata": {},
   "outputs": [
    {
     "ename": "APIError",
     "evalue": "{'code': 'PGRST202', 'details': 'Searched for the function public.match_documents with parameters match_count, query_embedding or with a single unnamed json/jsonb parameter, but no matches were found in the schema cache.', 'hint': None, 'message': 'Could not find the function public.match_documents(match_count, query_embedding) in the schema cache'}",
     "output_type": "error",
     "traceback": [
      "\u001b[0;31m---------------------------------------------------------------------------\u001b[0m",
      "\u001b[0;31mAPIError\u001b[0m                                  Traceback (most recent call last)",
      "Cell \u001b[0;32mIn[7], line 1\u001b[0m\n\u001b[0;32m----> 1\u001b[0m store\u001b[39m.\u001b[39;49msearch(\u001b[39m\"\u001b[39;49m\u001b[39mmiRNA\u001b[39;49m\u001b[39m\"\u001b[39;49m, \u001b[39m\"\u001b[39;49m\u001b[39msimilarity\u001b[39;49m\u001b[39m\"\u001b[39;49m)\n",
      "File \u001b[0;32m~/Desktop/iGEM/2023/cadmir/.conda/lib/python3.10/site-packages/langchain/vectorstores/base.py:124\u001b[0m, in \u001b[0;36mVectorStore.search\u001b[0;34m(self, query, search_type, **kwargs)\u001b[0m\n\u001b[1;32m    122\u001b[0m \u001b[39m\u001b[39m\u001b[39m\"\"\"Return docs most similar to query using specified search type.\"\"\"\u001b[39;00m\n\u001b[1;32m    123\u001b[0m \u001b[39mif\u001b[39;00m search_type \u001b[39m==\u001b[39m \u001b[39m\"\u001b[39m\u001b[39msimilarity\u001b[39m\u001b[39m\"\u001b[39m:\n\u001b[0;32m--> 124\u001b[0m     \u001b[39mreturn\u001b[39;00m \u001b[39mself\u001b[39;49m\u001b[39m.\u001b[39;49msimilarity_search(query, \u001b[39m*\u001b[39;49m\u001b[39m*\u001b[39;49mkwargs)\n\u001b[1;32m    125\u001b[0m \u001b[39melif\u001b[39;00m search_type \u001b[39m==\u001b[39m \u001b[39m\"\u001b[39m\u001b[39mmmr\u001b[39m\u001b[39m\"\u001b[39m:\n\u001b[1;32m    126\u001b[0m     \u001b[39mreturn\u001b[39;00m \u001b[39mself\u001b[39m\u001b[39m.\u001b[39mmax_marginal_relevance_search(query, \u001b[39m*\u001b[39m\u001b[39m*\u001b[39mkwargs)\n",
      "File \u001b[0;32m~/Desktop/iGEM/2023/cadmir/.conda/lib/python3.10/site-packages/langchain/vectorstores/supabase.py:170\u001b[0m, in \u001b[0;36mSupabaseVectorStore.similarity_search\u001b[0;34m(self, query, k, filter, **kwargs)\u001b[0m\n\u001b[1;32m    162\u001b[0m \u001b[39mdef\u001b[39;00m \u001b[39msimilarity_search\u001b[39m(\n\u001b[1;32m    163\u001b[0m     \u001b[39mself\u001b[39m,\n\u001b[1;32m    164\u001b[0m     query: \u001b[39mstr\u001b[39m,\n\u001b[0;32m   (...)\u001b[0m\n\u001b[1;32m    167\u001b[0m     \u001b[39m*\u001b[39m\u001b[39m*\u001b[39mkwargs: Any,\n\u001b[1;32m    168\u001b[0m ) \u001b[39m-\u001b[39m\u001b[39m>\u001b[39m List[Document]:\n\u001b[1;32m    169\u001b[0m     vectors \u001b[39m=\u001b[39m \u001b[39mself\u001b[39m\u001b[39m.\u001b[39m_embedding\u001b[39m.\u001b[39membed_documents([query])\n\u001b[0;32m--> 170\u001b[0m     \u001b[39mreturn\u001b[39;00m \u001b[39mself\u001b[39;49m\u001b[39m.\u001b[39;49msimilarity_search_by_vector(\n\u001b[1;32m    171\u001b[0m         vectors[\u001b[39m0\u001b[39;49m], k\u001b[39m=\u001b[39;49mk, \u001b[39mfilter\u001b[39;49m\u001b[39m=\u001b[39;49m\u001b[39mfilter\u001b[39;49m, \u001b[39m*\u001b[39;49m\u001b[39m*\u001b[39;49mkwargs\n\u001b[1;32m    172\u001b[0m     )\n",
      "File \u001b[0;32m~/Desktop/iGEM/2023/cadmir/.conda/lib/python3.10/site-packages/langchain/vectorstores/supabase.py:181\u001b[0m, in \u001b[0;36mSupabaseVectorStore.similarity_search_by_vector\u001b[0;34m(self, embedding, k, filter, **kwargs)\u001b[0m\n\u001b[1;32m    174\u001b[0m \u001b[39mdef\u001b[39;00m \u001b[39msimilarity_search_by_vector\u001b[39m(\n\u001b[1;32m    175\u001b[0m     \u001b[39mself\u001b[39m,\n\u001b[1;32m    176\u001b[0m     embedding: List[\u001b[39mfloat\u001b[39m],\n\u001b[0;32m   (...)\u001b[0m\n\u001b[1;32m    179\u001b[0m     \u001b[39m*\u001b[39m\u001b[39m*\u001b[39mkwargs: Any,\n\u001b[1;32m    180\u001b[0m ) \u001b[39m-\u001b[39m\u001b[39m>\u001b[39m List[Document]:\n\u001b[0;32m--> 181\u001b[0m     result \u001b[39m=\u001b[39m \u001b[39mself\u001b[39;49m\u001b[39m.\u001b[39;49msimilarity_search_by_vector_with_relevance_scores(\n\u001b[1;32m    182\u001b[0m         embedding, k\u001b[39m=\u001b[39;49mk, \u001b[39mfilter\u001b[39;49m\u001b[39m=\u001b[39;49m\u001b[39mfilter\u001b[39;49m, \u001b[39m*\u001b[39;49m\u001b[39m*\u001b[39;49mkwargs\n\u001b[1;32m    183\u001b[0m     )\n\u001b[1;32m    185\u001b[0m     documents \u001b[39m=\u001b[39m [doc \u001b[39mfor\u001b[39;00m doc, _ \u001b[39min\u001b[39;00m result]\n\u001b[1;32m    187\u001b[0m     \u001b[39mreturn\u001b[39;00m documents\n",
      "File \u001b[0;32m~/Desktop/iGEM/2023/cadmir/.conda/lib/python3.10/site-packages/langchain/vectorstores/supabase.py:213\u001b[0m, in \u001b[0;36mSupabaseVectorStore.similarity_search_by_vector_with_relevance_scores\u001b[0;34m(self, query, k, filter)\u001b[0m\n\u001b[1;32m    209\u001b[0m \u001b[39mdef\u001b[39;00m \u001b[39msimilarity_search_by_vector_with_relevance_scores\u001b[39m(\n\u001b[1;32m    210\u001b[0m     \u001b[39mself\u001b[39m, query: List[\u001b[39mfloat\u001b[39m], k: \u001b[39mint\u001b[39m, \u001b[39mfilter\u001b[39m: Optional[Dict[\u001b[39mstr\u001b[39m, Any]] \u001b[39m=\u001b[39m \u001b[39mNone\u001b[39;00m\n\u001b[1;32m    211\u001b[0m ) \u001b[39m-\u001b[39m\u001b[39m>\u001b[39m List[Tuple[Document, \u001b[39mfloat\u001b[39m]]:\n\u001b[1;32m    212\u001b[0m     match_documents_params \u001b[39m=\u001b[39m \u001b[39mself\u001b[39m\u001b[39m.\u001b[39mmatch_args(query, k, \u001b[39mfilter\u001b[39m)\n\u001b[0;32m--> 213\u001b[0m     res \u001b[39m=\u001b[39m \u001b[39mself\u001b[39;49m\u001b[39m.\u001b[39;49m_client\u001b[39m.\u001b[39;49mrpc(\u001b[39mself\u001b[39;49m\u001b[39m.\u001b[39;49mquery_name, match_documents_params)\u001b[39m.\u001b[39;49mexecute()\n\u001b[1;32m    215\u001b[0m     match_result \u001b[39m=\u001b[39m [\n\u001b[1;32m    216\u001b[0m         (\n\u001b[1;32m    217\u001b[0m             Document(\n\u001b[0;32m   (...)\u001b[0m\n\u001b[1;32m    224\u001b[0m         \u001b[39mif\u001b[39;00m search\u001b[39m.\u001b[39mget(\u001b[39m\"\u001b[39m\u001b[39mcontent\u001b[39m\u001b[39m\"\u001b[39m)\n\u001b[1;32m    225\u001b[0m     ]\n\u001b[1;32m    227\u001b[0m     \u001b[39mreturn\u001b[39;00m match_result\n",
      "File \u001b[0;32m~/Desktop/iGEM/2023/cadmir/.conda/lib/python3.10/site-packages/postgrest/_sync/request_builder.py:68\u001b[0m, in \u001b[0;36mSyncQueryRequestBuilder.execute\u001b[0;34m(self)\u001b[0m\n\u001b[1;32m     66\u001b[0m         \u001b[39mreturn\u001b[39;00m APIResponse\u001b[39m.\u001b[39mfrom_http_request_response(r)\n\u001b[1;32m     67\u001b[0m     \u001b[39melse\u001b[39;00m:\n\u001b[0;32m---> 68\u001b[0m         \u001b[39mraise\u001b[39;00m APIError(r\u001b[39m.\u001b[39mjson())\n\u001b[1;32m     69\u001b[0m \u001b[39mexcept\u001b[39;00m ValidationError \u001b[39mas\u001b[39;00m e:\n\u001b[1;32m     70\u001b[0m     \u001b[39mraise\u001b[39;00m APIError(r\u001b[39m.\u001b[39mjson()) \u001b[39mfrom\u001b[39;00m \u001b[39me\u001b[39;00m\n",
      "\u001b[0;31mAPIError\u001b[0m: {'code': 'PGRST202', 'details': 'Searched for the function public.match_documents with parameters match_count, query_embedding or with a single unnamed json/jsonb parameter, but no matches were found in the schema cache.', 'hint': None, 'message': 'Could not find the function public.match_documents(match_count, query_embedding) in the schema cache'}"
     ]
    }
   ],
   "source": []
  },
  {
   "cell_type": "code",
   "execution_count": null,
   "metadata": {},
   "outputs": [],
   "source": []
  }
 ],
 "metadata": {
  "kernelspec": {
   "display_name": "Python 3",
   "language": "python",
   "name": "python3"
  },
  "language_info": {
   "codemirror_mode": {
    "name": "ipython",
    "version": 3
   },
   "file_extension": ".py",
   "mimetype": "text/x-python",
   "name": "python",
   "nbconvert_exporter": "python",
   "pygments_lexer": "ipython3",
   "version": "3.10.12"
  },
  "orig_nbformat": 4
 },
 "nbformat": 4,
 "nbformat_minor": 2
}

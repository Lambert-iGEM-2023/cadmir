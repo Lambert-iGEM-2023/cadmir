{
 "cells": [
  {
   "cell_type": "code",
   "execution_count": 1,
   "metadata": {},
   "outputs": [
    {
     "name": "stderr",
     "output_type": "stream",
     "text": [
      "/Users/ryandu/Desktop/iGEM/2023/cadmir/.conda/lib/python3.10/site-packages/pinecone/index.py:4: TqdmWarning: IProgress not found. Please update jupyter and ipywidgets. See https://ipywidgets.readthedocs.io/en/stable/user_install.html\n",
      "  from tqdm.autonotebook import tqdm\n"
     ]
    },
    {
     "data": {
      "text/plain": [
       "True"
      ]
     },
     "execution_count": 1,
     "metadata": {},
     "output_type": "execute_result"
    }
   ],
   "source": [
    "import requests\n",
    "import pandas\n",
    "from langchain.document_loaders import UnstructuredPDFLoader, OnlinePDFLoader, PyPDFLoader, TextLoader\n",
    "from langchain.text_splitter import RecursiveCharacterTextSplitter\n",
    "from langchain.embeddings import OpenAIEmbeddings\n",
    "from langchain.vectorstores.pinecone import Pinecone\n",
    "from supabase.client import Client, create_client\n",
    "import datetime\n",
    "from tqdm import tqdm\n",
    "import requests\n",
    "import datetime\n",
    "import json\n",
    "import io\n",
    "import uuid\n",
    "import pinecone\n",
    "import os\n",
    "from dotenv import load_dotenv\n",
    "load_dotenv()"
   ]
  },
  {
   "cell_type": "code",
   "execution_count": 2,
   "metadata": {},
   "outputs": [],
   "source": [
    "supabase: Client = create_client(supabase_url=os.environ.get(\"SUPABASE_URL\"), supabase_key=os.environ.get(\"SUPABASE_SERVICE_KEY\"))"
   ]
  },
  {
   "cell_type": "code",
   "execution_count": 3,
   "metadata": {},
   "outputs": [],
   "source": [
    "logs = []"
   ]
  },
  {
   "cell_type": "code",
   "execution_count": 4,
   "metadata": {},
   "outputs": [],
   "source": [
    "def clean_up_pdf_json(json_data):\n",
    "    # print(\"length of json data: \" + str(len(json_data)))\n",
    "    result = []\n",
    "    try:\n",
    "        \n",
    "        for i, node in enumerate(json_data):\n",
    "            # print(node)\n",
    "            if node['type'] == 'Title' and ('References'.lower() in node['text'].lower() or 'Works cited'.lower() in node['text'].lower()) and i > len(json_data) / 3.5:\n",
    "                # print(\"hit referencessssssss\")\n",
    "                raise Exception('hit references')\n",
    "            elif node['type'] == 'NarrativeText':\n",
    "                if len(node['text']) > 150:\n",
    "                    result.append(node['text'])\n",
    "                    # sentences = split_sentences(node['text'])\n",
    "                    # for sentence in sentences:\n",
    "                    #     if sentence['type'] == 'Sentence' and len(sentence['raw']) > 70:\n",
    "                    #         result.append(sentence['raw'])\n",
    "    except Exception as e:\n",
    "        logs.append('error in clean_up_pdf_json')\n",
    "        logs.append(e)\n",
    "        pass\n",
    "    return result\n",
    "\n",
    "def clean_up_pdf(pdf_url):\n",
    "    logs.append(url)\n",
    "    start = datetime.datetime.now()\n",
    "    # Download the PDF from the URL\n",
    "    tempId = str(uuid.uuid4())\n",
    "    filename = 'temp'+tempId+'.pdf'\n",
    "    with open(filename, 'wb') as f:\n",
    "        response = requests.get(pdf_url)\n",
    "        f.write(response.content)\n",
    "\n",
    "    headers = {\n",
    "        'accept': 'application/json',\n",
    "        'unstructured-api-key': 'ZlAGOeaXIItDzP6DQjCSwYqBpKzzyZ'\n",
    "    }\n",
    "\n",
    "    files = {'files': (filename, open(filename, 'rb'))}\n",
    "\n",
    "    response = requests.post('https://api.unstructured.io/general/v0/general', headers=headers, files=files)\n",
    "    os.remove(filename)\n",
    "    if response.status_code != 200:\n",
    "        logs.append('ERROR: unstructured status code is ' + str(response.status_code))\n",
    "        logs.append(response.text)\n",
    "        return []\n",
    "    \n",
    "    text = response.text\n",
    "    # print('unstructured time is ' + str((datetime.datetime.now() - start).total_seconds() * 1000) + 'ms')\n",
    "\n",
    "    start = datetime.datetime.now()\n",
    "\n",
    "    if text:\n",
    "        json_data = json.loads(text)\n",
    "        # return json_data\n",
    "        cleaned = clean_up_pdf_json(json_data)\n",
    "        # print('cleaned json is ', cleaned)\n",
    "        # print('clean up time is ' + str((datetime.datetime.now() - start).total_seconds() * 1000) + 'ms')\n",
    "        return cleaned\n",
    "    else:\n",
    "        # print('ERROR: no text from unstructured')\n",
    "        return []"
   ]
  },
  {
   "cell_type": "code",
   "execution_count": 5,
   "metadata": {},
   "outputs": [
    {
     "name": "stdout",
     "output_type": "stream",
     "text": [
      "created index\n"
     ]
    }
   ],
   "source": [
    "index_name = \"cadmir\"\n",
    "namespace = \"cad1\"\n",
    "pinecone.init(\n",
    "    api_key=os.getenv(\"PINECONE_API_KEY\"),\n",
    "    environment=os.getenv(\"PINECONE_ENV\")\n",
    ")\n",
    "if index_name not in pinecone.list_indexes():\n",
    "    # we create a new index\n",
    "    pinecone.create_index(\n",
    "      name=index_name,\n",
    "      metric='cosine',\n",
    "      dimension=1536  \n",
    "    )\n",
    "    print(\"created index\")\n",
    "papersDF = pandas.read_csv('csv-microRNAAN-set (1).csv')\n",
    "embedding = OpenAIEmbeddings()\n",
    "loader_not_works = []\n",
    "no_url = []\n",
    "works=[]"
   ]
  },
  {
   "cell_type": "code",
   "execution_count": 6,
   "metadata": {},
   "outputs": [
    {
     "name": "stderr",
     "output_type": "stream",
     "text": [
      "  0%|          | 0/4924 [00:00<?, ?it/s]"
     ]
    },
    {
     "name": "stderr",
     "output_type": "stream",
     "text": [
      "33.33333333333333% failure:   0%|          | 4/4924 [00:32<8:39:41,  6.34s/it]"
     ]
    },
    {
     "name": "stdout",
     "output_type": "stream",
     "text": [
      "no url 10.18632/aging.101766\n"
     ]
    },
    {
     "name": "stderr",
     "output_type": "stream",
     "text": [
      "11.76470588235294% failure:   0%|          | 18/4924 [04:48<14:11:33, 10.41s/it] "
     ]
    },
    {
     "name": "stdout",
     "output_type": "stream",
     "text": [
      "no url 10.1007/s00395-022-00910-1\n"
     ]
    },
    {
     "name": "stderr",
     "output_type": "stream",
     "text": [
      "20.0% failure:   0%|          | 21/4924 [05:01<7:30:10,  5.51s/it]               "
     ]
    },
    {
     "name": "stdout",
     "output_type": "stream",
     "text": [
      "no url 10.1097/MD.0000000000031860\n"
     ]
    },
    {
     "name": "stderr",
     "output_type": "stream",
     "text": [
      "20.0% failure:   1%|          | 26/4924 [05:31<7:44:49,  5.69s/it]               "
     ]
    },
    {
     "name": "stdout",
     "output_type": "stream",
     "text": [
      "no url 10.1016/j.hjc.2022.10.001\n"
     ]
    },
    {
     "name": "stderr",
     "output_type": "stream",
     "text": [
      "22.22222222222222% failure:   1%|          | 28/4924 [05:43<7:21:38,  5.41s/it]  "
     ]
    },
    {
     "name": "stdout",
     "output_type": "stream",
     "text": [
      "no url 10.1002/jcla.24138\n"
     ]
    },
    {
     "name": "stderr",
     "output_type": "stream",
     "text": [
      "25.0% failure:   1%|          | 29/4924 [05:43<5:14:18,  3.85s/it]             "
     ]
    },
    {
     "name": "stdout",
     "output_type": "stream",
     "text": [
      "no url 10.1016/j.hjc.2020.01.005\n"
     ]
    },
    {
     "name": "stderr",
     "output_type": "stream",
     "text": [
      "26.666666666666668% failure:   1%|          | 31/4924 [06:01<7:37:28,  5.61s/it] "
     ]
    },
    {
     "name": "stdout",
     "output_type": "stream",
     "text": [
      "no url 10.5604/17322693.1100348\n"
     ]
    },
    {
     "name": "stderr",
     "output_type": "stream",
     "text": [
      "18.0% failure:   1%|          | 51/4924 [10:49<11:48:56,  8.73s/it]              "
     ]
    },
    {
     "name": "stdout",
     "output_type": "stream",
     "text": [
      "no url 10.1152/physiolgenomics.00106.2013\n"
     ]
    },
    {
     "name": "stderr",
     "output_type": "stream",
     "text": [
      "16.94915254237288% failure:   1%|          | 60/4924 [12:06<7:57:04,  5.89s/it]  "
     ]
    },
    {
     "name": "stdout",
     "output_type": "stream",
     "text": [
      "no url 10.5152/balkanmedj.2021.20243\n"
     ]
    },
    {
     "name": "stderr",
     "output_type": "stream",
     "text": [
      "18.333333333333332% failure:   1%|          | 61/4924 [12:06<5:40:51,  4.21s/it]"
     ]
    },
    {
     "name": "stdout",
     "output_type": "stream",
     "text": [
      "no url 10.1097/MD.0000000000011428\n"
     ]
    },
    {
     "name": "stderr",
     "output_type": "stream",
     "text": [
      "19.672131147540984% failure:   1%|▏         | 62/4924 [12:06<4:03:35,  3.01s/it]"
     ]
    },
    {
     "name": "stdout",
     "output_type": "stream",
     "text": [
      "no url 10.18632/aging.202721\n"
     ]
    },
    {
     "name": "stderr",
     "output_type": "stream",
     "text": [
      "20.634920634920633% failure:   1%|▏         | 64/4924 [12:28<8:09:32,  6.04s/it] "
     ]
    },
    {
     "name": "stdout",
     "output_type": "stream",
     "text": [
      "no url 10.1016/j.jacep.2019.08.011\n"
     ]
    },
    {
     "name": "stderr",
     "output_type": "stream",
     "text": [
      "21.53846153846154% failure:   1%|▏         | 66/4924 [12:39<7:01:01,  5.20s/it] "
     ]
    },
    {
     "name": "stdout",
     "output_type": "stream",
     "text": [
      "no url 10.1002/jcla.24252\n"
     ]
    },
    {
     "name": "stderr",
     "output_type": "stream",
     "text": [
      "20.54794520547945% failure:   2%|▏         | 74/4924 [13:50<7:55:27,  5.88s/it]  "
     ]
    },
    {
     "name": "stdout",
     "output_type": "stream",
     "text": [
      "no url 10.1002/ehf2.13458\n"
     ]
    },
    {
     "name": "stderr",
     "output_type": "stream",
     "text": [
      "21.333333333333336% failure:   2%|▏         | 76/4924 [14:07<8:38:53,  6.42s/it]"
     ]
    },
    {
     "name": "stdout",
     "output_type": "stream",
     "text": [
      "no url 10.1016/j.cellsig.2020.109751\n"
     ]
    },
    {
     "name": "stderr",
     "output_type": "stream",
     "text": [
      "17.708333333333336% failure:   2%|▏         | 97/4924 [17:57<7:01:16,  5.24s/it] "
     ]
    },
    {
     "name": "stdout",
     "output_type": "stream",
     "text": [
      "no url 10.1002/jcla.24070\n"
     ]
    },
    {
     "name": "stderr",
     "output_type": "stream",
     "text": [
      "18.367346938775512% failure:   2%|▏         | 99/4924 [18:01<4:25:11,  3.30s/it]"
     ]
    },
    {
     "name": "stdout",
     "output_type": "stream",
     "text": [
      "no url 10.1002/jgm.3405\n"
     ]
    },
    {
     "name": "stderr",
     "output_type": "stream",
     "text": [
      "18.81188118811881% failure:   2%|▏         | 102/4924 [18:21<5:53:12,  4.40s/it] "
     ]
    },
    {
     "name": "stdout",
     "output_type": "stream",
     "text": [
      "no url 10.1016/j.biopha.2017.10.062\n"
     ]
    },
    {
     "name": "stderr",
     "output_type": "stream",
     "text": [
      "19.607843137254903% failure:   2%|▏         | 103/4924 [18:21<4:14:21,  3.17s/it]"
     ]
    },
    {
     "name": "stdout",
     "output_type": "stream",
     "text": [
      "no url 10.1016/j.prp.2018.09.004\n"
     ]
    },
    {
     "name": "stderr",
     "output_type": "stream",
     "text": [
      "20.0% failure:   2%|▏         | 106/4924 [19:00<10:39:28,  7.96s/it]              "
     ]
    },
    {
     "name": "stdout",
     "output_type": "stream",
     "text": [
      "HTTPSConnectionPool(host='rcm.imrpress.com', port=443): Max retries exceeded with url: /EN/article/downloadArticleFile.do?attachType=PDF&id=8236 (Caused by NameResolutionError(\"<urllib3.connection.HTTPSConnection object at 0x167a1b610>: Failed to resolve 'rcm.imrpress.com' ([Errno 8] nodename nor servname provided, or not known)\"))\n"
     ]
    },
    {
     "name": "stderr",
     "output_type": "stream",
     "text": [
      "20.18348623853211% failure:   2%|▏         | 110/4924 [20:02<13:03:40,  9.77s/it] "
     ]
    },
    {
     "name": "stdout",
     "output_type": "stream",
     "text": [
      "no url 10.1016/j.bbadis.2016.11.034\n"
     ]
    },
    {
     "name": "stderr",
     "output_type": "stream",
     "text": [
      "21.052631578947366% failure:   2%|▏         | 115/4924 [20:37<8:35:16,  6.43s/it] "
     ]
    },
    {
     "name": "stdout",
     "output_type": "stream",
     "text": [
      "no url 10.1016/j.hjc.2019.06.003\n"
     ]
    },
    {
     "name": "stderr",
     "output_type": "stream",
     "text": [
      "21.551724137931032% failure:   2%|▏         | 117/4924 [20:50<7:54:58,  5.93s/it] "
     ]
    },
    {
     "name": "stdout",
     "output_type": "stream",
     "text": [
      "no url 10.1080/15287394.2020.1762814\n"
     ]
    },
    {
     "name": "stderr",
     "output_type": "stream",
     "text": [
      "20.3125% failure:   3%|▎         | 129/4924 [22:51<9:22:09,  7.03s/it]            "
     ]
    },
    {
     "name": "stdout",
     "output_type": "stream",
     "text": [
      "no url 10.1097/MD.0000000000024966\n"
     ]
    },
    {
     "name": "stderr",
     "output_type": "stream",
     "text": [
      "20.76923076923077% failure:   3%|▎         | 131/4924 [22:54<5:33:12,  4.17s/it] "
     ]
    },
    {
     "name": "stdout",
     "output_type": "stream",
     "text": [
      "no url 10.1002/jcla.23430\n"
     ]
    },
    {
     "name": "stderr",
     "output_type": "stream",
     "text": [
      "21.21212121212121% failure:   3%|▎         | 133/4924 [23:12<7:40:03,  5.76s/it]  "
     ]
    },
    {
     "name": "stdout",
     "output_type": "stream",
     "text": [
      "no url 10.1002/jcla.24775\n"
     ]
    },
    {
     "name": "stderr",
     "output_type": "stream",
     "text": [
      "21.16788321167883% failure:   3%|▎         | 138/4924 [23:47<9:30:16,  7.15s/it]  "
     ]
    },
    {
     "name": "stdout",
     "output_type": "stream",
     "text": [
      "no url 10.1002/ehf2.14153\n"
     ]
    },
    {
     "name": "stderr",
     "output_type": "stream",
     "text": [
      "21.58273381294964% failure:   3%|▎         | 140/4924 [23:58<7:47:24,  5.86s/it]  "
     ]
    },
    {
     "name": "stdout",
     "output_type": "stream",
     "text": [
      "no url 10.1097/MD.0000000000018049\n"
     ]
    },
    {
     "name": "stderr",
     "output_type": "stream",
     "text": [
      "22.142857142857142% failure:   3%|▎         | 141/4924 [23:59<5:36:05,  4.22s/it]"
     ]
    },
    {
     "name": "stdout",
     "output_type": "stream",
     "text": [
      "no url 10.1371/journal.pone.0216363\n"
     ]
    },
    {
     "name": "stderr",
     "output_type": "stream",
     "text": [
      "22.69503546099291% failure:   3%|▎         | 142/4924 [24:00<4:28:42,  3.37s/it] "
     ]
    },
    {
     "name": "stdout",
     "output_type": "stream",
     "text": [
      "HTTPSConnectionPool(host='physiologyonline.physiology.org', port=443): Max retries exceeded with url: /content/nips/31/1/16.full.pdf (Caused by SSLError(SSLCertVerificationError(1, \"[SSL: CERTIFICATE_VERIFY_FAILED] certificate verify failed: Hostname mismatch, certificate is not valid for 'physiologyonline.physiology.org'. (_ssl.c:1007)\")))\n"
     ]
    },
    {
     "name": "stderr",
     "output_type": "stream",
     "text": [
      "23.076923076923077% failure:   3%|▎         | 144/4924 [24:14<5:59:02,  4.51s/it]"
     ]
    },
    {
     "name": "stdout",
     "output_type": "stream",
     "text": [
      "no url 10.4103/0366-6999.194645\n"
     ]
    },
    {
     "name": "stderr",
     "output_type": "stream",
     "text": [
      "23.026315789473685% failure:   3%|▎         | 153/4924 [25:43<7:25:39,  5.60s/it] "
     ]
    },
    {
     "name": "stdout",
     "output_type": "stream",
     "text": [
      "no url 10.14744/AnatolJCardiol.2018.43255\n"
     ]
    },
    {
     "name": "stderr",
     "output_type": "stream",
     "text": [
      "22.78481012658228% failure:   3%|▎         | 159/4924 [26:53<12:02:00,  9.09s/it] "
     ]
    },
    {
     "name": "stdout",
     "output_type": "stream",
     "text": [
      "no url 10.1097/MD.0000000000025887\n"
     ]
    },
    {
     "name": "stderr",
     "output_type": "stream",
     "text": [
      "21.38728323699422% failure:   4%|▎         | 174/4924 [30:34<14:06:34, 10.69s/it] "
     ]
    },
    {
     "name": "stdout",
     "output_type": "stream",
     "text": [
      "no url 10.1155/2019/9450240\n"
     ]
    },
    {
     "name": "stderr",
     "output_type": "stream",
     "text": [
      "21.11111111111111% failure:   4%|▎         | 181/4924 [31:50<12:01:48,  9.13s/it] "
     ]
    },
    {
     "name": "stdout",
     "output_type": "stream",
     "text": [
      "no url 10.1001/jamacardio.2016.2050\n"
     ]
    },
    {
     "name": "stderr",
     "output_type": "stream",
     "text": [
      "21.428571428571427% failure:   4%|▎         | 183/4924 [32:09<11:03:59,  8.40s/it]"
     ]
    },
    {
     "name": "stdout",
     "output_type": "stream",
     "text": [
      "no url 10.1002/jcla.24380\n"
     ]
    },
    {
     "name": "stderr",
     "output_type": "stream",
     "text": [
      "21.73913043478261% failure:   4%|▍         | 185/4924 [32:46<15:46:32, 11.98s/it] "
     ]
    },
    {
     "name": "stdout",
     "output_type": "stream",
     "text": [
      "no url 10.4103/0366-6999.196573\n"
     ]
    },
    {
     "name": "stderr",
     "output_type": "stream",
     "text": [
      "21.649484536082475% failure:   4%|▍         | 195/4924 [34:30<10:50:53,  8.26s/it]"
     ]
    },
    {
     "name": "stdout",
     "output_type": "stream",
     "text": [
      "no url 10.1038/srep32700\n"
     ]
    },
    {
     "name": "stderr",
     "output_type": "stream",
     "text": [
      "22.110552763819097% failure:   4%|▍         | 200/4924 [35:20<10:06:33,  7.70s/it]2023-08-28 21:28:37,448:WARNING - Retrying (Retry(total=2, connect=None, read=None, redirect=None, status=None)) after connection broken by 'NewConnectionError('<urllib3.connection.HTTPSConnection object at 0x16a54b4f0>: Failed to establish a new connection: [Errno 61] Connection refused')': /databases\n",
      "2023-08-28 21:28:37,689:WARNING - Retrying (Retry(total=1, connect=None, read=None, redirect=None, status=None)) after connection broken by 'NewConnectionError('<urllib3.connection.HTTPSConnection object at 0x16a548610>: Failed to establish a new connection: [Errno 61] Connection refused')': /databases\n",
      "21.22641509433962% failure:   4%|▍         | 213/4924 [37:17<11:13:45,  8.58s/it] "
     ]
    },
    {
     "name": "stdout",
     "output_type": "stream",
     "text": [
      "no url 10.1161/STROKEAHA.116.015140\n"
     ]
    },
    {
     "name": "stderr",
     "output_type": "stream",
     "text": [
      "21.461187214611872% failure:   4%|▍         | 220/4924 [38:12<7:40:08,  5.87s/it] "
     ]
    },
    {
     "name": "stdout",
     "output_type": "stream",
     "text": [
      "no url 10.1016/j.redox.2020.101642\n"
     ]
    },
    {
     "name": "stderr",
     "output_type": "stream",
     "text": [
      "21.428571428571427% failure:   5%|▍         | 225/4924 [39:12<13:54:53, 10.66s/it]"
     ]
    },
    {
     "name": "stdout",
     "output_type": "stream",
     "text": [
      "no url 10.1097/CM9.0000000000001193\n"
     ]
    },
    {
     "name": "stderr",
     "output_type": "stream",
     "text": [
      "21.68141592920354% failure:   5%|▍         | 227/4924 [39:22<9:22:53,  7.19s/it]  "
     ]
    },
    {
     "name": "stdout",
     "output_type": "stream",
     "text": [
      "no url 10.1002/jcla.24487\n"
     ]
    },
    {
     "name": "stderr",
     "output_type": "stream",
     "text": [
      "21.551724137931032% failure:   5%|▍         | 233/4924 [40:16<8:28:49,  6.51s/it] "
     ]
    },
    {
     "name": "stdout",
     "output_type": "stream",
     "text": [
      "no url 10.1016/j.hjc.2018.06.002\n"
     ]
    },
    {
     "name": "stderr",
     "output_type": "stream",
     "text": [
      "21.518987341772153% failure:   5%|▍         | 238/4924 [40:42<5:33:19,  4.27s/it] "
     ]
    },
    {
     "name": "stdout",
     "output_type": "stream",
     "text": [
      "no url 10.1016/j.ygeno.2020.09.041\n"
     ]
    },
    {
     "name": "stderr",
     "output_type": "stream",
     "text": [
      "21.75732217573222% failure:   5%|▍         | 240/4924 [40:54<6:01:56,  4.64s/it] "
     ]
    },
    {
     "name": "stdout",
     "output_type": "stream",
     "text": [
      "no url 10.1097/MD.0000000000019971\n"
     ]
    },
    {
     "name": "stderr",
     "output_type": "stream",
     "text": [
      "21.991701244813278% failure:   5%|▍         | 242/4924 [41:18<9:36:29,  7.39s/it] "
     ]
    },
    {
     "name": "stdout",
     "output_type": "stream",
     "text": [
      "no url 10.1161/JAHA.116.005270\n"
     ]
    },
    {
     "name": "stderr",
     "output_type": "stream",
     "text": [
      "22.22222222222222% failure:   5%|▍         | 244/4924 [41:19<4:52:01,  3.74s/it] "
     ]
    },
    {
     "name": "stdout",
     "output_type": "stream",
     "text": [
      "no url 10.1016/j.arcmed.2019.07.009\n"
     ]
    },
    {
     "name": "stderr",
     "output_type": "stream",
     "text": [
      "22.540983606557376% failure:   5%|▍         | 245/4924 [41:19<3:30:58,  2.71s/it]"
     ]
    },
    {
     "name": "stdout",
     "output_type": "stream",
     "text": [
      "no url 10.1016/j.bbadis.2016.08.009\n"
     ]
    },
    {
     "name": "stderr",
     "output_type": "stream",
     "text": [
      "21.705426356589147% failure:   5%|▌         | 259/4924 [44:18<12:09:19,  9.38s/it]"
     ]
    },
    {
     "name": "stdout",
     "output_type": "stream",
     "text": [
      "no url 10.1016/j.jacep.2019.09.008\n"
     ]
    },
    {
     "name": "stderr",
     "output_type": "stream",
     "text": [
      "22.00772200772201% failure:   5%|▌         | 260/4924 [44:19<8:39:20,  6.68s/it]  "
     ]
    },
    {
     "name": "stdout",
     "output_type": "stream",
     "text": [
      "no url 10.6061/clinics/2015(04)07\n"
     ]
    },
    {
     "name": "stderr",
     "output_type": "stream",
     "text": [
      "20.774647887323944% failure:   6%|▌         | 285/4924 [48:31<13:25:10, 10.41s/it]"
     ]
    },
    {
     "name": "stdout",
     "output_type": "stream",
     "text": [
      "no url 10.2174/1573403X16999201124201021\n"
     ]
    },
    {
     "name": "stderr",
     "output_type": "stream",
     "text": [
      "20.833333333333336% failure:   6%|▌         | 289/4924 [49:10<10:50:36,  8.42s/it]"
     ]
    },
    {
     "name": "stdout",
     "output_type": "stream",
     "text": [
      "no url 10.18632/aging.103320\n"
     ]
    },
    {
     "name": "stderr",
     "output_type": "stream",
     "text": [
      "21.35593220338983% failure:   6%|▌         | 296/4924 [50:38<10:01:36,  7.80s/it] "
     ]
    },
    {
     "name": "stdout",
     "output_type": "stream",
     "text": [
      "no url 10.18502/ijaai.v19i1.2418\n"
     ]
    },
    {
     "name": "stderr",
     "output_type": "stream",
     "text": [
      "21.52317880794702% failure:   6%|▌         | 303/4924 [51:39<8:40:27,  6.76s/it]  "
     ]
    },
    {
     "name": "stdout",
     "output_type": "stream",
     "text": [
      "no url 10.1097/MD.0000000000000098\n"
     ]
    },
    {
     "name": "stderr",
     "output_type": "stream",
     "text": [
      "21.35922330097087% failure:   6%|▋         | 310/4924 [53:29<15:02:35, 11.74s/it] "
     ]
    },
    {
     "name": "stdout",
     "output_type": "stream",
     "text": [
      "no url 10.3349/ymj.2018.59.4.495\n"
     ]
    },
    {
     "name": "stderr",
     "output_type": "stream",
     "text": [
      "21.54340836012862% failure:   6%|▋         | 312/4924 [53:51<13:20:46, 10.42s/it]"
     ]
    },
    {
     "name": "stdout",
     "output_type": "stream",
     "text": [
      "no url 10.1111/jcmm.13567\n"
     ]
    },
    {
     "name": "stderr",
     "output_type": "stream",
     "text": [
      "21.518987341772153% failure:   6%|▋         | 317/4924 [54:40<11:33:06,  9.03s/it]"
     ]
    },
    {
     "name": "stdout",
     "output_type": "stream",
     "text": [
      "no url 10.1007/s10067-020-05573-8\n"
     ]
    },
    {
     "name": "stderr",
     "output_type": "stream",
     "text": [
      "21.69811320754717% failure:   6%|▋         | 319/4924 [54:56<10:01:21,  7.84s/it] "
     ]
    },
    {
     "name": "stdout",
     "output_type": "stream",
     "text": [
      "no url 10.1080/09537104.2023.2200860\n"
     ]
    },
    {
     "name": "stderr",
     "output_type": "stream",
     "text": [
      "21.19402985074627% failure:   7%|▋         | 336/4924 [57:45<8:24:13,  6.59s/it]  "
     ]
    },
    {
     "name": "stdout",
     "output_type": "stream",
     "text": [
      "no url 10.1097/MD.0000000000004418\n"
     ]
    },
    {
     "name": "stderr",
     "output_type": "stream",
     "text": [
      "20.977011494252874% failure:   7%|▋         | 349/4924 [59:57<9:24:32,  7.40s/it] "
     ]
    },
    {
     "name": "stdout",
     "output_type": "stream",
     "text": [
      "no url 10.1016/j.redox.2013.10.009\n"
     ]
    },
    {
     "name": "stderr",
     "output_type": "stream",
     "text": [
      "20.903954802259886% failure:   7%|▋         | 355/4924 [1:01:30<15:17:44, 12.05s/it]"
     ]
    },
    {
     "name": "stdout",
     "output_type": "stream",
     "text": [
      "no url 10.1016/j.jacc.2014.04.045\n"
     ]
    },
    {
     "name": "stderr",
     "output_type": "stream",
     "text": [
      "21.12676056338028% failure:   7%|▋         | 356/4924 [1:01:30<10:50:51,  8.55s/it] "
     ]
    },
    {
     "name": "stdout",
     "output_type": "stream",
     "text": [
      "no url 10.1039/d1lc00685a\n"
     ]
    },
    {
     "name": "stderr",
     "output_type": "stream",
     "text": [
      "21.16991643454039% failure:   7%|▋         | 360/4924 [1:02:46<18:01:05, 14.21s/it] "
     ]
    },
    {
     "name": "stdout",
     "output_type": "stream",
     "text": [
      "no url 10.18632/aging.103387\n"
     ]
    },
    {
     "name": "stderr",
     "output_type": "stream",
     "text": [
      "21.153846153846153% failure:   7%|▋         | 365/4924 [1:03:23<10:47:38,  8.52s/it]"
     ]
    },
    {
     "name": "stdout",
     "output_type": "stream",
     "text": [
      "no url 10.1016/j.jacc.2021.04.028\n"
     ]
    },
    {
     "name": "stderr",
     "output_type": "stream",
     "text": [
      "21.311475409836063% failure:   7%|▋         | 367/4924 [1:03:26<6:12:52,  4.91s/it] "
     ]
    },
    {
     "name": "stdout",
     "output_type": "stream",
     "text": [
      "no url 10.1159/000447793\n"
     ]
    },
    {
     "name": "stderr",
     "output_type": "stream",
     "text": [
      "21.563342318059302% failure:   8%|▊         | 372/4924 [1:04:01<6:59:18,  5.53s/it] "
     ]
    },
    {
     "name": "stdout",
     "output_type": "stream",
     "text": [
      "no url 10.18632/aging.100876\n"
     ]
    },
    {
     "name": "stderr",
     "output_type": "stream",
     "text": [
      "21.774193548387096% failure:   8%|▊         | 373/4924 [1:04:01<5:00:05,  3.96s/it]"
     ]
    },
    {
     "name": "stdout",
     "output_type": "stream",
     "text": [
      "no url 10.1155/2020/8504238\n"
     ]
    },
    {
     "name": "stderr",
     "output_type": "stream",
     "text": [
      "21.079691516709513% failure:   8%|▊         | 390/4924 [1:07:00<8:28:35,  6.73s/it] "
     ]
    },
    {
     "name": "stdout",
     "output_type": "stream",
     "text": [
      "no url 10.17219/acem/121926\n"
     ]
    },
    {
     "name": "stderr",
     "output_type": "stream",
     "text": [
      "21.22762148337596% failure:   8%|▊         | 392/4924 [1:07:08<6:24:49,  5.09s/it] "
     ]
    },
    {
     "name": "stdout",
     "output_type": "stream",
     "text": [
      "no url 10.7150/thno.47845\n"
     ]
    },
    {
     "name": "stderr",
     "output_type": "stream",
     "text": [
      "21.31979695431472% failure:   8%|▊         | 395/4924 [1:07:29<7:45:23,  6.17s/it]  "
     ]
    },
    {
     "name": "stdout",
     "output_type": "stream",
     "text": [
      "no url 10.1186/s12872-017-0609-z\n"
     ]
    },
    {
     "name": "stderr",
     "output_type": "stream",
     "text": [
      "21.303258145363408% failure:   8%|▊         | 400/4924 [1:08:19<8:58:36,  7.14s/it] "
     ]
    },
    {
     "name": "stdout",
     "output_type": "stream",
     "text": [
      "no url 10.12659/MSM.924625\n"
     ]
    },
    {
     "name": "stderr",
     "output_type": "stream",
     "text": [
      "21.13022113022113% failure:   8%|▊         | 408/4924 [1:09:13<5:29:02,  4.37s/it]  "
     ]
    },
    {
     "name": "stdout",
     "output_type": "stream",
     "text": [
      "no url 10.33549/physiolres.934683\n"
     ]
    },
    {
     "name": "stderr",
     "output_type": "stream",
     "text": [
      "21.052631578947366% failure:   9%|▊         | 419/4924 [1:11:16<10:40:04,  8.52s/it]"
     ]
    },
    {
     "name": "stdout",
     "output_type": "stream",
     "text": [
      "no url 10.1371/journal.pone.0216610\n"
     ]
    },
    {
     "name": "stderr",
     "output_type": "stream",
     "text": [
      "21.241050119331742% failure:   9%|▊         | 420/4924 [1:11:16<7:37:25,  6.09s/it] "
     ]
    },
    {
     "name": "stdout",
     "output_type": "stream",
     "text": [
      "no url 10.1097/MD.0000000000017106\n"
     ]
    },
    {
     "name": "stderr",
     "output_type": "stream",
     "text": [
      "20.179372197309416% failure:   9%|▉         | 447/4924 [1:17:08<12:55:46, 10.40s/it]"
     ]
    },
    {
     "name": "stdout",
     "output_type": "stream",
     "text": [
      "no url 10.1016/j.biopha.2020.111112\n"
     ]
    },
    {
     "name": "stderr",
     "output_type": "stream",
     "text": [
      "20.08830022075055% failure:   9%|▉         | 454/4924 [1:18:02<10:36:15,  8.54s/it] "
     ]
    },
    {
     "name": "stdout",
     "output_type": "stream",
     "text": [
      "no url 10.1016/j.jacc.2014.03.050\n"
     ]
    },
    {
     "name": "stderr",
     "output_type": "stream",
     "text": [
      "20.0% failure:   9%|▉         | 461/4924 [1:19:00<8:44:51,  7.06s/it]               "
     ]
    },
    {
     "name": "stdout",
     "output_type": "stream",
     "text": [
      "no url 10.1096/fj.14-251223\n"
     ]
    },
    {
     "name": "stderr",
     "output_type": "stream",
     "text": [
      "20.17353579175705% failure:   9%|▉         | 462/4924 [1:19:00<6:14:25,  5.03s/it]"
     ]
    },
    {
     "name": "stdout",
     "output_type": "stream",
     "text": [
      "no url 10.1097/MD.0000000000024944\n"
     ]
    },
    {
     "name": "stderr",
     "output_type": "stream",
     "text": [
      "19.873150105708245% failure:  10%|▉         | 474/4924 [1:22:08<18:38:10, 15.08s/it]"
     ]
    },
    {
     "name": "stdout",
     "output_type": "stream",
     "text": [
      "no url 10.1159/000447838\n"
     ]
    },
    {
     "name": "stderr",
     "output_type": "stream",
     "text": [
      "20.0836820083682% failure:  10%|▉         | 479/4924 [1:24:05<23:13:40, 18.81s/it]  "
     ]
    },
    {
     "name": "stdout",
     "output_type": "stream",
     "text": [
      "no url 10.1016/j.biopha.2021.111524\n"
     ]
    },
    {
     "name": "stderr",
     "output_type": "stream",
     "text": [
      "20.250521920668056% failure:  10%|▉         | 480/4924 [1:24:05<16:21:15, 13.25s/it]"
     ]
    },
    {
     "name": "stdout",
     "output_type": "stream",
     "text": [
      "no url 10.1161/JAHA.116.004653\n"
     ]
    },
    {
     "name": "stderr",
     "output_type": "stream",
     "text": [
      "20.454545454545457% failure:  10%|▉         | 485/4924 [1:27:15<23:08:47, 18.77s/it]"
     ]
    },
    {
     "name": "stdout",
     "output_type": "stream",
     "text": [
      "no url 10.1097/MD.0000000000033385\n"
     ]
    },
    {
     "name": "stderr",
     "output_type": "stream",
     "text": [
      "20.533880903490758% failure:  10%|▉         | 488/4924 [1:27:44<14:30:40, 11.78s/it]"
     ]
    },
    {
     "name": "stdout",
     "output_type": "stream",
     "text": [
      "no url 10.1016/j.jacep.2019.11.022\n"
     ]
    },
    {
     "name": "stderr",
     "output_type": "stream",
     "text": [
      "20.69672131147541% failure:  10%|▉         | 489/4924 [1:27:44<10:15:17,  8.32s/it] "
     ]
    },
    {
     "name": "stdout",
     "output_type": "stream",
     "text": [
      "no url 10.1016/j.jacc.2015.03.549\n"
     ]
    },
    {
     "name": "stderr",
     "output_type": "stream",
     "text": [
      "20.73170731707317% failure:  10%|█         | 493/4924 [1:28:23<9:44:25,  7.91s/it]  "
     ]
    },
    {
     "name": "stdout",
     "output_type": "stream",
     "text": [
      "no url 10.1016/j.jacep.2019.12.005\n"
     ]
    },
    {
     "name": "stderr",
     "output_type": "stream",
     "text": [
      "20.55888223552894% failure:  10%|█         | 502/4924 [1:29:35<7:04:27,  5.76s/it]  "
     ]
    },
    {
     "name": "stdout",
     "output_type": "stream",
     "text": [
      "no url 10.1016/j.ejim.2023.04.013\n"
     ]
    },
    {
     "name": "stderr",
     "output_type": "stream",
     "text": [
      "20.792079207920793% failure:  10%|█         | 506/4924 [1:29:41<2:42:44,  2.21s/it]"
     ]
    },
    {
     "name": "stdout",
     "output_type": "stream",
     "text": [
      "no url 10.1152/ajpheart.00511.2019\n"
     ]
    },
    {
     "name": "stderr",
     "output_type": "stream",
     "text": [
      "20.866141732283463% failure:  10%|█         | 509/4924 [1:30:03<6:15:58,  5.11s/it]"
     ]
    },
    {
     "name": "stdout",
     "output_type": "stream",
     "text": [
      "no url 10.1016/j.molmet.2021.101306\n"
     ]
    },
    {
     "name": "stderr",
     "output_type": "stream",
     "text": [
      "20.939334637964773% failure:  10%|█         | 512/4924 [1:31:01<14:16:36, 11.65s/it]"
     ]
    },
    {
     "name": "stdout",
     "output_type": "stream",
     "text": [
      "no url 10.1016/j.jacc.2015.04.008\n"
     ]
    },
    {
     "name": "stderr",
     "output_type": "stream",
     "text": [
      "20.930232558139537% failure:  10%|█         | 517/4924 [1:31:27<6:22:05,  5.20s/it] "
     ]
    },
    {
     "name": "stdout",
     "output_type": "stream",
     "text": [
      "no url 10.1038/srep27036\n"
     ]
    },
    {
     "name": "stderr",
     "output_type": "stream",
     "text": [
      "20.88122605363985% failure:  11%|█         | 523/4924 [1:32:12<9:58:41,  8.16s/it] "
     ]
    },
    {
     "name": "stdout",
     "output_type": "stream",
     "text": [
      "no url 10.1177/1470320314562060\n"
     ]
    },
    {
     "name": "stderr",
     "output_type": "stream",
     "text": [
      "20.99236641221374% failure:  11%|█         | 525/4924 [1:32:39<11:55:06,  9.75s/it]"
     ]
    },
    {
     "name": "stdout",
     "output_type": "stream",
     "text": [
      "no url 10.1161/HYPERTENSIONAHA.115.05548\n"
     ]
    },
    {
     "name": "stderr",
     "output_type": "stream",
     "text": [
      "20.973782771535582% failure:  11%|█         | 535/4924 [1:34:35<8:34:16,  7.03s/it] "
     ]
    },
    {
     "name": "stdout",
     "output_type": "stream",
     "text": [
      "no url 10.1186/s12933-019-0814-4\n"
     ]
    },
    {
     "name": "stderr",
     "output_type": "stream",
     "text": [
      "20.925925925925924% failure:  11%|█         | 541/4924 [1:35:57<10:38:36,  8.74s/it]"
     ]
    },
    {
     "name": "stdout",
     "output_type": "stream",
     "text": [
      "no url 10.1016/j.biopha.2019.109303\n"
     ]
    },
    {
     "name": "stderr",
     "output_type": "stream",
     "text": [
      "20.75812274368231% failure:  11%|█▏        | 555/4924 [1:38:41<6:57:43,  5.74s/it]  "
     ]
    },
    {
     "name": "stdout",
     "output_type": "stream",
     "text": [
      "no url 10.18632/aging.103640\n"
     ]
    },
    {
     "name": "stderr",
     "output_type": "stream",
     "text": [
      "20.677361853832444% failure:  11%|█▏        | 562/4924 [1:39:23<5:19:07,  4.39s/it] "
     ]
    },
    {
     "name": "stdout",
     "output_type": "stream",
     "text": [
      "no url 10.1016/j.biopha.2021.112118\n"
     ]
    },
    {
     "name": "stderr",
     "output_type": "stream",
     "text": [
      "20.707964601769913% failure:  11%|█▏        | 566/4924 [1:39:54<6:17:59,  5.20s/it] "
     ]
    },
    {
     "name": "stdout",
     "output_type": "stream",
     "text": [
      "no url 10.1016/j.gpb.2016.04.005\n"
     ]
    },
    {
     "name": "stderr",
     "output_type": "stream",
     "text": [
      "20.701754385964914% failure:  12%|█▏        | 571/4924 [1:40:14<3:59:30,  3.30s/it]"
     ]
    },
    {
     "name": "stdout",
     "output_type": "stream",
     "text": [
      "no url 10.1016/j.repc.2021.03.020\n"
     ]
    },
    {
     "name": "stderr",
     "output_type": "stream",
     "text": [
      "20.408163265306122% failure:  12%|█▏        | 589/4924 [1:44:00<10:11:39,  8.47s/it]"
     ]
    },
    {
     "name": "stdout",
     "output_type": "stream",
     "text": [
      "no url 10.1002/ehf2.13735\n"
     ]
    },
    {
     "name": "stderr",
     "output_type": "stream",
     "text": [
      "20.0652528548124% failure:  12%|█▏        | 614/4924 [1:49:30<13:42:44, 11.45s/it]  "
     ]
    },
    {
     "name": "stdout",
     "output_type": "stream",
     "text": [
      "no url 10.1016/j.hjc.2019.04.005\n"
     ]
    },
    {
     "name": "stderr",
     "output_type": "stream",
     "text": [
      "20.032310177705977% failure:  13%|█▎        | 620/4924 [1:50:59<12:18:35, 10.30s/it]"
     ]
    },
    {
     "name": "stdout",
     "output_type": "stream",
     "text": [
      "no url 10.1016/j.jacc.2016.07.739\n"
     ]
    },
    {
     "name": "stderr",
     "output_type": "stream",
     "text": [
      "20.064205457463885% failure:  13%|█▎        | 624/4924 [1:51:41<10:48:40,  9.05s/it]"
     ]
    },
    {
     "name": "stdout",
     "output_type": "stream",
     "text": [
      "no url 10.1016/j.bbadis.2016.01.010\n"
     ]
    },
    {
     "name": "stderr",
     "output_type": "stream",
     "text": [
      "20.095693779904305% failure:  13%|█▎        | 628/4924 [1:52:11<9:27:23,  7.92s/it] "
     ]
    },
    {
     "name": "stdout",
     "output_type": "stream",
     "text": [
      "no url 10.18632/aging.101751\n"
     ]
    },
    {
     "name": "stderr",
     "output_type": "stream",
     "text": [
      "20.031545741324923% failure:  13%|█▎        | 635/4924 [1:54:12<18:04:44, 15.17s/it]"
     ]
    },
    {
     "name": "stdout",
     "output_type": "stream",
     "text": [
      "no url 10.7150/thno.29945\n"
     ]
    },
    {
     "name": "stderr",
     "output_type": "stream",
     "text": [
      "20.09419152276295% failure:  13%|█▎        | 638/4924 [1:54:19<7:39:49,  6.44s/it]  "
     ]
    },
    {
     "name": "stdout",
     "output_type": "stream",
     "text": [
      "no url 10.1016/j.jacc.2014.05.042\n"
     ]
    },
    {
     "name": "stderr",
     "output_type": "stream",
     "text": [
      "20.37325038880249% failure:  13%|█▎        | 644/4924 [1:55:04<9:03:53,  7.62s/it]  "
     ]
    },
    {
     "name": "stdout",
     "output_type": "stream",
     "text": [
      "no url 10.18632/aging.102465\n"
     ]
    },
    {
     "name": "stderr",
     "output_type": "stream",
     "text": [
      "20.18209408194234% failure:  13%|█▎        | 660/4924 [1:57:55<8:55:40,  7.54s/it]  "
     ]
    },
    {
     "name": "stdout",
     "output_type": "stream",
     "text": [
      "no url 10.1007/s11010-021-04227-w\n"
     ]
    },
    {
     "name": "stderr",
     "output_type": "stream",
     "text": [
      "20.12012012012012% failure:  14%|█▎        | 667/4924 [1:58:52<9:02:30,  7.65s/it]  "
     ]
    },
    {
     "name": "stdout",
     "output_type": "stream",
     "text": [
      "no url 10.1016/j.ymthe.2020.02.002\n"
     ]
    },
    {
     "name": "stderr",
     "output_type": "stream",
     "text": [
      "20.239880059970012% failure:  14%|█▎        | 668/4924 [1:58:52<6:25:33,  5.44s/it]"
     ]
    },
    {
     "name": "stdout",
     "output_type": "stream",
     "text": [
      "no url 10.1152/physiolgenomics.00041.2020\n"
     ]
    },
    {
     "name": "stderr",
     "output_type": "stream",
     "text": [
      "20.328849028400597% failure:  14%|█▎        | 670/4924 [1:59:02<5:35:41,  4.73s/it]"
     ]
    },
    {
     "name": "stdout",
     "output_type": "stream",
     "text": [
      "no url 10.1016/j.cpcardiol.2022.101539\n"
     ]
    },
    {
     "name": "stderr",
     "output_type": "stream",
     "text": [
      "20.356612184249627% failure:  14%|█▎        | 674/4924 [1:59:43<10:30:17,  8.90s/it]"
     ]
    },
    {
     "name": "stdout",
     "output_type": "stream",
     "text": [
      "no url 10.1152/ajpheart.00274.2015\n"
     ]
    },
    {
     "name": "stderr",
     "output_type": "stream",
     "text": [
      "20.444444444444446% failure:  14%|█▎        | 676/4924 [2:00:02<9:47:48,  8.30s/it] "
     ]
    },
    {
     "name": "stdout",
     "output_type": "stream",
     "text": [
      "no url 10.1016/j.jacc.2020.02.041\n"
     ]
    },
    {
     "name": "stderr",
     "output_type": "stream",
     "text": [
      "20.174165457184326% failure:  14%|█▍        | 690/4924 [2:02:02<5:22:54,  4.58s/it] "
     ]
    },
    {
     "name": "stdout",
     "output_type": "stream",
     "text": [
      "no url 10.1038/s41598-017-12167-z\n"
     ]
    },
    {
     "name": "stderr",
     "output_type": "stream",
     "text": [
      "20.28985507246377% failure:  14%|█▍        | 691/4924 [2:02:03<3:51:53,  3.29s/it] "
     ]
    },
    {
     "name": "stdout",
     "output_type": "stream",
     "text": [
      "no url 10.1016/j.cellsig.2020.109716\n"
     ]
    },
    {
     "name": "stderr",
     "output_type": "stream",
     "text": [
      "20.40520984081042% failure:  14%|█▍        | 692/4924 [2:02:03<2:49:35,  2.40s/it]"
     ]
    },
    {
     "name": "stdout",
     "output_type": "stream",
     "text": [
      "no url 10.1097/MD.0000000000003412\n"
     ]
    },
    {
     "name": "stderr",
     "output_type": "stream",
     "text": [
      "20.402298850574713% failure:  14%|█▍        | 697/4924 [2:03:04<11:10:41,  9.52s/it]"
     ]
    },
    {
     "name": "stdout",
     "output_type": "stream",
     "text": [
      "no url 10.7150/thno.15007\n"
     ]
    },
    {
     "name": "stderr",
     "output_type": "stream",
     "text": [
      "20.457796852646638% failure:  14%|█▍        | 700/4924 [2:03:39<11:28:31,  9.78s/it]"
     ]
    },
    {
     "name": "stdout",
     "output_type": "stream",
     "text": [
      "no url 10.25122/jml-2021-0071\n"
     ]
    },
    {
     "name": "stderr",
     "output_type": "stream",
     "text": [
      "20.11173184357542% failure:  15%|█▍        | 717/4924 [2:06:54<10:20:03,  8.84s/it] "
     ]
    },
    {
     "name": "stdout",
     "output_type": "stream",
     "text": [
      "no url 10.1152/ajpheart.00660.2015\n"
     ]
    },
    {
     "name": "stderr",
     "output_type": "stream",
     "text": [
      "20.2231520223152% failure:  15%|█▍        | 718/4924 [2:06:54<7:21:09,  6.29s/it]  "
     ]
    },
    {
     "name": "stdout",
     "output_type": "stream",
     "text": [
      "no url 10.5152/AnatolJCardiol.2021.901\n"
     ]
    },
    {
     "name": "stderr",
     "output_type": "stream",
     "text": [
      "20.334261838440113% failure:  15%|█▍        | 719/4924 [2:06:55<5:17:21,  4.53s/it]"
     ]
    },
    {
     "name": "stdout",
     "output_type": "stream",
     "text": [
      "no url 10.1016/j.acvd.2015.07.003\n"
     ]
    },
    {
     "name": "stderr",
     "output_type": "stream",
     "text": [
      "20.416666666666668% failure:  15%|█▍        | 721/4924 [2:06:58<3:27:16,  2.96s/it]"
     ]
    },
    {
     "name": "stdout",
     "output_type": "stream",
     "text": [
      "no url 10.1016/j.jacc.2014.02.555\n"
     ]
    },
    {
     "name": "stderr",
     "output_type": "stream",
     "text": [
      "20.32967032967033% failure:  15%|█▍        | 729/4924 [2:08:32<7:41:34,  6.60s/it]  "
     ]
    },
    {
     "name": "stdout",
     "output_type": "stream",
     "text": [
      "no url 10.1016/j.biocel.2019.105645\n"
     ]
    },
    {
     "name": "stderr",
     "output_type": "stream",
     "text": [
      "20.135135135135133% failure:  15%|█▌        | 741/4924 [2:21:11<122:00:03, 105.00s/it]"
     ]
    },
    {
     "name": "stdout",
     "output_type": "stream",
     "text": [
      "no url 10.1016/j.jacc.2014.01.050\n"
     ]
    },
    {
     "name": "stderr",
     "output_type": "stream",
     "text": [
      "19.9468085106383% failure:  15%|█▌        | 753/4924 [2:23:07<8:32:21,  7.37s/it]     "
     ]
    },
    {
     "name": "stdout",
     "output_type": "stream",
     "text": [
      "no url 10.1016/j.freeradbiomed.2021.03.013\n"
     ]
    },
    {
     "name": "stderr",
     "output_type": "stream",
     "text": [
      "19.76439790575916% failure:  16%|█▌        | 765/4924 [2:26:04<16:40:02, 14.43s/it] "
     ]
    },
    {
     "name": "stdout",
     "output_type": "stream",
     "text": [
      "no url 10.1016/j.biopha.2021.111497\n"
     ]
    },
    {
     "name": "stderr",
     "output_type": "stream",
     "text": [
      "19.843342036553523% failure:  16%|█▌        | 767/4924 [2:26:21<12:27:19, 10.79s/it]"
     ]
    },
    {
     "name": "stdout",
     "output_type": "stream",
     "text": [
      "no url 10.1161/JAHA.118.010157\n"
     ]
    },
    {
     "name": "stderr",
     "output_type": "stream",
     "text": [
      "19.947848761408082% failure:  16%|█▌        | 768/4924 [2:26:22<8:47:39,  7.62s/it] "
     ]
    },
    {
     "name": "stdout",
     "output_type": "stream",
     "text": [
      "no url 10.1097/JOM.0000000000001710\n"
     ]
    },
    {
     "name": "stderr",
     "output_type": "stream",
     "text": [
      "20.026007802340704% failure:  16%|█▌        | 770/4924 [2:26:32<6:52:25,  5.96s/it]"
     ]
    },
    {
     "name": "stdout",
     "output_type": "stream",
     "text": [
      "no url 10.1097/MD.0000000000030596\n"
     ]
    },
    {
     "name": "stderr",
     "output_type": "stream",
     "text": [
      "20.155038759689923% failure:  16%|█▌        | 775/4924 [2:27:24<7:21:46,  6.39s/it] "
     ]
    },
    {
     "name": "stdout",
     "output_type": "stream",
     "text": [
      "no url 10.1002/humu.21044\n"
     ]
    },
    {
     "name": "stderr",
     "output_type": "stream",
     "text": [
      "20.205920205920204% failure:  16%|█▌        | 778/4924 [2:27:39<5:57:59,  5.18s/it]"
     ]
    },
    {
     "name": "stdout",
     "output_type": "stream",
     "text": [
      "no url 10.7150/thno.20846\n"
     ]
    },
    {
     "name": "stderr",
     "output_type": "stream",
     "text": [
      "19.586374695863746% failure:  17%|█▋        | 823/4924 [2:34:56<9:38:51,  8.47s/it] "
     ]
    },
    {
     "name": "stdout",
     "output_type": "stream",
     "text": [
      "no url 10.1016/j.ihj.2021.06.018\n"
     ]
    },
    {
     "name": "stderr",
     "output_type": "stream",
     "text": [
      "19.612590799031477% failure:  17%|█▋        | 827/4924 [2:35:38<9:26:06,  8.29s/it] "
     ]
    },
    {
     "name": "stdout",
     "output_type": "stream",
     "text": [
      "no url 10.1161/CIRCEP.118.006242\n"
     ]
    },
    {
     "name": "stderr",
     "output_type": "stream",
     "text": [
      "19.662243667068758% failure:  17%|█▋        | 830/4924 [2:36:35<14:09:42, 12.45s/it]"
     ]
    },
    {
     "name": "stdout",
     "output_type": "stream",
     "text": [
      "no url 10.1016/j.advms.2021.08.003\n"
     ]
    },
    {
     "name": "stderr",
     "output_type": "stream",
     "text": [
      "19.7352587244284% failure:  17%|█▋        | 832/4924 [2:36:39<7:49:13,  6.88s/it]   "
     ]
    },
    {
     "name": "stdout",
     "output_type": "stream",
     "text": [
      "no url 10.5152/AnatolJCardiol.2022.2058\n"
     ]
    },
    {
     "name": "stderr",
     "output_type": "stream",
     "text": [
      "19.736842105263158% failure:  17%|█▋        | 837/4924 [2:37:01<5:29:05,  4.83s/it]"
     ]
    },
    {
     "name": "stdout",
     "output_type": "stream",
     "text": [
      "no url 10.1111/jcmm.12242\n"
     ]
    },
    {
     "name": "stderr",
     "output_type": "stream",
     "text": [
      "19.809069212410503% failure:  17%|█▋        | 839/4924 [2:37:23<7:57:40,  7.02s/it] "
     ]
    },
    {
     "name": "stdout",
     "output_type": "stream",
     "text": [
      "no url 10.1007/s12250-021-00441-4\n"
     ]
    },
    {
     "name": "stderr",
     "output_type": "stream",
     "text": [
      "19.88095238095238% failure:  17%|█▋        | 841/4924 [2:37:23<4:02:33,  3.56s/it] "
     ]
    },
    {
     "name": "stdout",
     "output_type": "stream",
     "text": [
      "no url 10.1016/j.gene.2021.145987\n"
     ]
    },
    {
     "name": "stderr",
     "output_type": "stream",
     "text": [
      "19.90521327014218% failure:  17%|█▋        | 845/4924 [2:38:04<8:02:14,  7.09s/it] "
     ]
    },
    {
     "name": "stdout",
     "output_type": "stream",
     "text": [
      "no url 10.1016/j.cdev.2021.203661\n"
     ]
    },
    {
     "name": "stderr",
     "output_type": "stream",
     "text": [
      "19.71995332555426% failure:  17%|█▋        | 858/4924 [2:42:24<22:30:52, 19.93s/it] "
     ]
    },
    {
     "name": "stdout",
     "output_type": "stream",
     "text": [
      "no url 10.1097/MD.0000000000031586\n"
     ]
    },
    {
     "name": "stderr",
     "output_type": "stream",
     "text": [
      "19.813519813519815% failure:  17%|█▋        | 859/4924 [2:42:25<15:52:19, 14.06s/it]"
     ]
    },
    {
     "name": "stdout",
     "output_type": "stream",
     "text": [
      "no url 10.1016/j.trsl.2023.04.003\n"
     ]
    },
    {
     "name": "stderr",
     "output_type": "stream",
     "text": [
      "19.860627177700348% failure:  18%|█▊        | 862/4924 [2:42:42<8:40:04,  7.68s/it] "
     ]
    },
    {
     "name": "stdout",
     "output_type": "stream",
     "text": [
      "no url 10.1016/j.tox.2022.153252\n"
     ]
    },
    {
     "name": "stderr",
     "output_type": "stream",
     "text": [
      "19.861431870669747% failure:  18%|█▊        | 867/4924 [2:43:18<6:28:02,  5.74s/it] "
     ]
    },
    {
     "name": "stdout",
     "output_type": "stream",
     "text": [
      "no url 10.3934/mbe.2021215\n"
     ]
    },
    {
     "name": "stderr",
     "output_type": "stream",
     "text": [
      "19.525959367945823% failure:  18%|█▊        | 887/4924 [2:48:02<16:23:00, 14.61s/it]"
     ]
    },
    {
     "name": "stdout",
     "output_type": "stream",
     "text": [
      "no url 10.1016/j.redox.2020.101607\n"
     ]
    },
    {
     "name": "stderr",
     "output_type": "stream",
     "text": [
      "19.50947603121516% failure:  18%|█▊        | 898/4924 [2:50:09<8:17:35,  7.42s/it]  "
     ]
    },
    {
     "name": "stdout",
     "output_type": "stream",
     "text": [
      "no url 10.1016/j.yjmcc.2020.04.032\n"
     ]
    },
    {
     "name": "stderr",
     "output_type": "stream",
     "text": [
      "19.51219512195122% failure:  18%|█▊        | 903/4924 [2:50:45<5:43:14,  5.12s/it]  "
     ]
    },
    {
     "name": "stdout",
     "output_type": "stream",
     "text": [
      "no url 10.1038/srep25404\n"
     ]
    },
    {
     "name": "stderr",
     "output_type": "stream",
     "text": [
      "19.493392070484582% failure:  18%|█▊        | 909/4924 [2:51:44<10:03:54,  9.02s/it]"
     ]
    },
    {
     "name": "stdout",
     "output_type": "stream",
     "text": [
      "no url 10.1042/BST20170037\n"
     ]
    },
    {
     "name": "stderr",
     "output_type": "stream",
     "text": [
      "19.305856832971802% failure:  19%|█▊        | 923/4924 [2:54:53<10:47:26,  9.71s/it]"
     ]
    },
    {
     "name": "stdout",
     "output_type": "stream",
     "text": [
      "HTTPSConnectionPool(host='ahajournals.org', port=443): Max retries exceeded with url: /doi/pdf/10.1161/CIRCULATIONAHA.113.007917 (Caused by SSLError(SSLError(1, '[SSL: SSLV3_ALERT_HANDSHAKE_FAILURE] sslv3 alert handshake failure (_ssl.c:1007)')))\n"
     ]
    },
    {
     "name": "stderr",
     "output_type": "stream",
     "text": [
      "19.226638023630503% failure:  19%|█▉        | 932/4924 [2:56:31<9:41:08,  8.73s/it] "
     ]
    },
    {
     "name": "stdout",
     "output_type": "stream",
     "text": [
      "no url 10.1016/j.hjc.2021.03.006\n"
     ]
    },
    {
     "name": "stderr",
     "output_type": "stream",
     "text": [
      "19.271948608137045% failure:  19%|█▉        | 935/4924 [2:57:08<11:35:23, 10.46s/it]"
     ]
    },
    {
     "name": "stdout",
     "output_type": "stream",
     "text": [
      "no url 10.1097/MD.0000000000028980\n"
     ]
    },
    {
     "name": "stderr",
     "output_type": "stream",
     "text": [
      "19.15343915343915% failure:  19%|█▉        | 946/4924 [3:00:42<19:38:24, 17.77s/it] "
     ]
    },
    {
     "name": "stdout",
     "output_type": "stream",
     "text": [
      "no url 10.1155/2019/8768164\n"
     ]
    },
    {
     "name": "stderr",
     "output_type": "stream",
     "text": [
      "19.21858500527983% failure:  19%|█▉        | 948/4924 [3:00:45<10:31:29,  9.53s/it] "
     ]
    },
    {
     "name": "stdout",
     "output_type": "stream",
     "text": [
      "no url 10.1016/j.biopha.2019.108977\n",
      "The read operation timed out\n"
     ]
    },
    {
     "name": "stderr",
     "output_type": "stream",
     "text": [
      "19.36842105263158% failure:  19%|█▉        | 951/4924 [3:03:14<28:25:49, 25.76s/it] "
     ]
    },
    {
     "name": "stdout",
     "output_type": "stream",
     "text": [
      "no url 10.33549/physiolres.932270\n"
     ]
    },
    {
     "name": "stderr",
     "output_type": "stream",
     "text": [
      "19.351464435146443% failure:  19%|█▉        | 957/4924 [3:04:16<10:25:47,  9.46s/it]"
     ]
    },
    {
     "name": "stdout",
     "output_type": "stream",
     "text": [
      "no url 10.1016/j.phrs.2022.106303\n"
     ]
    },
    {
     "name": "stderr",
     "output_type": "stream",
     "text": [
      "19.042769857433807% failure:  20%|█▉        | 983/4924 [3:10:23<11:46:44, 10.76s/it]"
     ]
    },
    {
     "name": "stdout",
     "output_type": "stream",
     "text": [
      "no url 10.1097/MD.0000000000027779\n"
     ]
    },
    {
     "name": "stderr",
     "output_type": "stream",
     "text": [
      "19.086294416243653% failure:  20%|██        | 986/4924 [3:11:02<12:40:17, 11.58s/it]"
     ]
    },
    {
     "name": "stdout",
     "output_type": "stream",
     "text": [
      "no url 10.1007/s12192-020-01157-2\n"
     ]
    },
    {
     "name": "stderr",
     "output_type": "stream",
     "text": [
      "19.153225806451612% failure:  20%|██        | 993/4924 [3:11:46<7:31:08,  6.89s/it] "
     ]
    },
    {
     "name": "stdout",
     "output_type": "stream",
     "text": [
      "no url 10.1016/j.freeradbiomed.2021.04.034\n"
     ]
    },
    {
     "name": "stderr",
     "output_type": "stream",
     "text": [
      "19.21529175050302% failure:  20%|██        | 995/4924 [3:12:06<8:15:31,  7.57s/it]  "
     ]
    },
    {
     "name": "stdout",
     "output_type": "stream",
     "text": [
      "no url 10.1016/j.ymthe.2023.04.007\n"
     ]
    },
    {
     "name": "stderr",
     "output_type": "stream",
     "text": [
      "19.2964824120603% failure:  20%|██        | 996/4924 [3:12:06<5:51:22,  5.37s/it] "
     ]
    },
    {
     "name": "stdout",
     "output_type": "stream",
     "text": [
      "no url 10.1097/MD.0000000000017653\n"
     ]
    },
    {
     "name": "stderr",
     "output_type": "stream",
     "text": [
      "19.3% failure:  20%|██        | 1001/4924 [3:13:39<15:45:53, 14.47s/it]              "
     ]
    },
    {
     "name": "stdout",
     "output_type": "stream",
     "text": [
      "no url 10.1016/j.arr.2020.101090\n"
     ]
    },
    {
     "name": "stderr",
     "output_type": "stream",
     "text": [
      "19.38061938061938% failure:  20%|██        | 1002/4924 [3:13:40<11:08:59, 10.23s/it]"
     ]
    },
    {
     "name": "stdout",
     "output_type": "stream",
     "text": [
      "no url 10.1161/JAHA.122.026160\n"
     ]
    },
    {
     "name": "stderr",
     "output_type": "stream",
     "text": [
      "19.21182266009852% failure:  21%|██        | 1016/4924 [3:15:54<11:13:36, 10.34s/it] "
     ]
    },
    {
     "name": "stdout",
     "output_type": "stream",
     "text": [
      "no url 10.1155/2019/9489826\n"
     ]
    },
    {
     "name": "stderr",
     "output_type": "stream",
     "text": [
      "19.234543670264966% failure:  21%|██        | 1020/4924 [3:16:43<10:57:58, 10.11s/it]"
     ]
    },
    {
     "name": "stdout",
     "output_type": "stream",
     "text": [
      "no url 10.1097/MD.0000000000006825\n"
     ]
    },
    {
     "name": "stderr",
     "output_type": "stream",
     "text": [
      "19.29480901077375% failure:  21%|██        | 1022/4924 [3:16:47<6:13:49,  5.75s/it]  "
     ]
    },
    {
     "name": "stdout",
     "output_type": "stream",
     "text": [
      "no url 10.1080/21655979.2021.2024335\n"
     ]
    },
    {
     "name": "stderr",
     "output_type": "stream",
     "text": [
      "19.452590420332356% failure:  21%|██        | 1024/4924 [3:16:48<3:12:55,  2.97s/it]"
     ]
    },
    {
     "name": "stdout",
     "output_type": "stream",
     "text": [
      "no url 10.1152/ajpheart.00181.2015\n"
     ]
    },
    {
     "name": "stderr",
     "output_type": "stream",
     "text": [
      "19.51219512195122% failure:  21%|██        | 1026/4924 [3:17:03<5:04:25,  4.69s/it] "
     ]
    },
    {
     "name": "stdout",
     "output_type": "stream",
     "text": [
      "no url 10.1016/j.vph.2018.10.010\n"
     ]
    },
    {
     "name": "stderr",
     "output_type": "stream",
     "text": [
      "19.460500963391137% failure:  21%|██        | 1039/4924 [3:19:12<8:11:18,  7.59s/it] "
     ]
    },
    {
     "name": "stdout",
     "output_type": "stream",
     "text": [
      "no url 10.18632/aging.202785\n"
     ]
    },
    {
     "name": "stderr",
     "output_type": "stream",
     "text": [
      "19.37022900763359% failure:  21%|██▏       | 1049/4924 [3:21:43<11:52:31, 11.03s/it] "
     ]
    },
    {
     "name": "stdout",
     "output_type": "stream",
     "text": [
      "no url 10.1016/j.cbi.2022.110195\n"
     ]
    },
    {
     "name": "stderr",
     "output_type": "stream",
     "text": [
      "19.376181474480152% failure:  22%|██▏       | 1059/4924 [3:23:44<8:00:50,  7.46s/it] "
     ]
    },
    {
     "name": "stdout",
     "output_type": "stream",
     "text": [
      "no url 10.1016/j.redox.2015.11.006\n"
     ]
    },
    {
     "name": "stderr",
     "output_type": "stream",
     "text": [
      "19.180633147113593% failure:  22%|██▏       | 1075/4924 [3:27:14<13:31:28, 12.65s/it]"
     ]
    },
    {
     "name": "stdout",
     "output_type": "stream",
     "text": [
      "no url 10.1016/j.scr.2023.103046\n"
     ]
    },
    {
     "name": "stderr",
     "output_type": "stream",
     "text": [
      "19.20222634508349% failure:  22%|██▏       | 1079/4924 [3:28:05<10:21:38,  9.70s/it] "
     ]
    },
    {
     "name": "stdout",
     "output_type": "stream",
     "text": [
      "no url 10.1152/ajpheart.00654.2014\n"
     ]
    },
    {
     "name": "stderr",
     "output_type": "stream",
     "text": [
      "19.223659889094268% failure:  22%|██▏       | 1083/4924 [3:28:39<8:51:33,  8.30s/it] "
     ]
    },
    {
     "name": "stdout",
     "output_type": "stream",
     "text": [
      "no url 10.1016/j.repc.2019.09.014\n"
     ]
    },
    {
     "name": "stderr",
     "output_type": "stream",
     "text": [
      "19.22723091076357% failure:  22%|██▏       | 1088/4924 [3:29:16<6:16:20,  5.89s/it]  "
     ]
    },
    {
     "name": "stdout",
     "output_type": "stream",
     "text": [
      "no url 10.1126/scitranslmed.abd0914\n"
     ]
    },
    {
     "name": "stderr",
     "output_type": "stream",
     "text": [
      "19.28374655647383% failure:  22%|██▏       | 1090/4924 [3:29:20<4:00:54,  3.77s/it] "
     ]
    },
    {
     "name": "stdout",
     "output_type": "stream",
     "text": [
      "no url 10.1016/j.ejphar.2016.09.015\n"
     ]
    },
    {
     "name": "stderr",
     "output_type": "stream",
     "text": [
      "19.287020109689216% failure:  22%|██▏       | 1095/4924 [3:40:31<197:50:50, 186.01s/it]"
     ]
    },
    {
     "name": "stdout",
     "output_type": "stream",
     "text": [
      "('Connection broken: IncompleteRead(872 bytes read, 2153731 more expected)', IncompleteRead(872 bytes read, 2153731 more expected))\n"
     ]
    },
    {
     "name": "stderr",
     "output_type": "stream",
     "text": [
      "19.237749546279492% failure:  22%|██▏       | 1103/4924 [3:45:38<57:51:46, 54.52s/it]  "
     ]
    },
    {
     "name": "stdout",
     "output_type": "stream",
     "text": [
      "no url 10.18632/aging.103084\n"
     ]
    },
    {
     "name": "stderr",
     "output_type": "stream",
     "text": [
      "19.223826714801444% failure:  23%|██▎       | 1109/4924 [3:51:31<38:21:09, 36.19s/it]  "
     ]
    },
    {
     "name": "stdout",
     "output_type": "stream",
     "text": [
      "no url 10.1155/2019/1802879\n"
     ]
    },
    {
     "name": "stderr",
     "output_type": "stream",
     "text": [
      "19.210053859964095% failure:  23%|██▎       | 1115/4924 [3:54:05<22:05:51, 20.89s/it]"
     ]
    },
    {
     "name": "stdout",
     "output_type": "stream",
     "text": [
      "no url 10.1016/j.hjc.2018.06.004\n"
     ]
    },
    {
     "name": "stderr",
     "output_type": "stream",
     "text": [
      "19.302949061662197% failure:  23%|██▎       | 1120/4924 [3:54:49<11:57:10, 11.31s/it]"
     ]
    },
    {
     "name": "stdout",
     "output_type": "stream",
     "text": [
      "no url 10.7150/thno.34895\n"
     ]
    },
    {
     "name": "stderr",
     "output_type": "stream",
     "text": [
      "19.35771632471008% failure:  23%|██▎       | 1122/4924 [3:55:02<8:36:09,  8.15s/it]  "
     ]
    },
    {
     "name": "stdout",
     "output_type": "stream",
     "text": [
      "no url 10.1042/BSR20180934\n"
     ]
    },
    {
     "name": "stderr",
     "output_type": "stream",
     "text": [
      "19.326241134751772% failure:  23%|██▎       | 1129/4924 [3:56:15<8:58:02,  8.51s/it] "
     ]
    },
    {
     "name": "stdout",
     "output_type": "stream",
     "text": [
      "no url 10.1093/cvr/cvab248\n"
     ]
    },
    {
     "name": "stderr",
     "output_type": "stream",
     "text": [
      "19.261213720316622% failure:  23%|██▎       | 1138/4924 [3:58:01<11:04:28, 10.53s/it]"
     ]
    },
    {
     "name": "stdout",
     "output_type": "stream",
     "text": [
      "no url 10.1016/j.hjc.2018.08.007\n"
     ]
    },
    {
     "name": "stderr",
     "output_type": "stream",
     "text": [
      "19.385964912280702% failure:  23%|██▎       | 1141/4924 [3:58:10<5:13:20,  4.97s/it] "
     ]
    },
    {
     "name": "stdout",
     "output_type": "stream",
     "text": [
      "no url 10.7150/thno.56327\n"
     ]
    },
    {
     "name": "stderr",
     "output_type": "stream",
     "text": [
      "19.439579684763572% failure:  23%|██▎       | 1143/4924 [3:58:35<7:56:06,  7.56s/it] "
     ]
    },
    {
     "name": "stdout",
     "output_type": "stream",
     "text": [
      "no url 10.1016/j.addr.2015.05.003\n"
     ]
    },
    {
     "name": "stderr",
     "output_type": "stream",
     "text": [
      "19.510061242344705% failure:  23%|██▎       | 1144/4924 [3:58:35<5:38:14,  5.37s/it]"
     ]
    },
    {
     "name": "stdout",
     "output_type": "stream",
     "text": [
      "no url 10.1152/physiolgenomics.00163.2011\n"
     ]
    },
    {
     "name": "stderr",
     "output_type": "stream",
     "text": [
      "19.343696027633854% failure:  24%|██▎       | 1159/4924 [4:00:57<4:42:49,  4.51s/it] "
     ]
    },
    {
     "name": "stdout",
     "output_type": "stream",
     "text": [
      "no url 10.1080/21655979.2021.2024688\n"
     ]
    },
    {
     "name": "stderr",
     "output_type": "stream",
     "text": [
      "19.3631669535284% failure:  24%|██▎       | 1163/4924 [4:01:30<5:40:06,  5.43s/it]   "
     ]
    },
    {
     "name": "stdout",
     "output_type": "stream",
     "text": [
      "no url 10.1016/j.hjc.2020.04.015\n"
     ]
    },
    {
     "name": "stderr",
     "output_type": "stream",
     "text": [
      "19.382504288164665% failure:  24%|██▎       | 1167/4924 [4:01:47<3:39:07,  3.50s/it]"
     ]
    },
    {
     "name": "stdout",
     "output_type": "stream",
     "text": [
      "no url 10.1242/jcs.041723\n"
     ]
    },
    {
     "name": "stderr",
     "output_type": "stream",
     "text": [
      "19.470538001707943% failure:  24%|██▍       | 1172/4924 [4:02:31<7:03:01,  6.76s/it]"
     ]
    },
    {
     "name": "stdout",
     "output_type": "stream",
     "text": [
      "no url 10.1159/000258197\n"
     ]
    },
    {
     "name": "stderr",
     "output_type": "stream",
     "text": [
      "19.423240033927055% failure:  24%|██▍       | 1180/4924 [4:05:15<20:00:00, 19.23s/it]"
     ]
    },
    {
     "name": "stdout",
     "output_type": "stream",
     "text": [
      "no url 10.1097/CM9.0000000000002389\n"
     ]
    },
    {
     "name": "stderr",
     "output_type": "stream",
     "text": [
      "19.425675675675674% failure:  24%|██▍       | 1185/4924 [4:06:01<9:50:50,  9.48s/it] "
     ]
    },
    {
     "name": "stdout",
     "output_type": "stream",
     "text": [
      "no url 10.1016/j.jacc.2014.03.064\n"
     ]
    },
    {
     "name": "stderr",
     "output_type": "stream",
     "text": [
      "19.362950544844928% failure:  24%|██▍       | 1194/4924 [4:07:51<9:15:08,  8.93s/it] "
     ]
    },
    {
     "name": "stdout",
     "output_type": "stream",
     "text": [
      "no url 10.1002/ehf2.13766\n"
     ]
    },
    {
     "name": "stderr",
     "output_type": "stream",
     "text": [
      "19.5162635529608% failure:  24%|██▍       | 1200/4924 [4:08:10<2:44:36,  2.65s/it]   "
     ]
    },
    {
     "name": "stdout",
     "output_type": "stream",
     "text": [
      "no url 10.1186/s10020-021-00328-w\n"
     ]
    },
    {
     "name": "stderr",
     "output_type": "stream",
     "text": [
      "19.51827242524917% failure:  24%|██▍       | 1205/4924 [4:08:31<3:34:40,  3.46s/it] "
     ]
    },
    {
     "name": "stdout",
     "output_type": "stream",
     "text": [
      "no url 10.7150/thno.62304\n"
     ]
    },
    {
     "name": "stderr",
     "output_type": "stream",
     "text": [
      "19.5364238410596% failure:  25%|██▍       | 1209/4924 [4:08:55<4:44:01,  4.59s/it]  "
     ]
    },
    {
     "name": "stdout",
     "output_type": "stream",
     "text": [
      "no url 10.1177/09636897221136787\n"
     ]
    },
    {
     "name": "stderr",
     "output_type": "stream",
     "text": [
      "19.522240527182866% failure:  25%|██▍       | 1215/4924 [4:09:38<5:46:44,  5.61s/it]"
     ]
    },
    {
     "name": "stdout",
     "output_type": "stream",
     "text": [
      "no url 10.1016/j.jacc.2013.03.084\n"
     ]
    },
    {
     "name": "stderr",
     "output_type": "stream",
     "text": [
      "19.654605263157894% failure:  25%|██▍       | 1217/4924 [4:09:38<2:55:37,  2.84s/it]"
     ]
    },
    {
     "name": "stdout",
     "output_type": "stream",
     "text": [
      "no url 10.1097/MD.0000000000026627\n"
     ]
    },
    {
     "name": "stderr",
     "output_type": "stream",
     "text": [
      "19.623875715453803% failure:  25%|██▍       | 1224/4924 [4:11:20<10:35:52, 10.31s/it]"
     ]
    },
    {
     "name": "stdout",
     "output_type": "stream",
     "text": [
      "no url 10.1016/j.vph.2018.11.006\n"
     ]
    },
    {
     "name": "stderr",
     "output_type": "stream",
     "text": [
      "19.435483870967744% failure:  25%|██▌       | 1241/4924 [4:14:45<6:21:32,  6.22s/it] "
     ]
    },
    {
     "name": "stdout",
     "output_type": "stream",
     "text": [
      "no url 10.1016/j.ajog.2021.06.066\n"
     ]
    },
    {
     "name": "stderr",
     "output_type": "stream",
     "text": [
      "19.549477071600965% failure:  25%|██▌       | 1244/4924 [4:15:03<4:54:25,  4.80s/it]"
     ]
    },
    {
     "name": "stdout",
     "output_type": "stream",
     "text": [
      "no url 10.17219/acem/115088\n"
     ]
    },
    {
     "name": "stderr",
     "output_type": "stream",
     "text": [
      "19.647153167602248% failure:  25%|██▌       | 1248/4924 [4:15:38<5:43:24,  5.61s/it] "
     ]
    },
    {
     "name": "stdout",
     "output_type": "stream",
     "text": [
      "no url 10.7150/thno.27285\n"
     ]
    },
    {
     "name": "stderr",
     "output_type": "stream",
     "text": [
      "19.618745035742652% failure:  26%|██▌       | 1260/4924 [4:17:16<3:30:12,  3.44s/it] "
     ]
    },
    {
     "name": "stdout",
     "output_type": "stream",
     "text": [
      "no url 10.1016/j.ygeno.2019.04.009\n"
     ]
    },
    {
     "name": "stderr",
     "output_type": "stream",
     "text": [
      "19.5447409733124% failure:  26%|██▌       | 1275/4924 [4:20:03<6:40:18,  6.58s/it]   "
     ]
    },
    {
     "name": "stdout",
     "output_type": "stream",
     "text": [
      "no url 10.1016/j.bbamcr.2016.01.024\n"
     ]
    },
    {
     "name": "stderr",
     "output_type": "stream",
     "text": [
      "19.607843137254903% failure:  26%|██▌       | 1276/4924 [4:20:03<4:44:21,  4.68s/it]"
     ]
    },
    {
     "name": "stdout",
     "output_type": "stream",
     "text": [
      "no url 10.1097/MD.0000000000027744\n"
     ]
    },
    {
     "name": "stderr",
     "output_type": "stream",
     "text": [
      "19.670846394984327% failure:  26%|██▌       | 1277/4924 [4:20:04<3:26:43,  3.40s/it]"
     ]
    },
    {
     "name": "stdout",
     "output_type": "stream",
     "text": [
      "no url 10.1161/CIRCRESAHA.116.310529\n"
     ]
    },
    {
     "name": "stderr",
     "output_type": "stream",
     "text": [
      "19.5500387897595% failure:  26%|██▌       | 1290/4924 [4:22:48<8:35:23,  8.51s/it]   "
     ]
    },
    {
     "name": "stdout",
     "output_type": "stream",
     "text": [
      "no url 10.1111/jcmm.13739\n"
     ]
    },
    {
     "name": "stderr",
     "output_type": "stream",
     "text": [
      "19.52344350499616% failure:  26%|██▋       | 1302/4924 [4:24:53<5:03:25,  5.03s/it]  "
     ]
    },
    {
     "name": "stdout",
     "output_type": "stream",
     "text": [
      "no url 10.1016/j.biopha.2021.112088\n"
     ]
    },
    {
     "name": "stderr",
     "output_type": "stream",
     "text": [
      "19.570222563315426% failure:  26%|██▋       | 1304/4924 [4:25:15<7:04:02,  7.03s/it]"
     ]
    },
    {
     "name": "stdout",
     "output_type": "stream",
     "text": [
      "no url 10.1152/ajpheart.00899.2014\n"
     ]
    },
    {
     "name": "stderr",
     "output_type": "stream",
     "text": [
      "19.51219512195122% failure:  27%|██▋       | 1313/4924 [4:27:22<13:16:35, 13.24s/it] "
     ]
    },
    {
     "name": "stdout",
     "output_type": "stream",
     "text": [
      "no url 10.7150/thno.68232\n"
     ]
    },
    {
     "name": "stderr",
     "output_type": "stream",
     "text": [
      "19.543726235741445% failure:  27%|██▋       | 1316/4924 [4:27:52<9:14:18,  9.22s/it] "
     ]
    },
    {
     "name": "stdout",
     "output_type": "stream",
     "text": [
      "no url 10.1097/MD.0000000000030221\n"
     ]
    },
    {
     "name": "stderr",
     "output_type": "stream",
     "text": [
      "19.58997722095672% failure:  27%|██▋       | 1318/4924 [4:28:08<7:55:06,  7.91s/it]  "
     ]
    },
    {
     "name": "stdout",
     "output_type": "stream",
     "text": [
      "no url 10.1155/2019/4727283\n"
     ]
    },
    {
     "name": "stderr",
     "output_type": "stream",
     "text": [
      "19.682059046177137% failure:  27%|██▋       | 1322/4924 [4:28:32<4:43:59,  4.73s/it] "
     ]
    },
    {
     "name": "stdout",
     "output_type": "stream",
     "text": [
      "no url 10.1016/j.bbamcr.2012.08.010\n"
     ]
    },
    {
     "name": "stderr",
     "output_type": "stream",
     "text": [
      "19.71299093655589% failure:  27%|██▋       | 1325/4924 [4:28:50<5:20:30,  5.34s/it] "
     ]
    },
    {
     "name": "stdout",
     "output_type": "stream",
     "text": [
      "no url 10.1128/MCB.00580-20\n"
     ]
    },
    {
     "name": "stderr",
     "output_type": "stream",
     "text": [
      "19.78931527464259% failure:  27%|██▋       | 1330/4924 [4:29:12<3:39:44,  3.67s/it] "
     ]
    },
    {
     "name": "stdout",
     "output_type": "stream",
     "text": [
      "no url 10.1016/j.ygeno.2022.110319\n"
     ]
    },
    {
     "name": "stderr",
     "output_type": "stream",
     "text": [
      "19.86506746626687% failure:  27%|██▋       | 1335/4924 [4:32:18<51:09:30, 51.32s/it]"
     ]
    },
    {
     "name": "stdout",
     "output_type": "stream",
     "text": [
      "HTTPSConnectionPool(host='thij.org', port=443): Max retries exceeded with url: /doi/pdf/10.14503/THIJ-16-5955 (Caused by ConnectTimeoutError(<urllib3.connection.HTTPSConnection object at 0x2d0ac0e80>, 'Connection to thij.org timed out. (connect timeout=None)'))\n"
     ]
    },
    {
     "name": "stderr",
     "output_type": "stream",
     "text": [
      "19.925373134328357% failure:  27%|██▋       | 1341/4924 [4:34:54<20:58:35, 21.08s/it]"
     ]
    },
    {
     "name": "stdout",
     "output_type": "stream",
     "text": [
      "no url 10.33594/000000309\n"
     ]
    },
    {
     "name": "stderr",
     "output_type": "stream",
     "text": [
      "19.98508575689784% failure:  27%|██▋       | 1342/4924 [4:34:54<14:45:05, 14.83s/it] "
     ]
    },
    {
     "name": "stdout",
     "output_type": "stream",
     "text": [
      "no url 10.7150/thno.45459\n"
     ]
    },
    {
     "name": "stderr",
     "output_type": "stream",
     "text": [
      "20.044709388971686% failure:  27%|██▋       | 1343/4924 [4:34:54<10:23:16, 10.44s/it]"
     ]
    },
    {
     "name": "stdout",
     "output_type": "stream",
     "text": [
      "no url 10.1016/j.ejphar.2022.175150\n"
     ]
    },
    {
     "name": "stderr",
     "output_type": "stream",
     "text": [
      "20.02967359050445% failure:  27%|██▋       | 1349/4924 [4:36:03<9:41:47,  9.76s/it]  "
     ]
    },
    {
     "name": "stdout",
     "output_type": "stream",
     "text": [
      "no url 10.1080/21655979.2022.2059862\n"
     ]
    },
    {
     "name": "stderr",
     "output_type": "stream",
     "text": [
      "19.91182953710507% failure:  28%|██▊       | 1362/4924 [4:38:16<6:18:11,  6.37s/it]  "
     ]
    },
    {
     "name": "stdout",
     "output_type": "stream",
     "text": [
      "no url 10.1016/j.cellsig.2022.110245\n"
     ]
    },
    {
     "name": "stderr",
     "output_type": "stream",
     "text": [
      "19.941348973607038% failure:  28%|██▊       | 1365/4924 [4:38:33<5:18:30,  5.37s/it]"
     ]
    },
    {
     "name": "stdout",
     "output_type": "stream",
     "text": [
      "no url 10.1016/j.jacc.2021.12.007\n"
     ]
    },
    {
     "name": "stderr",
     "output_type": "stream",
     "text": [
      "19.98535871156662% failure:  28%|██▊       | 1367/4924 [4:38:45<5:06:20,  5.17s/it] "
     ]
    },
    {
     "name": "stdout",
     "output_type": "stream",
     "text": [
      "no url 10.1016/j.gde.2021.05.007\n"
     ]
    },
    {
     "name": "stderr",
     "output_type": "stream",
     "text": [
      "19.941775836972344% failure:  28%|██▊       | 1375/4924 [4:39:57<6:56:03,  7.03s/it]"
     ]
    },
    {
     "name": "stdout",
     "output_type": "stream",
     "text": [
      "no url 10.1016/j.jacc.2015.09.053\n"
     ]
    },
    {
     "name": "stderr",
     "output_type": "stream",
     "text": [
      "19.985517740767563% failure:  28%|██▊       | 1382/4924 [4:40:55<6:22:43,  6.48s/it] "
     ]
    },
    {
     "name": "stdout",
     "output_type": "stream",
     "text": [
      "no url 10.1080/15548627.2021.1883881\n"
     ]
    },
    {
     "name": "stderr",
     "output_type": "stream",
     "text": [
      "20.04341534008683% failure:  28%|██▊       | 1383/4924 [4:40:56<4:36:58,  4.69s/it] "
     ]
    },
    {
     "name": "stdout",
     "output_type": "stream",
     "text": [
      "no url 10.1038/s41598-017-09198-x\n"
     ]
    },
    {
     "name": "stderr",
     "output_type": "stream",
     "text": [
      "20.10122921185828% failure:  28%|██▊       | 1384/4924 [4:40:56<3:18:54,  3.37s/it]"
     ]
    },
    {
     "name": "stdout",
     "output_type": "stream",
     "text": [
      "no url 10.1097/MD.0000000000010712\n"
     ]
    },
    {
     "name": "stderr",
     "output_type": "stream",
     "text": [
      "20.057306590257877% failure:  28%|██▊       | 1397/4924 [4:43:16<6:08:53,  6.28s/it] "
     ]
    },
    {
     "name": "stdout",
     "output_type": "stream",
     "text": [
      "no url 10.1016/j.clinsp.2022.100038\n"
     ]
    },
    {
     "name": "stderr",
     "output_type": "stream",
     "text": [
      "20.0% failure:  29%|██▊       | 1406/4924 [4:44:44<7:55:02,  8.10s/it]               "
     ]
    },
    {
     "name": "stdout",
     "output_type": "stream",
     "text": [
      "no url 10.1152/ajpheart.00571.2020\n"
     ]
    },
    {
     "name": "stderr",
     "output_type": "stream",
     "text": [
      "20.02840909090909% failure:  29%|██▊       | 1409/4924 [4:44:57<5:00:17,  5.13s/it] "
     ]
    },
    {
     "name": "stdout",
     "output_type": "stream",
     "text": [
      "no url 10.1111/apha.12681\n"
     ]
    },
    {
     "name": "stderr",
     "output_type": "stream",
     "text": [
      "19.986023759608663% failure:  29%|██▉       | 1432/4924 [4:48:51<7:25:22,  7.65s/it] "
     ]
    },
    {
     "name": "stdout",
     "output_type": "stream",
     "text": [
      "no url 10.1152/physiolgenomics.00049.2015\n"
     ]
    },
    {
     "name": "stderr",
     "output_type": "stream",
     "text": [
      "19.930555555555557% failure:  29%|██▉       | 1441/4924 [4:50:10<6:23:13,  6.60s/it] "
     ]
    },
    {
     "name": "stdout",
     "output_type": "stream",
     "text": [
      "no url 10.7150/thno.31052\n"
     ]
    },
    {
     "name": "stderr",
     "output_type": "stream",
     "text": [
      "19.91701244813278% failure:  29%|██▉       | 1447/4924 [4:51:24<8:28:35,  8.78s/it]  "
     ]
    },
    {
     "name": "stdout",
     "output_type": "stream",
     "text": [
      "no url 10.1016/j.biopha.2019.108606\n"
     ]
    },
    {
     "name": "stderr",
     "output_type": "stream",
     "text": [
      "19.86254295532646% failure:  30%|██▉       | 1456/4924 [4:53:32<8:41:06,  9.02s/it]  "
     ]
    },
    {
     "name": "stdout",
     "output_type": "stream",
     "text": [
      "no url 10.2174/2211536610666210707113605\n"
     ]
    },
    {
     "name": "stderr",
     "output_type": "stream",
     "text": [
      "19.917582417582416% failure:  30%|██▉       | 1457/4924 [4:53:33<6:12:58,  6.45s/it]"
     ]
    },
    {
     "name": "stdout",
     "output_type": "stream",
     "text": [
      "no url 10.18632/aging.102112\n"
     ]
    },
    {
     "name": "stderr",
     "output_type": "stream",
     "text": [
      "19.84993178717599% failure:  30%|██▉       | 1467/4924 [4:54:46<5:34:25,  5.80s/it] "
     ]
    },
    {
     "name": "stdout",
     "output_type": "stream",
     "text": [
      "no url 10.1016/j.mce.2020.110944\n"
     ]
    },
    {
     "name": "stderr",
     "output_type": "stream",
     "text": [
      "19.891008174386922% failure:  30%|██▉       | 1469/4924 [4:54:50<3:31:06,  3.67s/it]"
     ]
    },
    {
     "name": "stdout",
     "output_type": "stream",
     "text": [
      "no url 10.1016/j.biopha.2021.112596\n"
     ]
    },
    {
     "name": "stderr",
     "output_type": "stream",
     "text": [
      "19.91869918699187% failure:  30%|██▉       | 1477/4924 [4:55:49<5:34:44,  5.83s/it]  "
     ]
    },
    {
     "name": "stdout",
     "output_type": "stream",
     "text": [
      "no url 10.1152/japplphysiol.00699.2014\n"
     ]
    },
    {
     "name": "stderr",
     "output_type": "stream",
     "text": [
      "19.959404600811908% failure:  30%|███       | 1479/4924 [4:55:53<3:27:16,  3.61s/it]"
     ]
    },
    {
     "name": "stdout",
     "output_type": "stream",
     "text": [
      "no url 10.7150/thno.48389\n"
     ]
    },
    {
     "name": "stderr",
     "output_type": "stream",
     "text": [
      "20.013522650439487% failure:  30%|███       | 1480/4924 [4:55:53<2:30:07,  2.62s/it]"
     ]
    },
    {
     "name": "stdout",
     "output_type": "stream",
     "text": [
      "no url 10.1016/j.jacc.2013.07.118\n"
     ]
    },
    {
     "name": "stderr",
     "output_type": "stream",
     "text": [
      "20.026881720430108% failure:  30%|███       | 1489/4924 [4:57:11<5:00:02,  5.24s/it] "
     ]
    },
    {
     "name": "stdout",
     "output_type": "stream",
     "text": [
      "no url 10.1155/2019/1528278\n"
     ]
    },
    {
     "name": "stderr",
     "output_type": "stream",
     "text": [
      "20.026791694574683% failure:  30%|███       | 1494/4924 [4:58:07<6:44:55,  7.08s/it] "
     ]
    },
    {
     "name": "stdout",
     "output_type": "stream",
     "text": [
      "no url 10.1186/s12864-017-3533-9\n"
     ]
    },
    {
     "name": "stderr",
     "output_type": "stream",
     "text": [
      "20.0133422281521% failure:  30%|███       | 1500/4924 [4:58:33<4:06:28,  4.32s/it]  "
     ]
    },
    {
     "name": "stdout",
     "output_type": "stream",
     "text": [
      "no url 10.1186/s12864-023-09441-y\n"
     ]
    },
    {
     "name": "stderr",
     "output_type": "stream",
     "text": [
      "20.0% failure:  31%|███       | 1506/4924 [4:59:24<7:24:26,  7.80s/it]               "
     ]
    },
    {
     "name": "stdout",
     "output_type": "stream",
     "text": [
      "no url 10.5603/cj.2011.0032\n"
     ]
    },
    {
     "name": "stderr",
     "output_type": "stream",
     "text": [
      "20.07952286282306% failure:  31%|███       | 1510/4924 [4:59:48<6:09:54,  6.50s/it] "
     ]
    },
    {
     "name": "stdout",
     "output_type": "stream",
     "text": [
      "no url 10.1016/j.atherosclerosis.2023.03.019\n"
     ]
    },
    {
     "name": "stderr",
     "output_type": "stream",
     "text": [
      "20.092531394580305% failure:  31%|███       | 1514/4924 [5:00:28<7:16:47,  7.69s/it] "
     ]
    },
    {
     "name": "stdout",
     "output_type": "stream",
     "text": [
      "no url 10.1016/j.jacc.2020.03.003\n"
     ]
    },
    {
     "name": "stderr",
     "output_type": "stream",
     "text": [
      "20.078740157480315% failure:  31%|███       | 1525/4924 [5:02:06<5:26:06,  5.76s/it] "
     ]
    },
    {
     "name": "stdout",
     "output_type": "stream",
     "text": [
      "no url 10.1186/s13059-016-1142-6\n"
     ]
    },
    {
     "name": "stderr",
     "output_type": "stream",
     "text": [
      "20.13114754098361% failure:  31%|███       | 1526/4924 [5:02:07<3:53:38,  4.13s/it] "
     ]
    },
    {
     "name": "stdout",
     "output_type": "stream",
     "text": [
      "no url 10.7150/thno.19851\n"
     ]
    },
    {
     "name": "stderr",
     "output_type": "stream",
     "text": [
      "20.14341590612777% failure:  31%|███       | 1535/4924 [5:04:36<10:40:25, 11.34s/it] "
     ]
    },
    {
     "name": "stdout",
     "output_type": "stream",
     "text": [
      "no url 10.1186/s12967-018-1411-0\n"
     ]
    },
    {
     "name": "stderr",
     "output_type": "stream",
     "text": [
      "20.247395833333336% failure:  31%|███       | 1537/4924 [5:04:36<5:19:11,  5.65s/it]"
     ]
    },
    {
     "name": "stdout",
     "output_type": "stream",
     "text": [
      "no url 10.1097/FJC.0000000000001123\n"
     ]
    },
    {
     "name": "stderr",
     "output_type": "stream",
     "text": [
      "20.33788174139051% failure:  31%|███▏      | 1540/4924 [5:04:48<3:28:25,  3.70s/it] "
     ]
    },
    {
     "name": "stdout",
     "output_type": "stream",
     "text": [
      "no url 10.1002/jcla.23491\n"
     ]
    },
    {
     "name": "stderr",
     "output_type": "stream",
     "text": [
      "20.376378974691757% failure:  31%|███▏      | 1542/4924 [5:05:45<15:14:25, 16.22s/it]"
     ]
    },
    {
     "name": "stdout",
     "output_type": "stream",
     "text": [
      "HTTPSConnectionPool(host='api.unstructured.io', port=443): Read timed out. (read timeout=None)\n"
     ]
    },
    {
     "ename": "ConnectionError",
     "evalue": "HTTPSConnectionPool(host='api.unpaywall.org', port=443): Max retries exceeded with url: /v2/10.1074/jbc.M114.578682?email=ryandu9221@gmail.com (Caused by NameResolutionError(\"<urllib3.connection.HTTPSConnection object at 0x299282950>: Failed to resolve 'api.unpaywall.org' ([Errno 8] nodename nor servname provided, or not known)\"))",
     "output_type": "error",
     "traceback": [
      "\u001b[0;31m---------------------------------------------------------------------------\u001b[0m",
      "\u001b[0;31mgaierror\u001b[0m                                  Traceback (most recent call last)",
      "File \u001b[0;32m~/Desktop/iGEM/2023/cadmir/.conda/lib/python3.10/site-packages/urllib3/connection.py:203\u001b[0m, in \u001b[0;36mHTTPConnection._new_conn\u001b[0;34m(self)\u001b[0m\n\u001b[1;32m    202\u001b[0m \u001b[39mtry\u001b[39;00m:\n\u001b[0;32m--> 203\u001b[0m     sock \u001b[39m=\u001b[39m connection\u001b[39m.\u001b[39;49mcreate_connection(\n\u001b[1;32m    204\u001b[0m         (\u001b[39mself\u001b[39;49m\u001b[39m.\u001b[39;49m_dns_host, \u001b[39mself\u001b[39;49m\u001b[39m.\u001b[39;49mport),\n\u001b[1;32m    205\u001b[0m         \u001b[39mself\u001b[39;49m\u001b[39m.\u001b[39;49mtimeout,\n\u001b[1;32m    206\u001b[0m         source_address\u001b[39m=\u001b[39;49m\u001b[39mself\u001b[39;49m\u001b[39m.\u001b[39;49msource_address,\n\u001b[1;32m    207\u001b[0m         socket_options\u001b[39m=\u001b[39;49m\u001b[39mself\u001b[39;49m\u001b[39m.\u001b[39;49msocket_options,\n\u001b[1;32m    208\u001b[0m     )\n\u001b[1;32m    209\u001b[0m \u001b[39mexcept\u001b[39;00m socket\u001b[39m.\u001b[39mgaierror \u001b[39mas\u001b[39;00m e:\n",
      "File \u001b[0;32m~/Desktop/iGEM/2023/cadmir/.conda/lib/python3.10/site-packages/urllib3/util/connection.py:60\u001b[0m, in \u001b[0;36mcreate_connection\u001b[0;34m(address, timeout, source_address, socket_options)\u001b[0m\n\u001b[1;32m     58\u001b[0m     \u001b[39mraise\u001b[39;00m LocationParseError(\u001b[39mf\u001b[39m\u001b[39m\"\u001b[39m\u001b[39m'\u001b[39m\u001b[39m{\u001b[39;00mhost\u001b[39m}\u001b[39;00m\u001b[39m'\u001b[39m\u001b[39m, label empty or too long\u001b[39m\u001b[39m\"\u001b[39m) \u001b[39mfrom\u001b[39;00m \u001b[39mNone\u001b[39;00m\n\u001b[0;32m---> 60\u001b[0m \u001b[39mfor\u001b[39;00m res \u001b[39min\u001b[39;00m socket\u001b[39m.\u001b[39;49mgetaddrinfo(host, port, family, socket\u001b[39m.\u001b[39;49mSOCK_STREAM):\n\u001b[1;32m     61\u001b[0m     af, socktype, proto, canonname, sa \u001b[39m=\u001b[39m res\n",
      "File \u001b[0;32m~/Desktop/iGEM/2023/cadmir/.conda/lib/python3.10/socket.py:955\u001b[0m, in \u001b[0;36mgetaddrinfo\u001b[0;34m(host, port, family, type, proto, flags)\u001b[0m\n\u001b[1;32m    954\u001b[0m addrlist \u001b[39m=\u001b[39m []\n\u001b[0;32m--> 955\u001b[0m \u001b[39mfor\u001b[39;00m res \u001b[39min\u001b[39;00m _socket\u001b[39m.\u001b[39;49mgetaddrinfo(host, port, family, \u001b[39mtype\u001b[39;49m, proto, flags):\n\u001b[1;32m    956\u001b[0m     af, socktype, proto, canonname, sa \u001b[39m=\u001b[39m res\n",
      "\u001b[0;31mgaierror\u001b[0m: [Errno 8] nodename nor servname provided, or not known",
      "\nThe above exception was the direct cause of the following exception:\n",
      "\u001b[0;31mNameResolutionError\u001b[0m                       Traceback (most recent call last)",
      "File \u001b[0;32m~/Desktop/iGEM/2023/cadmir/.conda/lib/python3.10/site-packages/urllib3/connectionpool.py:790\u001b[0m, in \u001b[0;36mHTTPConnectionPool.urlopen\u001b[0;34m(self, method, url, body, headers, retries, redirect, assert_same_host, timeout, pool_timeout, release_conn, chunked, body_pos, preload_content, decode_content, **response_kw)\u001b[0m\n\u001b[1;32m    789\u001b[0m \u001b[39m# Make the request on the HTTPConnection object\u001b[39;00m\n\u001b[0;32m--> 790\u001b[0m response \u001b[39m=\u001b[39m \u001b[39mself\u001b[39;49m\u001b[39m.\u001b[39;49m_make_request(\n\u001b[1;32m    791\u001b[0m     conn,\n\u001b[1;32m    792\u001b[0m     method,\n\u001b[1;32m    793\u001b[0m     url,\n\u001b[1;32m    794\u001b[0m     timeout\u001b[39m=\u001b[39;49mtimeout_obj,\n\u001b[1;32m    795\u001b[0m     body\u001b[39m=\u001b[39;49mbody,\n\u001b[1;32m    796\u001b[0m     headers\u001b[39m=\u001b[39;49mheaders,\n\u001b[1;32m    797\u001b[0m     chunked\u001b[39m=\u001b[39;49mchunked,\n\u001b[1;32m    798\u001b[0m     retries\u001b[39m=\u001b[39;49mretries,\n\u001b[1;32m    799\u001b[0m     response_conn\u001b[39m=\u001b[39;49mresponse_conn,\n\u001b[1;32m    800\u001b[0m     preload_content\u001b[39m=\u001b[39;49mpreload_content,\n\u001b[1;32m    801\u001b[0m     decode_content\u001b[39m=\u001b[39;49mdecode_content,\n\u001b[1;32m    802\u001b[0m     \u001b[39m*\u001b[39;49m\u001b[39m*\u001b[39;49mresponse_kw,\n\u001b[1;32m    803\u001b[0m )\n\u001b[1;32m    805\u001b[0m \u001b[39m# Everything went great!\u001b[39;00m\n",
      "File \u001b[0;32m~/Desktop/iGEM/2023/cadmir/.conda/lib/python3.10/site-packages/urllib3/connectionpool.py:491\u001b[0m, in \u001b[0;36mHTTPConnectionPool._make_request\u001b[0;34m(self, conn, method, url, body, headers, retries, timeout, chunked, response_conn, preload_content, decode_content, enforce_content_length)\u001b[0m\n\u001b[1;32m    490\u001b[0m         new_e \u001b[39m=\u001b[39m _wrap_proxy_error(new_e, conn\u001b[39m.\u001b[39mproxy\u001b[39m.\u001b[39mscheme)\n\u001b[0;32m--> 491\u001b[0m     \u001b[39mraise\u001b[39;00m new_e\n\u001b[1;32m    493\u001b[0m \u001b[39m# conn.request() calls http.client.*.request, not the method in\u001b[39;00m\n\u001b[1;32m    494\u001b[0m \u001b[39m# urllib3.request. It also calls makefile (recv) on the socket.\u001b[39;00m\n",
      "File \u001b[0;32m~/Desktop/iGEM/2023/cadmir/.conda/lib/python3.10/site-packages/urllib3/connectionpool.py:467\u001b[0m, in \u001b[0;36mHTTPConnectionPool._make_request\u001b[0;34m(self, conn, method, url, body, headers, retries, timeout, chunked, response_conn, preload_content, decode_content, enforce_content_length)\u001b[0m\n\u001b[1;32m    466\u001b[0m \u001b[39mtry\u001b[39;00m:\n\u001b[0;32m--> 467\u001b[0m     \u001b[39mself\u001b[39;49m\u001b[39m.\u001b[39;49m_validate_conn(conn)\n\u001b[1;32m    468\u001b[0m \u001b[39mexcept\u001b[39;00m (SocketTimeout, BaseSSLError) \u001b[39mas\u001b[39;00m e:\n",
      "File \u001b[0;32m~/Desktop/iGEM/2023/cadmir/.conda/lib/python3.10/site-packages/urllib3/connectionpool.py:1092\u001b[0m, in \u001b[0;36mHTTPSConnectionPool._validate_conn\u001b[0;34m(self, conn)\u001b[0m\n\u001b[1;32m   1091\u001b[0m \u001b[39mif\u001b[39;00m conn\u001b[39m.\u001b[39mis_closed:\n\u001b[0;32m-> 1092\u001b[0m     conn\u001b[39m.\u001b[39;49mconnect()\n\u001b[1;32m   1094\u001b[0m \u001b[39mif\u001b[39;00m \u001b[39mnot\u001b[39;00m conn\u001b[39m.\u001b[39mis_verified:\n",
      "File \u001b[0;32m~/Desktop/iGEM/2023/cadmir/.conda/lib/python3.10/site-packages/urllib3/connection.py:611\u001b[0m, in \u001b[0;36mHTTPSConnection.connect\u001b[0;34m(self)\u001b[0m\n\u001b[1;32m    610\u001b[0m sock: socket\u001b[39m.\u001b[39msocket \u001b[39m|\u001b[39m ssl\u001b[39m.\u001b[39mSSLSocket\n\u001b[0;32m--> 611\u001b[0m \u001b[39mself\u001b[39m\u001b[39m.\u001b[39msock \u001b[39m=\u001b[39m sock \u001b[39m=\u001b[39m \u001b[39mself\u001b[39;49m\u001b[39m.\u001b[39;49m_new_conn()\n\u001b[1;32m    612\u001b[0m server_hostname: \u001b[39mstr\u001b[39m \u001b[39m=\u001b[39m \u001b[39mself\u001b[39m\u001b[39m.\u001b[39mhost\n",
      "File \u001b[0;32m~/Desktop/iGEM/2023/cadmir/.conda/lib/python3.10/site-packages/urllib3/connection.py:210\u001b[0m, in \u001b[0;36mHTTPConnection._new_conn\u001b[0;34m(self)\u001b[0m\n\u001b[1;32m    209\u001b[0m \u001b[39mexcept\u001b[39;00m socket\u001b[39m.\u001b[39mgaierror \u001b[39mas\u001b[39;00m e:\n\u001b[0;32m--> 210\u001b[0m     \u001b[39mraise\u001b[39;00m NameResolutionError(\u001b[39mself\u001b[39m\u001b[39m.\u001b[39mhost, \u001b[39mself\u001b[39m, e) \u001b[39mfrom\u001b[39;00m \u001b[39me\u001b[39;00m\n\u001b[1;32m    211\u001b[0m \u001b[39mexcept\u001b[39;00m SocketTimeout \u001b[39mas\u001b[39;00m e:\n",
      "\u001b[0;31mNameResolutionError\u001b[0m: <urllib3.connection.HTTPSConnection object at 0x299282950>: Failed to resolve 'api.unpaywall.org' ([Errno 8] nodename nor servname provided, or not known)",
      "\nThe above exception was the direct cause of the following exception:\n",
      "\u001b[0;31mMaxRetryError\u001b[0m                             Traceback (most recent call last)",
      "File \u001b[0;32m~/Desktop/iGEM/2023/cadmir/.conda/lib/python3.10/site-packages/requests/adapters.py:486\u001b[0m, in \u001b[0;36mHTTPAdapter.send\u001b[0;34m(self, request, stream, timeout, verify, cert, proxies)\u001b[0m\n\u001b[1;32m    485\u001b[0m \u001b[39mtry\u001b[39;00m:\n\u001b[0;32m--> 486\u001b[0m     resp \u001b[39m=\u001b[39m conn\u001b[39m.\u001b[39;49murlopen(\n\u001b[1;32m    487\u001b[0m         method\u001b[39m=\u001b[39;49mrequest\u001b[39m.\u001b[39;49mmethod,\n\u001b[1;32m    488\u001b[0m         url\u001b[39m=\u001b[39;49murl,\n\u001b[1;32m    489\u001b[0m         body\u001b[39m=\u001b[39;49mrequest\u001b[39m.\u001b[39;49mbody,\n\u001b[1;32m    490\u001b[0m         headers\u001b[39m=\u001b[39;49mrequest\u001b[39m.\u001b[39;49mheaders,\n\u001b[1;32m    491\u001b[0m         redirect\u001b[39m=\u001b[39;49m\u001b[39mFalse\u001b[39;49;00m,\n\u001b[1;32m    492\u001b[0m         assert_same_host\u001b[39m=\u001b[39;49m\u001b[39mFalse\u001b[39;49;00m,\n\u001b[1;32m    493\u001b[0m         preload_content\u001b[39m=\u001b[39;49m\u001b[39mFalse\u001b[39;49;00m,\n\u001b[1;32m    494\u001b[0m         decode_content\u001b[39m=\u001b[39;49m\u001b[39mFalse\u001b[39;49;00m,\n\u001b[1;32m    495\u001b[0m         retries\u001b[39m=\u001b[39;49m\u001b[39mself\u001b[39;49m\u001b[39m.\u001b[39;49mmax_retries,\n\u001b[1;32m    496\u001b[0m         timeout\u001b[39m=\u001b[39;49mtimeout,\n\u001b[1;32m    497\u001b[0m         chunked\u001b[39m=\u001b[39;49mchunked,\n\u001b[1;32m    498\u001b[0m     )\n\u001b[1;32m    500\u001b[0m \u001b[39mexcept\u001b[39;00m (ProtocolError, \u001b[39mOSError\u001b[39;00m) \u001b[39mas\u001b[39;00m err:\n",
      "File \u001b[0;32m~/Desktop/iGEM/2023/cadmir/.conda/lib/python3.10/site-packages/urllib3/connectionpool.py:844\u001b[0m, in \u001b[0;36mHTTPConnectionPool.urlopen\u001b[0;34m(self, method, url, body, headers, retries, redirect, assert_same_host, timeout, pool_timeout, release_conn, chunked, body_pos, preload_content, decode_content, **response_kw)\u001b[0m\n\u001b[1;32m    842\u001b[0m     new_e \u001b[39m=\u001b[39m ProtocolError(\u001b[39m\"\u001b[39m\u001b[39mConnection aborted.\u001b[39m\u001b[39m\"\u001b[39m, new_e)\n\u001b[0;32m--> 844\u001b[0m retries \u001b[39m=\u001b[39m retries\u001b[39m.\u001b[39;49mincrement(\n\u001b[1;32m    845\u001b[0m     method, url, error\u001b[39m=\u001b[39;49mnew_e, _pool\u001b[39m=\u001b[39;49m\u001b[39mself\u001b[39;49m, _stacktrace\u001b[39m=\u001b[39;49msys\u001b[39m.\u001b[39;49mexc_info()[\u001b[39m2\u001b[39;49m]\n\u001b[1;32m    846\u001b[0m )\n\u001b[1;32m    847\u001b[0m retries\u001b[39m.\u001b[39msleep()\n",
      "File \u001b[0;32m~/Desktop/iGEM/2023/cadmir/.conda/lib/python3.10/site-packages/urllib3/util/retry.py:515\u001b[0m, in \u001b[0;36mRetry.increment\u001b[0;34m(self, method, url, response, error, _pool, _stacktrace)\u001b[0m\n\u001b[1;32m    514\u001b[0m     reason \u001b[39m=\u001b[39m error \u001b[39mor\u001b[39;00m ResponseError(cause)\n\u001b[0;32m--> 515\u001b[0m     \u001b[39mraise\u001b[39;00m MaxRetryError(_pool, url, reason) \u001b[39mfrom\u001b[39;00m \u001b[39mreason\u001b[39;00m  \u001b[39m# type: ignore[arg-type]\u001b[39;00m\n\u001b[1;32m    517\u001b[0m log\u001b[39m.\u001b[39mdebug(\u001b[39m\"\u001b[39m\u001b[39mIncremented Retry for (url=\u001b[39m\u001b[39m'\u001b[39m\u001b[39m%s\u001b[39;00m\u001b[39m'\u001b[39m\u001b[39m): \u001b[39m\u001b[39m%r\u001b[39;00m\u001b[39m\"\u001b[39m, url, new_retry)\n",
      "\u001b[0;31mMaxRetryError\u001b[0m: HTTPSConnectionPool(host='api.unpaywall.org', port=443): Max retries exceeded with url: /v2/10.1074/jbc.M114.578682?email=ryandu9221@gmail.com (Caused by NameResolutionError(\"<urllib3.connection.HTTPSConnection object at 0x299282950>: Failed to resolve 'api.unpaywall.org' ([Errno 8] nodename nor servname provided, or not known)\"))",
      "\nDuring handling of the above exception, another exception occurred:\n",
      "\u001b[0;31mConnectionError\u001b[0m                           Traceback (most recent call last)",
      "Cell \u001b[0;32mIn[6], line 11\u001b[0m\n\u001b[1;32m      9\u001b[0m doi \u001b[39m=\u001b[39m row[\u001b[39m'\u001b[39m\u001b[39mDOI\u001b[39m\u001b[39m'\u001b[39m]\n\u001b[1;32m     10\u001b[0m \u001b[39m# print(f\"https://api.unpaywall.org/v2/{doi}?email=ryandu9221@gmail.com\")\u001b[39;00m\n\u001b[0;32m---> 11\u001b[0m req \u001b[39m=\u001b[39m requests\u001b[39m.\u001b[39;49mget(\u001b[39mf\u001b[39;49m\u001b[39m\"\u001b[39;49m\u001b[39mhttps://api.unpaywall.org/v2/\u001b[39;49m\u001b[39m{\u001b[39;49;00mdoi\u001b[39m}\u001b[39;49;00m\u001b[39m?email=ryandu9221@gmail.com\u001b[39;49m\u001b[39m\"\u001b[39;49m)\n\u001b[1;32m     12\u001b[0m \u001b[39mif\u001b[39;00m req\u001b[39m.\u001b[39mstatus_code \u001b[39m==\u001b[39m \u001b[39m200\u001b[39m:\n\u001b[1;32m     13\u001b[0m     \u001b[39mif\u001b[39;00m req\u001b[39m.\u001b[39mjson()\u001b[39m.\u001b[39mget(\u001b[39m'\u001b[39m\u001b[39mis_oa\u001b[39m\u001b[39m'\u001b[39m) \u001b[39m==\u001b[39m \u001b[39mTrue\u001b[39;00m:\n",
      "File \u001b[0;32m~/Desktop/iGEM/2023/cadmir/.conda/lib/python3.10/site-packages/requests/api.py:73\u001b[0m, in \u001b[0;36mget\u001b[0;34m(url, params, **kwargs)\u001b[0m\n\u001b[1;32m     62\u001b[0m \u001b[39mdef\u001b[39;00m \u001b[39mget\u001b[39m(url, params\u001b[39m=\u001b[39m\u001b[39mNone\u001b[39;00m, \u001b[39m*\u001b[39m\u001b[39m*\u001b[39mkwargs):\n\u001b[1;32m     63\u001b[0m \u001b[39m    \u001b[39m\u001b[39mr\u001b[39m\u001b[39m\"\"\"Sends a GET request.\u001b[39;00m\n\u001b[1;32m     64\u001b[0m \n\u001b[1;32m     65\u001b[0m \u001b[39m    :param url: URL for the new :class:`Request` object.\u001b[39;00m\n\u001b[0;32m   (...)\u001b[0m\n\u001b[1;32m     70\u001b[0m \u001b[39m    :rtype: requests.Response\u001b[39;00m\n\u001b[1;32m     71\u001b[0m \u001b[39m    \"\"\"\u001b[39;00m\n\u001b[0;32m---> 73\u001b[0m     \u001b[39mreturn\u001b[39;00m request(\u001b[39m\"\u001b[39;49m\u001b[39mget\u001b[39;49m\u001b[39m\"\u001b[39;49m, url, params\u001b[39m=\u001b[39;49mparams, \u001b[39m*\u001b[39;49m\u001b[39m*\u001b[39;49mkwargs)\n",
      "File \u001b[0;32m~/Desktop/iGEM/2023/cadmir/.conda/lib/python3.10/site-packages/requests/api.py:59\u001b[0m, in \u001b[0;36mrequest\u001b[0;34m(method, url, **kwargs)\u001b[0m\n\u001b[1;32m     55\u001b[0m \u001b[39m# By using the 'with' statement we are sure the session is closed, thus we\u001b[39;00m\n\u001b[1;32m     56\u001b[0m \u001b[39m# avoid leaving sockets open which can trigger a ResourceWarning in some\u001b[39;00m\n\u001b[1;32m     57\u001b[0m \u001b[39m# cases, and look like a memory leak in others.\u001b[39;00m\n\u001b[1;32m     58\u001b[0m \u001b[39mwith\u001b[39;00m sessions\u001b[39m.\u001b[39mSession() \u001b[39mas\u001b[39;00m session:\n\u001b[0;32m---> 59\u001b[0m     \u001b[39mreturn\u001b[39;00m session\u001b[39m.\u001b[39;49mrequest(method\u001b[39m=\u001b[39;49mmethod, url\u001b[39m=\u001b[39;49murl, \u001b[39m*\u001b[39;49m\u001b[39m*\u001b[39;49mkwargs)\n",
      "File \u001b[0;32m~/Desktop/iGEM/2023/cadmir/.conda/lib/python3.10/site-packages/requests/sessions.py:589\u001b[0m, in \u001b[0;36mSession.request\u001b[0;34m(self, method, url, params, data, headers, cookies, files, auth, timeout, allow_redirects, proxies, hooks, stream, verify, cert, json)\u001b[0m\n\u001b[1;32m    584\u001b[0m send_kwargs \u001b[39m=\u001b[39m {\n\u001b[1;32m    585\u001b[0m     \u001b[39m\"\u001b[39m\u001b[39mtimeout\u001b[39m\u001b[39m\"\u001b[39m: timeout,\n\u001b[1;32m    586\u001b[0m     \u001b[39m\"\u001b[39m\u001b[39mallow_redirects\u001b[39m\u001b[39m\"\u001b[39m: allow_redirects,\n\u001b[1;32m    587\u001b[0m }\n\u001b[1;32m    588\u001b[0m send_kwargs\u001b[39m.\u001b[39mupdate(settings)\n\u001b[0;32m--> 589\u001b[0m resp \u001b[39m=\u001b[39m \u001b[39mself\u001b[39;49m\u001b[39m.\u001b[39;49msend(prep, \u001b[39m*\u001b[39;49m\u001b[39m*\u001b[39;49msend_kwargs)\n\u001b[1;32m    591\u001b[0m \u001b[39mreturn\u001b[39;00m resp\n",
      "File \u001b[0;32m~/Desktop/iGEM/2023/cadmir/.conda/lib/python3.10/site-packages/requests/sessions.py:703\u001b[0m, in \u001b[0;36mSession.send\u001b[0;34m(self, request, **kwargs)\u001b[0m\n\u001b[1;32m    700\u001b[0m start \u001b[39m=\u001b[39m preferred_clock()\n\u001b[1;32m    702\u001b[0m \u001b[39m# Send the request\u001b[39;00m\n\u001b[0;32m--> 703\u001b[0m r \u001b[39m=\u001b[39m adapter\u001b[39m.\u001b[39;49msend(request, \u001b[39m*\u001b[39;49m\u001b[39m*\u001b[39;49mkwargs)\n\u001b[1;32m    705\u001b[0m \u001b[39m# Total elapsed time of the request (approximately)\u001b[39;00m\n\u001b[1;32m    706\u001b[0m elapsed \u001b[39m=\u001b[39m preferred_clock() \u001b[39m-\u001b[39m start\n",
      "File \u001b[0;32m~/Desktop/iGEM/2023/cadmir/.conda/lib/python3.10/site-packages/requests/adapters.py:519\u001b[0m, in \u001b[0;36mHTTPAdapter.send\u001b[0;34m(self, request, stream, timeout, verify, cert, proxies)\u001b[0m\n\u001b[1;32m    515\u001b[0m     \u001b[39mif\u001b[39;00m \u001b[39misinstance\u001b[39m(e\u001b[39m.\u001b[39mreason, _SSLError):\n\u001b[1;32m    516\u001b[0m         \u001b[39m# This branch is for urllib3 v1.22 and later.\u001b[39;00m\n\u001b[1;32m    517\u001b[0m         \u001b[39mraise\u001b[39;00m SSLError(e, request\u001b[39m=\u001b[39mrequest)\n\u001b[0;32m--> 519\u001b[0m     \u001b[39mraise\u001b[39;00m \u001b[39mConnectionError\u001b[39;00m(e, request\u001b[39m=\u001b[39mrequest)\n\u001b[1;32m    521\u001b[0m \u001b[39mexcept\u001b[39;00m ClosedPoolError \u001b[39mas\u001b[39;00m e:\n\u001b[1;32m    522\u001b[0m     \u001b[39mraise\u001b[39;00m \u001b[39mConnectionError\u001b[39;00m(e, request\u001b[39m=\u001b[39mrequest)\n",
      "\u001b[0;31mConnectionError\u001b[0m: HTTPSConnectionPool(host='api.unpaywall.org', port=443): Max retries exceeded with url: /v2/10.1074/jbc.M114.578682?email=ryandu9221@gmail.com (Caused by NameResolutionError(\"<urllib3.connection.HTTPSConnection object at 0x299282950>: Failed to resolve 'api.unpaywall.org' ([Errno 8] nodename nor servname provided, or not known)\"))"
     ]
    }
   ],
   "source": [
    "pbar = tqdm(total=len(papersDF))\n",
    "for index, row in papersDF.iterrows():\n",
    "    pbar.update(1)\n",
    "    pbar.refresh()\n",
    "    if index != 0:\n",
    "        pbar.set_description(f\"{(len(no_url) + len(loader_not_works)) / index * 100}% failure\")\n",
    "    # if index <= 4:\n",
    "    #     continue\n",
    "    doi = row['DOI']\n",
    "    # print(f\"https://api.unpaywall.org/v2/{doi}?email=ryandu9221@gmail.com\")\n",
    "    req = requests.get(f\"https://api.unpaywall.org/v2/{doi}?email=ryandu9221@gmail.com\")\n",
    "    if req.status_code == 200:\n",
    "        if req.json().get('is_oa') == True:\n",
    "            oa = req.json().get('best_oa_location')\n",
    "            if oa == None:\n",
    "                no_url.append(doi)\n",
    "                print(\"no oa \" + doi)\n",
    "                continue\n",
    "            url = oa.get('url_for_pdf')\n",
    "            if url is None:\n",
    "                no_url.append(doi)\n",
    "                print(\"no url \" + doi)\n",
    "                continue\n",
    "            try:\n",
    "                cleaned_text = clean_up_pdf(url)\n",
    "                cleaned_text_batch = ''.join(cleaned_text)\n",
    "                \n",
    "                splitter = RecursiveCharacterTextSplitter(\n",
    "                    chunk_size = 1000,\n",
    "                    chunk_overlap  = 0,\n",
    "                    length_function = len,\n",
    "                    is_separator_regex = False,\n",
    "                )\n",
    "                chunks = splitter.create_documents([cleaned_text_batch])\n",
    "                for chunk in chunks:\n",
    "                    chunk.metadata[\"doi\"] = doi\n",
    "                    chunk.metadata[\"add_date\"] = str(datetime.datetime.now().date())\n",
    "                    # chunk.metadata.pop(\"source\")\n",
    "                embedded = Pinecone.from_documents(chunks, embedding,index_name=index_name,namespace=namespace )\n",
    "                supabase.table(\"papers\").insert({\"doi\": doi}).execute()\n",
    "                # print(\"sucess for \" + doi)\n",
    "            except Exception as error:\n",
    "                loader_not_works.append(doi)\n",
    "                # print(f\"not work for {index} \" + doi)\n",
    "                print(error)\n",
    "    else:\n",
    "        no_url.append(doi)\n",
    "    \n",
    "pbar.close()"
   ]
  },
  {
   "cell_type": "code",
   "execution_count": null,
   "metadata": {},
   "outputs": [],
   "source": []
  },
  {
   "cell_type": "markdown",
   "metadata": {},
   "source": [
    "# Test Cycle"
   ]
  },
  {
   "cell_type": "code",
   "execution_count": null,
   "metadata": {},
   "outputs": [],
   "source": [
    "test_doi = \"10.1038/s41584-020-0426-0\""
   ]
  },
  {
   "cell_type": "code",
   "execution_count": null,
   "metadata": {},
   "outputs": [],
   "source": [
    "req = requests.get(f\"https://api.unpaywall.org/v2/{test_doi}?email=ryandu9221@gmail.com\")\n",
    "url = req.json().get('best_oa_location').get('url')\n",
    "fileloader = OnlinePDFLoader(url)\n",
    "loader = UnstructuredPDFLoader(fileloader.file_path)\n",
    "splitter = RecursiveCharacterTextSplitter(\n",
    "    # Set a really small chunk size, just to show.\n",
    "    chunk_size = 500,\n",
    "    chunk_overlap  = 0,\n",
    "    length_function = len,\n",
    "    is_separator_regex = False,\n",
    ")\n",
    "chunks = loader.load_and_split(text_splitter=splitter)\n",
    "for chunk in chunks:\n",
    "    chunk.metadata[\"doi\"] = test_doi\n",
    "    chunk.metadata[\"add_date\"] = str(datetime.datetime.now().date())\n",
    "    chunk.metadata.pop(\"source\")"
   ]
  },
  {
   "cell_type": "code",
   "execution_count": null,
   "metadata": {},
   "outputs": [],
   "source": [
    "embedded = SupabaseVectorStore.from_documents(chunks, embedding, client=supabase, table_name=\"knowledge\")"
   ]
  },
  {
   "cell_type": "code",
   "execution_count": null,
   "metadata": {},
   "outputs": [],
   "source": []
  }
 ],
 "metadata": {
  "kernelspec": {
   "display_name": ".venv",
   "language": "python",
   "name": "python3"
  },
  "language_info": {
   "codemirror_mode": {
    "name": "ipython",
    "version": 3
   },
   "file_extension": ".py",
   "mimetype": "text/x-python",
   "name": "python",
   "nbconvert_exporter": "python",
   "pygments_lexer": "ipython3",
   "version": "3.10.12"
  },
  "orig_nbformat": 4
 },
 "nbformat": 4,
 "nbformat_minor": 2
}

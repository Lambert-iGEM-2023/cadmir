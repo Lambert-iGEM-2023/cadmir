{
 "cells": [
  {
   "cell_type": "code",
   "execution_count": 1,
   "metadata": {},
   "outputs": [
    {
     "name": "stderr",
     "output_type": "stream",
     "text": [
      "/Users/ryandu/Desktop/iGEM/2023/cadmir/.conda/lib/python3.10/site-packages/pinecone/index.py:4: TqdmWarning: IProgress not found. Please update jupyter and ipywidgets. See https://ipywidgets.readthedocs.io/en/stable/user_install.html\n",
      "  from tqdm.autonotebook import tqdm\n"
     ]
    },
    {
     "data": {
      "text/plain": [
       "True"
      ]
     },
     "execution_count": 1,
     "metadata": {},
     "output_type": "execute_result"
    }
   ],
   "source": [
    "import requests\n",
    "import pandas\n",
    "from langchain.document_loaders import UnstructuredPDFLoader, OnlinePDFLoader, PyPDFLoader, TextLoader\n",
    "from langchain.text_splitter import RecursiveCharacterTextSplitter\n",
    "from langchain.embeddings import OpenAIEmbeddings\n",
    "from langchain.vectorstores.pinecone import Pinecone\n",
    "from supabase.client import Client, create_client\n",
    "import datetime\n",
    "from tqdm import tqdm\n",
    "import requests\n",
    "import datetime\n",
    "import json\n",
    "import io\n",
    "import uuid\n",
    "import pinecone\n",
    "import os\n",
    "from dotenv import load_dotenv\n",
    "load_dotenv()"
   ]
  },
  {
   "cell_type": "code",
   "execution_count": 2,
   "metadata": {},
   "outputs": [],
   "source": [
    "supabase: Client = create_client(supabase_url=os.environ.get(\"SUPABASE_URL\"), supabase_key=os.environ.get(\"SUPABASE_SERVICE_KEY\"))"
   ]
  },
  {
   "cell_type": "code",
   "execution_count": 3,
   "metadata": {},
   "outputs": [],
   "source": [
    "logs = []"
   ]
  },
  {
   "cell_type": "code",
   "execution_count": 4,
   "metadata": {},
   "outputs": [],
   "source": [
    "def clean_up_pdf_json(json_data):\n",
    "    # print(\"length of json data: \" + str(len(json_data)))\n",
    "    result = []\n",
    "    try:\n",
    "        \n",
    "        for i, node in enumerate(json_data):\n",
    "            # print(node)\n",
    "            if node['type'] == 'Title' and ('References'.lower() in node['text'].lower() or 'Works cited'.lower() in node['text'].lower()) and i > len(json_data) / 3.5:\n",
    "                # print(\"hit referencessssssss\")\n",
    "                raise Exception('hit references')\n",
    "            elif node['type'] == 'NarrativeText':\n",
    "                if len(node['text']) > 150:\n",
    "                    result.append(node['text'])\n",
    "                    # sentences = split_sentences(node['text'])\n",
    "                    # for sentence in sentences:\n",
    "                    #     if sentence['type'] == 'Sentence' and len(sentence['raw']) > 70:\n",
    "                    #         result.append(sentence['raw'])\n",
    "    except Exception as e:\n",
    "        logs.append('error in clean_up_pdf_json')\n",
    "        logs.append(e)\n",
    "        pass\n",
    "    return result\n",
    "\n",
    "def clean_up_pdf(pdf_url):\n",
    "    logs.append(url)\n",
    "    start = datetime.datetime.now()\n",
    "    # Download the PDF from the URL\n",
    "    tempId = str(uuid.uuid4())\n",
    "    filename = 'temp'+tempId+'.pdf'\n",
    "    with open(filename, 'wb') as f:\n",
    "        response = requests.get(pdf_url)\n",
    "        f.write(response.content)\n",
    "\n",
    "    headers = {\n",
    "        'accept': 'application/json',\n",
    "        'unstructured-api-key': 'ZlAGOeaXIItDzP6DQjCSwYqBpKzzyZ'\n",
    "    }\n",
    "\n",
    "    files = {'files': (filename, open(filename, 'rb'))}\n",
    "\n",
    "    response = requests.post('https://api.unstructured.io/general/v0/general', headers=headers, files=files)\n",
    "    os.remove(filename)\n",
    "    if response.status_code != 200:\n",
    "        logs.append('ERROR: unstructured status code is ' + str(response.status_code))\n",
    "        logs.append(response.text)\n",
    "        return []\n",
    "    \n",
    "    text = response.text\n",
    "    # print('unstructured time is ' + str((datetime.datetime.now() - start).total_seconds() * 1000) + 'ms')\n",
    "\n",
    "    start = datetime.datetime.now()\n",
    "\n",
    "    if text:\n",
    "        json_data = json.loads(text)\n",
    "        # return json_data\n",
    "        cleaned = clean_up_pdf_json(json_data)\n",
    "        # print('cleaned json is ', cleaned)\n",
    "        # print('clean up time is ' + str((datetime.datetime.now() - start).total_seconds() * 1000) + 'ms')\n",
    "        return cleaned\n",
    "    else:\n",
    "        # print('ERROR: no text from unstructured')\n",
    "        return []"
   ]
  },
  {
   "cell_type": "code",
   "execution_count": 5,
   "metadata": {},
   "outputs": [],
   "source": [
    "index_name = \"cadmir\"\n",
    "namespace = \"cad1\"\n",
    "pinecone.init(\n",
    "    api_key=os.getenv(\"PINECONE_API_KEY\"),\n",
    "    environment=os.getenv(\"PINECONE_ENV\")\n",
    ")\n",
    "if index_name not in pinecone.list_indexes():\n",
    "    # we create a new index\n",
    "    pinecone.create_index(\n",
    "      name=index_name,\n",
    "      metric='cosine',\n",
    "      dimension=1536  \n",
    "    )\n",
    "    print(\"created index\")\n",
    "papersDF = pandas.read_csv('csv-microRNAAN-set (1).csv')\n",
    "embedding = OpenAIEmbeddings()\n",
    "loader_not_works = []\n",
    "no_url = []\n",
    "works=[]"
   ]
  },
  {
   "cell_type": "code",
   "execution_count": 13,
   "metadata": {},
   "outputs": [
    {
     "name": "stderr",
     "output_type": "stream",
     "text": [
      "11.933298593017197% failure:  78%|███████▊  | 3839/4924 [08:18<02:20,  7.70it/s]  \n",
      "1237.837837837838% failure:   1%|          | 38/4924 [00:00<00:12, 406.92it/s] "
     ]
    },
    {
     "name": "stderr",
     "output_type": "stream",
     "text": [
      "11.943793911007026% failure:  78%|███████▊  | 3844/4924 [00:22<01:02, 17.14it/s]  "
     ]
    },
    {
     "name": "stdout",
     "output_type": "stream",
     "text": [
      "no url 10.1002/hep.30966\n"
     ]
    },
    {
     "name": "stderr",
     "output_type": "stream",
     "text": [
      "11.963589076723016% failure:  78%|███████▊  | 3846/4924 [00:41<03:02,  5.90it/s]"
     ]
    },
    {
     "name": "stdout",
     "output_type": "stream",
     "text": [
      "no url 10.1002/kjm2.12605\n"
     ]
    },
    {
     "name": "stderr",
     "output_type": "stream",
     "text": [
      "11.977136918680177% failure:  78%|███████▊  | 3850/4924 [01:23<12:23,  1.44it/s]"
     ]
    },
    {
     "name": "stdout",
     "output_type": "stream",
     "text": [
      "no url 10.1111/jcmm.13201\n"
     ]
    },
    {
     "name": "stderr",
     "output_type": "stream",
     "text": [
      "11.996883926252922% failure:  78%|███████▊  | 3852/4924 [01:53<27:42,  1.55s/it]"
     ]
    },
    {
     "name": "stdout",
     "output_type": "stream",
     "text": [
      "no url 10.1111/jcmm.17617\n"
     ]
    },
    {
     "name": "stderr",
     "output_type": "stream",
     "text": [
      "12.010376134889754% failure:  78%|███████▊  | 3856/4924 [02:03<27:36,  1.55s/it]"
     ]
    },
    {
     "name": "stdout",
     "output_type": "stream",
     "text": [
      "no url 10.1016/j.ncrna.2023.03.007\n"
     ]
    },
    {
     "name": "stderr",
     "output_type": "stream",
     "text": [
      "12.020725388601036% failure:  78%|███████▊  | 3861/4924 [02:50<1:06:46,  3.77s/it]"
     ]
    },
    {
     "name": "stdout",
     "output_type": "stream",
     "text": [
      "no url 10.7150/thno.44687\n"
     ]
    },
    {
     "name": "stderr",
     "output_type": "stream",
     "text": [
      "12.03104786545925% failure:  79%|███████▊  | 3866/4924 [03:38<1:50:35,  6.27s/it] "
     ]
    },
    {
     "name": "stdout",
     "output_type": "stream",
     "text": [
      "no url 10.21037/jtd.2019.05.24\n"
     ]
    },
    {
     "name": "stderr",
     "output_type": "stream",
     "text": [
      "12.041343669250645% failure:  79%|███████▊  | 3871/4924 [04:37<2:22:07,  8.10s/it]"
     ]
    },
    {
     "name": "stdout",
     "output_type": "stream",
     "text": [
      "no url 10.1016/j.bbagrm.2020.194562\n"
     ]
    },
    {
     "name": "stderr",
     "output_type": "stream",
     "text": [
      "12.048503611971103% failure:  79%|███████▊  | 3877/4924 [05:56<2:57:32, 10.17s/it]"
     ]
    },
    {
     "name": "stdout",
     "output_type": "stream",
     "text": [
      "no url 10.18632/aging.203208\n"
     ]
    },
    {
     "name": "stderr",
     "output_type": "stream",
     "text": [
      "12.061855670103093% failure:  79%|███████▉  | 3881/4924 [08:12<6:39:23, 22.98s/it] "
     ]
    },
    {
     "name": "stdout",
     "output_type": "stream",
     "text": [
      "no url 10.1097/TXD.0000000000000995\n"
     ]
    },
    {
     "name": "stderr",
     "output_type": "stream",
     "text": [
      "12.075180226570547% failure:  79%|███████▉  | 3885/4924 [09:06<4:19:22, 14.98s/it]"
     ]
    },
    {
     "name": "stdout",
     "output_type": "stream",
     "text": [
      "no url 10.1097/HJH.0000000000003285\n"
     ]
    },
    {
     "name": "stderr",
     "output_type": "stream",
     "text": [
      "12.088477366255145% failure:  79%|███████▉  | 3889/4924 [09:54<3:13:31, 11.22s/it]"
     ]
    },
    {
     "name": "stdout",
     "output_type": "stream",
     "text": [
      "no url 10.1152/ajplung.00457.2019\n"
     ]
    },
    {
     "name": "stderr",
     "output_type": "stream",
     "text": [
      "12.06145966709347% failure:  79%|███████▉  | 3906/4924 [13:21<2:11:48,  7.77s/it] "
     ]
    },
    {
     "name": "stdout",
     "output_type": "stream",
     "text": [
      "no url 10.1111/jcmm.16300\n"
     ]
    },
    {
     "name": "stderr",
     "output_type": "stream",
     "text": [
      "12.080880470949577% failure:  79%|███████▉  | 3908/4924 [13:24<1:16:52,  4.54s/it]"
     ]
    },
    {
     "name": "stdout",
     "output_type": "stream",
     "text": [
      "no url 10.7150/thno.57037\n"
     ]
    },
    {
     "name": "stderr",
     "output_type": "stream",
     "text": [
      "12.100281401893067% failure:  79%|███████▉  | 3910/4924 [14:15<3:38:44, 12.94s/it]"
     ]
    },
    {
     "name": "stdout",
     "output_type": "stream",
     "text": [
      "no url 10.1016/j.jcmg.2020.10.009\n"
     ]
    },
    {
     "name": "stderr",
     "output_type": "stream",
     "text": [
      "12.113467927421416% failure:  79%|███████▉  | 3914/4924 [14:48<2:32:02,  9.03s/it]"
     ]
    },
    {
     "name": "stdout",
     "output_type": "stream",
     "text": [
      "HTTPSConnectionPool(host='apb.tbzmed.ac.ir', port=443): Max retries exceeded with url: /Inpress/apb-28616.pdf (Caused by SSLError(SSLCertVerificationError(1, '[SSL: CERTIFICATE_VERIFY_FAILED] certificate verify failed: unable to get local issuer certificate (_ssl.c:1007)')))\n"
     ]
    },
    {
     "name": "stderr",
     "output_type": "stream",
     "text": [
      "12.102720569539791% failure:  80%|███████▉  | 3934/4924 [18:49<3:34:52, 13.02s/it]"
     ]
    },
    {
     "name": "stdout",
     "output_type": "stream",
     "text": [
      "no url 10.1152/ajpheart.00212.2010\n"
     ]
    },
    {
     "name": "stderr",
     "output_type": "stream",
     "text": [
      "12.106598984771573% failure:  80%|████████  | 3941/4924 [19:39<1:16:37,  4.68s/it]"
     ]
    },
    {
     "name": "stdout",
     "output_type": "stream",
     "text": [
      "no url 10.2217/epi.15.53\n"
     ]
    },
    {
     "name": "stderr",
     "output_type": "stream",
     "text": [
      "12.128901294087795% failure:  80%|████████  | 3942/4924 [19:40<55:33,  3.39s/it]  "
     ]
    },
    {
     "name": "stdout",
     "output_type": "stream",
     "text": [
      "no url 10.1016/j.molmet.2020.101111\n"
     ]
    },
    {
     "name": "stderr",
     "output_type": "stream",
     "text": [
      "12.154975943276778% failure:  80%|████████  | 3950/4924 [20:33<56:08,  3.46s/it]  "
     ]
    },
    {
     "name": "stdout",
     "output_type": "stream",
     "text": [
      "no url 10.1371/journal.pone.0215620\n"
     ]
    },
    {
     "name": "stderr",
     "output_type": "stream",
     "text": [
      "12.177867609903991% failure:  80%|████████  | 3959/4924 [21:28<1:35:29,  5.94s/it]"
     ]
    },
    {
     "name": "stdout",
     "output_type": "stream",
     "text": [
      "no url 10.1111/jcmm.17541\n"
     ]
    },
    {
     "name": "stderr",
     "output_type": "stream",
     "text": [
      "12.193890431709164% failure:  80%|████████  | 3962/4924 [21:35<53:02,  3.31s/it]  "
     ]
    },
    {
     "name": "stdout",
     "output_type": "stream",
     "text": [
      "no url 10.1097/MD.0000000000024174\n"
     ]
    },
    {
     "name": "stderr",
     "output_type": "stream",
     "text": [
      "12.216052498738012% failure:  80%|████████  | 3963/4924 [21:35<38:21,  2.39s/it]"
     ]
    },
    {
     "name": "stdout",
     "output_type": "stream",
     "text": [
      "no url 10.1152/japplphysiol.00654.2015\n"
     ]
    },
    {
     "name": "stderr",
     "output_type": "stream",
     "text": [
      "12.223340040241448% failure:  81%|████████  | 3977/4924 [22:54<57:01,  3.61s/it]  "
     ]
    },
    {
     "name": "stdout",
     "output_type": "stream",
     "text": [
      "no url 10.7150/thno.19764\n"
     ]
    },
    {
     "name": "stderr",
     "output_type": "stream",
     "text": [
      "12.239779282668675% failure:  81%|████████  | 3988/4924 [24:53<1:43:14,  6.62s/it]"
     ]
    },
    {
     "name": "stdout",
     "output_type": "stream",
     "text": [
      "no url 10.1161/JAHA.118.010805\n"
     ]
    },
    {
     "name": "stderr",
     "output_type": "stream",
     "text": [
      "12.234706616729088% failure:  81%|████████▏ | 4006/4924 [28:05<1:40:27,  6.57s/it]"
     ]
    },
    {
     "name": "stdout",
     "output_type": "stream",
     "text": [
      "no url 10.1016/j.ymthe.2020.04.020\n"
     ]
    },
    {
     "name": "stderr",
     "output_type": "stream",
     "text": [
      "12.235235484674806% failure:  82%|████████▏ | 4014/4924 [29:44<2:12:17,  8.72s/it]"
     ]
    },
    {
     "name": "stdout",
     "output_type": "stream",
     "text": [
      "no url 10.1002/lipd.12303\n"
     ]
    },
    {
     "name": "stderr",
     "output_type": "stream",
     "text": [
      "12.23021582733813% failure:  82%|████████▏ | 4032/4924 [33:04<2:01:48,  8.19s/it] "
     ]
    },
    {
     "name": "stdout",
     "output_type": "stream",
     "text": [
      "no url 10.1093/cvr/cvac142\n"
     ]
    },
    {
     "name": "stderr",
     "output_type": "stream",
     "text": [
      "12.251984126984127% failure:  82%|████████▏ | 4033/4924 [33:05<1:26:20,  5.81s/it]"
     ]
    },
    {
     "name": "stdout",
     "output_type": "stream",
     "text": [
      "no url 10.1152/ajplung.00316.2011\n"
     ]
    },
    {
     "name": "stderr",
     "output_type": "stream",
     "text": [
      "12.24944320712695% failure:  82%|████████▏ | 4042/4924 [35:32<3:21:51, 13.73s/it] "
     ]
    },
    {
     "name": "stdout",
     "output_type": "stream",
     "text": [
      "no url 10.1016/j.aohep.2022.100769\n"
     ]
    },
    {
     "name": "stderr",
     "output_type": "stream",
     "text": [
      "12.271152894606631% failure:  82%|████████▏ | 4043/4924 [35:32<2:22:21,  9.70s/it]"
     ]
    },
    {
     "name": "stdout",
     "output_type": "stream",
     "text": [
      "no url 10.1016/j.bbadis.2019.04.010\n"
     ]
    },
    {
     "name": "stderr",
     "output_type": "stream",
     "text": [
      "12.281134401972874% failure:  82%|████████▏ | 4056/4924 [37:44<2:12:20,  9.15s/it]"
     ]
    },
    {
     "name": "stdout",
     "output_type": "stream",
     "text": [
      "no url 10.1016/j.ceca.2022.102656\n"
     ]
    },
    {
     "name": "stderr",
     "output_type": "stream",
     "text": [
      "12.279843444227005% failure:  83%|████████▎ | 4089/4924 [44:34<1:59:19,  8.57s/it]"
     ]
    },
    {
     "name": "stdout",
     "output_type": "stream",
     "text": [
      "no url 10.7150/thno.36639\n"
     ]
    },
    {
     "name": "stderr",
     "output_type": "stream",
     "text": [
      "12.2802734375% failure:  83%|████████▎ | 4097/4924 [45:41<1:44:55,  7.61s/it]     "
     ]
    },
    {
     "name": "stdout",
     "output_type": "stream",
     "text": [
      "no url 10.1016/j.jacc.2016.09.937\n"
     ]
    },
    {
     "name": "stderr",
     "output_type": "stream",
     "text": [
      "12.274719922065271% failure:  83%|████████▎ | 4107/4924 [48:14<3:12:27, 14.13s/it]"
     ]
    },
    {
     "name": "stdout",
     "output_type": "stream",
     "text": [
      "no url 10.12997/jla.2019.8.1.26\n"
     ]
    },
    {
     "name": "stderr",
     "output_type": "stream",
     "text": [
      "12.296079863647432% failure:  83%|████████▎ | 4108/4924 [48:14<2:15:35,  9.97s/it]"
     ]
    },
    {
     "name": "stdout",
     "output_type": "stream",
     "text": [
      "no url 10.1016/j.bbadis.2013.07.023\n"
     ]
    },
    {
     "name": "stderr",
     "output_type": "stream",
     "text": [
      "12.302455628495016% failure:  84%|████████▎ | 4114/4924 [48:51<1:15:49,  5.62s/it]"
     ]
    },
    {
     "name": "stdout",
     "output_type": "stream",
     "text": [
      "no url 10.4330/wjc.v7.i10.652\n"
     ]
    },
    {
     "name": "stderr",
     "output_type": "stream",
     "text": [
      "12.323772484200292% failure:  84%|████████▎ | 4115/4924 [48:52<54:07,  4.01s/it]  "
     ]
    },
    {
     "name": "stdout",
     "output_type": "stream",
     "text": [
      "no url 10.7150/thno.33178\n"
     ]
    },
    {
     "name": "stderr",
     "output_type": "stream",
     "text": [
      "12.336085478387567% failure:  84%|████████▎ | 4119/4924 [49:30<1:23:53,  6.25s/it]"
     ]
    },
    {
     "name": "stdout",
     "output_type": "stream",
     "text": [
      "no url 10.7717/peerj.8763\n"
     ]
    },
    {
     "name": "stderr",
     "output_type": "stream",
     "text": [
      "12.354368932038835% failure:  84%|████████▎ | 4121/4924 [49:46<1:30:12,  6.74s/it]"
     ]
    },
    {
     "name": "stdout",
     "output_type": "stream",
     "text": [
      "('Connection aborted.', RemoteDisconnected('Remote end closed connection without response'))\n"
     ]
    },
    {
     "name": "stderr",
     "output_type": "stream",
     "text": [
      "12.363636363636363% failure:  84%|████████▍ | 4126/4924 [50:37<1:52:01,  8.42s/it]"
     ]
    },
    {
     "name": "stdout",
     "output_type": "stream",
     "text": [
      "no url 10.1016/j.bdq.2016.03.001\n"
     ]
    },
    {
     "name": "stderr",
     "output_type": "stream",
     "text": [
      "12.35819454501569% failure:  84%|████████▍ | 4144/4924 [57:30<2:37:36, 12.12s/it]  "
     ]
    },
    {
     "name": "stdout",
     "output_type": "stream",
     "text": [
      "HTTPSConnectionPool(host='ajpheart.physiology.org', port=443): Max retries exceeded with url: /content/ajpheart/301/5/H1798.full.pdf (Caused by SSLError(SSLCertVerificationError(1, \"[SSL: CERTIFICATE_VERIFY_FAILED] certificate verify failed: Hostname mismatch, certificate is not valid for 'ajpheart.physiology.org'. (_ssl.c:1007)\")))\n"
     ]
    },
    {
     "name": "stderr",
     "output_type": "stream",
     "text": [
      "12.37934362934363% failure:  84%|████████▍ | 4145/4924 [57:30<1:51:02,  8.55s/it]"
     ]
    },
    {
     "name": "stdout",
     "output_type": "stream",
     "text": [
      "no url 10.1016/j.reth.2022.04.005\n"
     ]
    },
    {
     "name": "stderr",
     "output_type": "stream",
     "text": [
      "12.373615792007703% failure:  84%|████████▍ | 4155/4924 [59:04<1:32:18,  7.20s/it]"
     ]
    },
    {
     "name": "stdout",
     "output_type": "stream",
     "text": [
      "no url 10.1016/j.ijcrp.2022.200143\n"
     ]
    },
    {
     "name": "stderr",
     "output_type": "stream",
     "text": [
      "12.400865176640231% failure:  85%|████████▍ | 4162/4924 [59:45<51:52,  4.08s/it]  "
     ]
    },
    {
     "name": "stdout",
     "output_type": "stream",
     "text": [
      "no url 10.1017/S2040174415001300\n"
     ]
    },
    {
     "name": "stderr",
     "output_type": "stream",
     "text": [
      "12.421912542047092% failure:  85%|████████▍ | 4163/4924 [59:46<38:06,  3.00s/it]"
     ]
    },
    {
     "name": "stdout",
     "output_type": "stream",
     "text": [
      "no url 10.1016/j.ncrna.2020.08.001\n"
     ]
    },
    {
     "name": "stderr",
     "output_type": "stream",
     "text": [
      "12.43996157540826% failure:  85%|████████▍ | 4165/4924 [59:54<41:11,  3.26s/it] "
     ]
    },
    {
     "name": "stdout",
     "output_type": "stream",
     "text": [
      "no url 10.4331/wjbc.v1.i4.41\n"
     ]
    },
    {
     "name": "stderr",
     "output_type": "stream",
     "text": [
      "12.481997119539127% failure:  85%|████████▍ | 4167/4924 [59:54<21:30,  1.71s/it]"
     ]
    },
    {
     "name": "stdout",
     "output_type": "stream",
     "text": [
      "no url 10.1016/j.gdata.2015.05.020\n"
     ]
    },
    {
     "name": "stderr",
     "output_type": "stream",
     "text": [
      "12.494004796163068% failure:  85%|████████▍ | 4171/4924 [1:00:39<1:30:41,  7.23s/it]"
     ]
    },
    {
     "name": "stdout",
     "output_type": "stream",
     "text": [
      "no url 10.12997/jla.2019.8.1.50\n"
     ]
    },
    {
     "name": "stderr",
     "output_type": "stream",
     "text": [
      "12.48505142310452% failure:  85%|████████▍ | 4182/4924 [1:02:36<1:41:29,  8.21s/it] "
     ]
    },
    {
     "name": "stdout",
     "output_type": "stream",
     "text": [
      "no url 10.1155/2019/4538985\n"
     ]
    },
    {
     "name": "stderr",
     "output_type": "stream",
     "text": [
      "12.482168330955776% failure:  85%|████████▌ | 4207/4924 [1:09:23<2:10:03, 10.88s/it]"
     ]
    },
    {
     "name": "stdout",
     "output_type": "stream",
     "text": [
      "no url 10.1038/s41598-017-08574-x\n"
     ]
    },
    {
     "name": "stderr",
     "output_type": "stream",
     "text": [
      "12.5% failure:  85%|████████▌ | 4209/4924 [1:09:38<1:41:58,  8.56s/it]              "
     ]
    },
    {
     "name": "stdout",
     "output_type": "stream",
     "text": [
      "no url 10.1016/j.jtcme.2021.02.005\n"
     ]
    },
    {
     "name": "stderr",
     "output_type": "stream",
     "text": [
      "12.508901020650368% failure:  86%|████████▌ | 4214/4924 [1:10:30<1:38:02,  8.29s/it]"
     ]
    },
    {
     "name": "stdout",
     "output_type": "stream",
     "text": [
      "no url 10.31083/j.rcm.2019.02.54\n"
     ]
    },
    {
     "name": "stderr",
     "output_type": "stream",
     "text": [
      "12.511848341232227% failure:  86%|████████▌ | 4221/4924 [1:12:02<1:57:19, 10.01s/it]"
     ]
    },
    {
     "name": "stdout",
     "output_type": "stream",
     "text": [
      "no url 10.4330/wjc.v7.i12.843\n"
     ]
    },
    {
     "name": "stderr",
     "output_type": "stream",
     "text": [
      "12.53251359659494% failure:  86%|████████▌ | 4230/4924 [1:14:46<2:16:42, 11.82s/it] "
     ]
    },
    {
     "name": "stdout",
     "output_type": "stream",
     "text": [
      "no url 10.4330/wjc.v12.i7.303\n"
     ]
    },
    {
     "name": "stderr",
     "output_type": "stream",
     "text": [
      "12.53541076487252% failure:  86%|████████▌ | 4237/4924 [1:16:19<2:29:20, 13.04s/it] "
     ]
    },
    {
     "name": "stdout",
     "output_type": "stream",
     "text": [
      "no url 10.7150/thno.19353\n"
     ]
    },
    {
     "name": "stderr",
     "output_type": "stream",
     "text": [
      "12.520593080724876% failure:  86%|████████▋ | 4250/4924 [1:19:23<2:27:12, 13.10s/it]"
     ]
    },
    {
     "name": "stdout",
     "output_type": "stream",
     "text": [
      "no url 10.4331/wjbc.v6.i2.34\n"
     ]
    },
    {
     "name": "stderr",
     "output_type": "stream",
     "text": [
      "12.549941245593418% failure:  86%|████████▋ | 4256/4924 [1:20:02<1:20:15,  7.21s/it]"
     ]
    },
    {
     "name": "stdout",
     "output_type": "stream",
     "text": [
      "no url 10.1161/CIRCRESAHA.115.306721\n"
     ]
    },
    {
     "name": "stderr",
     "output_type": "stream",
     "text": [
      "12.543962485345839% failure:  87%|████████▋ | 4266/4924 [1:22:15<1:49:28,  9.98s/it]"
     ]
    },
    {
     "name": "stdout",
     "output_type": "stream",
     "text": [
      "no url 10.1016/j.pcad.2017.06.003\n"
     ]
    },
    {
     "name": "stderr",
     "output_type": "stream",
     "text": [
      "12.549661135779388% failure:  87%|████████▋ | 4280/4924 [1:25:25<1:51:04, 10.35s/it]"
     ]
    },
    {
     "name": "stdout",
     "output_type": "stream",
     "text": [
      "no url 10.1155/2019/8438650\n"
     ]
    },
    {
     "name": "stderr",
     "output_type": "stream",
     "text": [
      "12.540792540792541% failure:  87%|████████▋ | 4291/4924 [1:27:37<1:13:33,  6.97s/it]"
     ]
    },
    {
     "name": "stdout",
     "output_type": "stream",
     "text": [
      "no url 10.1016/j.ncrna.2020.02.005\n"
     ]
    },
    {
     "name": "stderr",
     "output_type": "stream",
     "text": [
      "12.56106071179344% failure:  87%|████████▋ | 4300/4924 [1:29:49<1:13:57,  7.11s/it] "
     ]
    },
    {
     "name": "stdout",
     "output_type": "stream",
     "text": [
      "no url 10.1016/j.bbrep.2022.101394\n"
     ]
    },
    {
     "name": "stderr",
     "output_type": "stream",
     "text": [
      "12.572623750871484% failure:  87%|████████▋ | 4304/4924 [1:30:32<1:21:33,  7.89s/it]"
     ]
    },
    {
     "name": "stdout",
     "output_type": "stream",
     "text": [
      "no url 10.1016/j.ygeno.2020.10.024\n"
     ]
    },
    {
     "name": "stderr",
     "output_type": "stream",
     "text": [
      "12.523148148148147% failure:  88%|████████▊ | 4321/4924 [1:43:33<15:22:56, 91.84s/it] 2023-08-29 23:54:57,568:WARNING - Retrying (Retry(total=2, connect=None, read=None, redirect=None, status=None)) after connection broken by 'SSLEOFError(8, 'EOF occurred in violation of protocol (_ssl.c:2426)')': /vectors/upsert\n",
      "12.525999537785996% failure:  88%|████████▊ | 4328/4924 [2:00:09<11:03:26, 66.79s/it] "
     ]
    },
    {
     "name": "stdout",
     "output_type": "stream",
     "text": [
      "no url 10.1016/j.pharmthera.2021.108025\n"
     ]
    },
    {
     "name": "stderr",
     "output_type": "stream",
     "text": [
      "12.51728907330567% failure:  88%|████████▊ | 4339/4924 [2:02:19<1:21:50,  8.39s/it]  "
     ]
    },
    {
     "name": "stdout",
     "output_type": "stream",
     "text": [
      "no url 10.1007/s00424-021-02553-y\n"
     ]
    },
    {
     "name": "stderr",
     "output_type": "stream",
     "text": [
      "12.525903753166014% failure:  88%|████████▊ | 4344/4924 [2:03:01<1:04:17,  6.65s/it]"
     ]
    },
    {
     "name": "stdout",
     "output_type": "stream",
     "text": [
      "no url 10.1016/j.jacbts.2021.08.004\n"
     ]
    },
    {
     "name": "stderr",
     "output_type": "stream",
     "text": [
      "12.54299472598028% failure:  89%|████████▊ | 4362/4924 [2:05:54<1:28:11,  9.42s/it] "
     ]
    },
    {
     "name": "stdout",
     "output_type": "stream",
     "text": [
      "no url 10.4103/1673-5374.253174\n"
     ]
    },
    {
     "name": "stderr",
     "output_type": "stream",
     "text": [
      "12.563044475011461% failure:  89%|████████▊ | 4363/4924 [2:05:55<1:03:20,  6.77s/it]"
     ]
    },
    {
     "name": "stdout",
     "output_type": "stream",
     "text": [
      "no url 10.21037/atm.2019.04.44\n"
     ]
    },
    {
     "name": "stderr",
     "output_type": "stream",
     "text": [
      "12.583085033234012% failure:  89%|████████▊ | 4364/4924 [2:05:55<45:05,  4.83s/it]  "
     ]
    },
    {
     "name": "stdout",
     "output_type": "stream",
     "text": [
      "no url 10.33549/physiolres.934718\n"
     ]
    },
    {
     "name": "stderr",
     "output_type": "stream",
     "text": [
      "12.605811027224892% failure:  89%|████████▉ | 4372/4924 [2:07:14<58:33,  6.36s/it]  "
     ]
    },
    {
     "name": "stdout",
     "output_type": "stream",
     "text": [
      "no url 10.5339/gcsp.2014.30\n"
     ]
    },
    {
     "name": "stderr",
     "output_type": "stream",
     "text": [
      "12.664847658026376% failure:  89%|████████▉ | 4399/4924 [2:11:07<32:36,  3.73s/it]  "
     ]
    },
    {
     "name": "stdout",
     "output_type": "stream",
     "text": [
      "no url 10.4330/wjc.v8.i2.211\n"
     ]
    },
    {
     "name": "stderr",
     "output_type": "stream",
     "text": [
      "12.673177379059734% failure:  89%|████████▉ | 4404/4924 [2:12:11<1:16:06,  8.78s/it]"
     ]
    },
    {
     "name": "stdout",
     "output_type": "stream",
     "text": [
      "no url 10.7150/thno.71813\n"
     ]
    },
    {
     "name": "stderr",
     "output_type": "stream",
     "text": [
      "12.690124858115778% failure:  89%|████████▉ | 4406/4924 [2:12:29<1:09:40,  8.07s/it]"
     ]
    },
    {
     "name": "stdout",
     "output_type": "stream",
     "text": [
      "no url 10.1152/physiolgenomics.00054.2014\n"
     ]
    },
    {
     "name": "stderr",
     "output_type": "stream",
     "text": [
      "12.692656391659114% failure:  90%|████████▉ | 4413/4924 [2:13:41<1:08:30,  8.04s/it]"
     ]
    },
    {
     "name": "stdout",
     "output_type": "stream",
     "text": [
      "no url 10.1016/j.ncrna.2017.03.001\n"
     ]
    },
    {
     "name": "stderr",
     "output_type": "stream",
     "text": [
      "12.709560489352063% failure:  90%|████████▉ | 4415/4924 [2:14:03<1:12:58,  8.60s/it]"
     ]
    },
    {
     "name": "stdout",
     "output_type": "stream",
     "text": [
      "no url 10.1021/acsbiomaterials.2c01148\n"
     ]
    },
    {
     "name": "stderr",
     "output_type": "stream",
     "text": [
      "12.72644927536232% failure:  90%|████████▉ | 4417/4924 [2:14:26<1:16:52,  9.10s/it] "
     ]
    },
    {
     "name": "stdout",
     "output_type": "stream",
     "text": [
      "no url 10.1016/j.compbiolchem.2023.107925\n"
     ]
    },
    {
     "name": "stderr",
     "output_type": "stream",
     "text": [
      "12.728917024643907% failure:  90%|████████▉ | 4424/4924 [2:15:33<1:00:45,  7.29s/it]"
     ]
    },
    {
     "name": "stdout",
     "output_type": "stream",
     "text": [
      "no url 10.21037/atm.2019.07.20\n"
     ]
    },
    {
     "name": "stderr",
     "output_type": "stream",
     "text": [
      "12.745762711864405% failure:  90%|████████▉ | 4426/4924 [2:15:36<35:30,  4.28s/it]  "
     ]
    },
    {
     "name": "stdout",
     "output_type": "stream",
     "text": [
      "no url 10.1007/s13534-021-00186-9\n"
     ]
    },
    {
     "name": "stderr",
     "output_type": "stream",
     "text": [
      "12.765476728422955% failure:  90%|████████▉ | 4427/4924 [2:15:37<26:53,  3.25s/it]"
     ]
    },
    {
     "name": "stdout",
     "output_type": "stream",
     "text": [
      "('Connection aborted.', RemoteDisconnected('Remote end closed connection without response'))\n"
     ]
    },
    {
     "name": "stderr",
     "output_type": "stream",
     "text": [
      "12.756366914581923% failure:  90%|█████████ | 4438/4924 [2:17:15<59:06,  7.30s/it]  "
     ]
    },
    {
     "name": "stdout",
     "output_type": "stream",
     "text": [
      "no url 10.1016/j.crphar.2022.100133\n"
     ]
    },
    {
     "name": "stderr",
     "output_type": "stream",
     "text": [
      "12.77602523659306% failure:  90%|█████████ | 4439/4924 [2:17:15<42:05,  5.21s/it] "
     ]
    },
    {
     "name": "stdout",
     "output_type": "stream",
     "text": [
      "no url 10.7555/JBR.26.20110122\n"
     ]
    },
    {
     "name": "stderr",
     "output_type": "stream",
     "text": [
      "12.79748540637629% failure:  90%|█████████ | 4455/4924 [2:20:20<1:27:06, 11.14s/it] "
     ]
    },
    {
     "name": "stdout",
     "output_type": "stream",
     "text": [
      "no url 10.15252/emmm.201606924\n"
     ]
    },
    {
     "name": "stderr",
     "output_type": "stream",
     "text": [
      "12.825112107623319% failure:  91%|█████████ | 4461/4924 [2:21:05<1:06:24,  8.61s/it]"
     ]
    },
    {
     "name": "stdout",
     "output_type": "stream",
     "text": [
      "no url 10.4330/wjc.v6.i9.939\n"
     ]
    },
    {
     "name": "stderr",
     "output_type": "stream",
     "text": [
      "12.827400940228342% failure:  91%|█████████ | 4468/4924 [2:22:48<1:21:39, 10.74s/it]"
     ]
    },
    {
     "name": "stdout",
     "output_type": "stream",
     "text": [
      "no url 10.1152/physiolgenomics.00028.2015\n"
     ]
    },
    {
     "name": "stderr",
     "output_type": "stream",
     "text": [
      "12.829682610639248% failure:  91%|█████████ | 4475/4924 [2:24:12<1:14:49, 10.00s/it]"
     ]
    },
    {
     "name": "stdout",
     "output_type": "stream",
     "text": [
      "no url 10.4330/wjc.v6.i8.713\n"
     ]
    },
    {
     "name": "stderr",
     "output_type": "stream",
     "text": [
      "12.817654926437807% failure:  91%|█████████ | 4487/4924 [2:26:40<52:36,  7.22s/it]  "
     ]
    },
    {
     "name": "stdout",
     "output_type": "stream",
     "text": [
      "no url 10.3803/EnM.2017.32.2.171\n"
     ]
    },
    {
     "name": "stderr",
     "output_type": "stream",
     "text": [
      "12.834224598930483% failure:  91%|█████████ | 4489/4924 [2:26:54<47:21,  6.53s/it]  "
     ]
    },
    {
     "name": "stdout",
     "output_type": "stream",
     "text": [
      "no url 10.1016/j.biopha.2019.01.057\n"
     ]
    },
    {
     "name": "stderr",
     "output_type": "stream",
     "text": [
      "12.83934134401424% failure:  91%|█████████▏| 4495/4924 [2:27:49<1:11:06,  9.94s/it] "
     ]
    },
    {
     "name": "stdout",
     "output_type": "stream",
     "text": [
      "no url 10.20517/jca.2023.15\n"
     ]
    },
    {
     "name": "stderr",
     "output_type": "stream",
     "text": [
      "12.8587319243604% failure:  91%|█████████▏| 4496/4924 [2:27:50<51:03,  7.16s/it]   "
     ]
    },
    {
     "name": "stdout",
     "output_type": "stream",
     "text": [
      "no url 10.1016/j.jacbts.2016.06.008\n"
     ]
    },
    {
     "name": "stderr",
     "output_type": "stream",
     "text": [
      "12.875250166777851% failure:  91%|█████████▏| 4498/4924 [2:28:04<47:25,  6.68s/it]  "
     ]
    },
    {
     "name": "stdout",
     "output_type": "stream",
     "text": [
      "HTTPSConnectionPool(host='www.g3journal.org', port=443): Max retries exceeded with url: /content/ggg/5/11/2453.full.pdf (Caused by SSLError(SSLCertVerificationError(1, \"[SSL: CERTIFICATE_VERIFY_FAILED] certificate verify failed: Hostname mismatch, certificate is not valid for 'www.g3journal.org'. (_ssl.c:1007)\")))\n"
     ]
    },
    {
     "name": "stderr",
     "output_type": "stream",
     "text": [
      "12.84891448825875% failure:  92%|█████████▏| 4515/4924 [2:31:09<1:12:06, 10.58s/it] "
     ]
    },
    {
     "name": "stdout",
     "output_type": "stream",
     "text": [
      "no url 10.1002/ehf2.12054\n"
     ]
    },
    {
     "name": "stderr",
     "output_type": "stream",
     "text": [
      "12.844846612226881% failure:  92%|█████████▏| 4532/4924 [2:34:20<39:06,  5.99s/it]  "
     ]
    },
    {
     "name": "stdout",
     "output_type": "stream",
     "text": [
      "no url 10.1016/j.scr.2015.12.039\n"
     ]
    },
    {
     "name": "stderr",
     "output_type": "stream",
     "text": [
      "12.782284586713441% failure:  93%|█████████▎| 4562/4924 [2:40:35<38:56,  6.45s/it]  "
     ]
    },
    {
     "name": "stdout",
     "output_type": "stream",
     "text": [
      "no url 10.1101/2023.06.26.546601\n"
     ]
    },
    {
     "name": "stderr",
     "output_type": "stream",
     "text": [
      "12.811543506777436% failure:  93%|█████████▎| 4575/4924 [2:43:14<43:21,  7.45s/it]  "
     ]
    },
    {
     "name": "stdout",
     "output_type": "stream",
     "text": [
      "no url 10.4240/wjgs.v13.i3.231\n"
     ]
    },
    {
     "name": "stderr",
     "output_type": "stream",
     "text": [
      "12.822193097422454% failure:  93%|█████████▎| 4579/4924 [2:43:52<47:33,  8.27s/it]  "
     ]
    },
    {
     "name": "stdout",
     "output_type": "stream",
     "text": [
      "no url 10.18632/aging.103136\n"
     ]
    },
    {
     "name": "stderr",
     "output_type": "stream",
     "text": [
      "12.76872964169381% failure:  94%|█████████▎| 4606/4924 [2:50:34<1:09:45, 13.16s/it] "
     ]
    },
    {
     "name": "stdout",
     "output_type": "stream",
     "text": [
      "no url 10.1161/JAHA.118.011134\n"
     ]
    },
    {
     "name": "stderr",
     "output_type": "stream",
     "text": [
      "12.811619336657273% failure:  94%|█████████▎| 4614/4924 [2:51:35<30:01,  5.81s/it]  "
     ]
    },
    {
     "name": "stdout",
     "output_type": "stream",
     "text": [
      "no url 10.1016/j.heliyon.2023.e14479\n"
     ]
    },
    {
     "name": "stderr",
     "output_type": "stream",
     "text": [
      "12.775140267587398% failure:  94%|█████████▍| 4635/4924 [2:56:14<1:02:29, 12.97s/it]"
     ]
    },
    {
     "name": "stdout",
     "output_type": "stream",
     "text": [
      "no url 10.12997/jla.2020.9.3.449\n"
     ]
    },
    {
     "name": "stderr",
     "output_type": "stream",
     "text": [
      "12.771447000645022% failure:  94%|█████████▍| 4652/4924 [2:58:36<30:15,  6.68s/it]  "
     ]
    },
    {
     "name": "stdout",
     "output_type": "stream",
     "text": [
      "no url 10.1155/2018/3290372\n"
     ]
    },
    {
     "name": "stderr",
     "output_type": "stream",
     "text": [
      "12.790197764402409% failure:  94%|█████████▍| 4653/4924 [2:58:36<21:38,  4.79s/it]"
     ]
    },
    {
     "name": "stdout",
     "output_type": "stream",
     "text": [
      "no url 10.1016/j.jshs.2018.09.008\n"
     ]
    },
    {
     "name": "stderr",
     "output_type": "stream",
     "text": [
      "12.79244473062889% failure:  95%|█████████▍| 4660/4924 [3:00:24<45:47, 10.41s/it]   "
     ]
    },
    {
     "name": "stdout",
     "output_type": "stream",
     "text": [
      "no url 10.7717/peerj.10920\n"
     ]
    },
    {
     "name": "stderr",
     "output_type": "stream",
     "text": [
      "12.808410212400773% failure:  95%|█████████▍| 4662/4924 [3:00:44<40:42,  9.32s/it]"
     ]
    },
    {
     "name": "stdout",
     "output_type": "stream",
     "text": [
      "no url 10.1016/j.molmet.2014.01.007\n"
     ]
    },
    {
     "name": "stderr",
     "output_type": "stream",
     "text": [
      "12.805139186295502% failure:  95%|█████████▍| 4671/4924 [3:03:24<49:08, 11.66s/it]  "
     ]
    },
    {
     "name": "stdout",
     "output_type": "stream",
     "text": [
      "no url 10.3727/096504018X15189093975640\n"
     ]
    },
    {
     "name": "stderr",
     "output_type": "stream",
     "text": [
      "12.823806465424962% failure:  95%|█████████▍| 4672/4924 [3:03:25<34:39,  8.25s/it]"
     ]
    },
    {
     "name": "stdout",
     "output_type": "stream",
     "text": [
      "no url 10.1152/ajpheart.00474.2012\n"
     ]
    },
    {
     "name": "stderr",
     "output_type": "stream",
     "text": [
      "12.828736369467608% failure:  95%|█████████▌| 4678/4924 [3:04:12<22:50,  5.57s/it]"
     ]
    },
    {
     "name": "stdout",
     "output_type": "stream",
     "text": [
      "no url 10.1016/j.ijcha.2015.06.006\n"
     ]
    },
    {
     "name": "stderr",
     "output_type": "stream",
     "text": [
      "12.84737067122702% failure:  95%|█████████▌| 4679/4924 [3:04:13<16:17,  3.99s/it] "
     ]
    },
    {
     "name": "stdout",
     "output_type": "stream",
     "text": [
      "no url 10.1016/j.ijmyco.2016.09.031\n"
     ]
    },
    {
     "name": "stderr",
     "output_type": "stream",
     "text": [
      "12.865997007907673% failure:  95%|█████████▌| 4680/4924 [3:04:13<11:38,  2.86s/it]"
     ]
    },
    {
     "name": "stdout",
     "output_type": "stream",
     "text": [
      "no url 10.4330/wjc.v14.i5.282\n"
     ]
    },
    {
     "name": "stderr",
     "output_type": "stream",
     "text": [
      "12.88121134570271% failure:  95%|█████████▌| 4690/4924 [3:06:36<32:28,  8.33s/it]   "
     ]
    },
    {
     "name": "stdout",
     "output_type": "stream",
     "text": [
      "('Connection aborted.', RemoteDisconnected('Remote end closed connection without response'))\n"
     ]
    },
    {
     "name": "stderr",
     "output_type": "stream",
     "text": [
      "12.890874282067646% failure:  95%|█████████▌| 4702/4924 [3:09:43<49:18, 13.33s/it]  "
     ]
    },
    {
     "name": "stdout",
     "output_type": "stream",
     "text": [
      "no url 10.1016/j.placenta.2021.03.007\n"
     ]
    },
    {
     "name": "stderr",
     "output_type": "stream",
     "text": [
      "12.914188615123196% failure:  96%|█████████▌| 4709/4924 [3:11:00<28:13,  7.88s/it]"
     ]
    },
    {
     "name": "stdout",
     "output_type": "stream",
     "text": [
      "no url 10.1002/ehf2.12123\n"
     ]
    },
    {
     "name": "stderr",
     "output_type": "stream",
     "text": [
      "12.929936305732484% failure:  96%|█████████▌| 4711/4924 [3:11:30<36:05, 10.17s/it]"
     ]
    },
    {
     "name": "stdout",
     "output_type": "stream",
     "text": [
      "no url 10.1016/j.apsb.2021.09.020\n"
     ]
    },
    {
     "name": "stderr",
     "output_type": "stream",
     "text": [
      "12.934690415606445% failure:  96%|█████████▌| 4717/4924 [3:12:37<28:55,  8.39s/it]"
     ]
    },
    {
     "name": "stdout",
     "output_type": "stream",
     "text": [
      "no url 10.1093/ehjcvp/pvz062\n"
     ]
    },
    {
     "name": "stderr",
     "output_type": "stream",
     "text": [
      "12.947658402203857% failure:  96%|█████████▌| 4720/4924 [3:13:04<27:29,  8.09s/it]"
     ]
    },
    {
     "name": "stdout",
     "output_type": "stream",
     "text": [
      "no url 10.1016/j.jacbts.2020.08.005\n"
     ]
    },
    {
     "name": "stderr",
     "output_type": "stream",
     "text": [
      "12.951616311007818% failure:  96%|█████████▌| 4734/4924 [3:15:55<25:28,  8.05s/it]"
     ]
    },
    {
     "name": "stdout",
     "output_type": "stream",
     "text": [
      "no url 10.1039/d0dt00332h\n"
     ]
    },
    {
     "name": "stderr",
     "output_type": "stream",
     "text": [
      "12.964527027027026% failure:  96%|█████████▌| 4737/4924 [3:16:17<20:53,  6.70s/it]"
     ]
    },
    {
     "name": "stdout",
     "output_type": "stream",
     "text": [
      "no url 10.1016/j.jacbts.2022.02.003\n"
     ]
    },
    {
     "name": "stderr",
     "output_type": "stream",
     "text": [
      "12.969211303247574% failure:  96%|█████████▋| 4743/4924 [3:17:25<24:50,  8.24s/it]"
     ]
    },
    {
     "name": "stdout",
     "output_type": "stream",
     "text": [
      "no url 10.1016/j.ijmyco.2016.09.045\n"
     ]
    },
    {
     "name": "stderr",
     "output_type": "stream",
     "text": [
      "12.987560615644107% failure:  96%|█████████▋| 4744/4924 [3:17:25<17:29,  5.83s/it]"
     ]
    },
    {
     "name": "stdout",
     "output_type": "stream",
     "text": [
      "no url 10.2174/1389202923666220927110258\n"
     ]
    },
    {
     "name": "stderr",
     "output_type": "stream",
     "text": [
      "12.973086627417999% failure:  97%|█████████▋| 4757/4924 [3:20:04<27:04,  9.73s/it]"
     ]
    },
    {
     "name": "stdout",
     "output_type": "stream",
     "text": [
      "no url 10.7555/JBR.32.20170137\n"
     ]
    },
    {
     "name": "stderr",
     "output_type": "stream",
     "text": [
      "13.026178010471204% failure:  97%|█████████▋| 4776/4924 [3:23:50<13:10,  5.34s/it]"
     ]
    },
    {
     "name": "stdout",
     "output_type": "stream",
     "text": [
      "no url 10.1016/j.jacbts.2021.01.001\n"
     ]
    },
    {
     "name": "stderr",
     "output_type": "stream",
     "text": [
      "13.038928421933862% failure:  97%|█████████▋| 4779/4924 [3:24:04<11:27,  4.74s/it]"
     ]
    },
    {
     "name": "stdout",
     "output_type": "stream",
     "text": [
      "no url 10.1016/j.jacbts.2018.01.005\n"
     ]
    },
    {
     "name": "stderr",
     "output_type": "stream",
     "text": [
      "13.0571249215317% failure:  97%|█████████▋| 4780/4924 [3:24:05<08:17,  3.45s/it]  "
     ]
    },
    {
     "name": "stdout",
     "output_type": "stream",
     "text": [
      "no url 10.1016/j.jtemb.2020.126541\n"
     ]
    },
    {
     "name": "stderr",
     "output_type": "stream",
     "text": [
      "13.088020071085094% failure:  97%|█████████▋| 4784/4924 [3:24:35<09:58,  4.28s/it]"
     ]
    },
    {
     "name": "stdout",
     "output_type": "stream",
     "text": [
      "no url 10.1155/2019/1420717\n"
     ]
    },
    {
     "name": "stderr",
     "output_type": "stream",
     "text": [
      "13.1061872909699% failure:  97%|█████████▋| 4785/4924 [3:24:35<07:09,  3.09s/it]  "
     ]
    },
    {
     "name": "stdout",
     "output_type": "stream",
     "text": [
      "no url 10.1016/j.reth.2019.06.004\n"
     ]
    },
    {
     "name": "stderr",
     "output_type": "stream",
     "text": [
      "13.113384840258927% failure:  97%|█████████▋| 4790/4924 [3:38:28<4:35:33, 123.38s/it]"
     ]
    },
    {
     "name": "stdout",
     "output_type": "stream",
     "text": [
      "Server disconnected without sending a response.\n"
     ]
    },
    {
     "name": "stderr",
     "output_type": "stream",
     "text": [
      "13.127734944780162% failure:  97%|█████████▋| 4800/4924 [3:56:45<2:28:23, 71.81s/it] "
     ]
    },
    {
     "name": "stdout",
     "output_type": "stream",
     "text": [
      "no url 10.1016/j.jacbts.2019.10.011\n"
     ]
    },
    {
     "name": "stderr",
     "output_type": "stream",
     "text": [
      "13.128375571250519% failure:  98%|█████████▊| 4815/4924 [4:00:43<23:09, 12.75s/it]  "
     ]
    },
    {
     "name": "stdout",
     "output_type": "stream",
     "text": [
      "no url 10.5527/wjn.v4.i1.57\n"
     ]
    },
    {
     "name": "stderr",
     "output_type": "stream",
     "text": [
      "13.143687707641197% failure:  98%|█████████▊| 4817/4924 [4:01:05<19:27, 10.91s/it]"
     ]
    },
    {
     "name": "stdout",
     "output_type": "stream",
     "text": [
      "no url 10.3389/fcvm.2023.1148618\n"
     ]
    },
    {
     "name": "stderr",
     "output_type": "stream",
     "text": [
      "13.161718912186007% failure:  98%|█████████▊| 4818/4924 [4:01:06<13:40,  7.74s/it]"
     ]
    },
    {
     "name": "stdout",
     "output_type": "stream",
     "text": [
      "no url 10.1016/j.toxrep.2022.03.006\n"
     ]
    },
    {
     "name": "stderr",
     "output_type": "stream",
     "text": [
      "13.179742631797426% failure:  98%|█████████▊| 4819/4924 [4:01:06<09:38,  5.51s/it]"
     ]
    },
    {
     "name": "stdout",
     "output_type": "stream",
     "text": [
      "no url 10.1016/j.ncrna.2016.12.002\n"
     ]
    },
    {
     "name": "stderr",
     "output_type": "stream",
     "text": [
      "13.184079601990051% failure:  98%|█████████▊| 4825/4924 [4:02:12<13:21,  8.10s/it]"
     ]
    },
    {
     "name": "stdout",
     "output_type": "stream",
     "text": [
      "no url 10.7555/JBR.36.20220123\n"
     ]
    },
    {
     "name": "stderr",
     "output_type": "stream",
     "text": [
      "13.199336924989641% failure:  98%|█████████▊| 4827/4924 [4:02:22<09:56,  6.15s/it]"
     ]
    },
    {
     "name": "stdout",
     "output_type": "stream",
     "text": [
      "no url 10.21037/jtd.2018.10.52\n"
     ]
    },
    {
     "name": "stderr",
     "output_type": "stream",
     "text": [
      "13.209109730848862% failure:  98%|█████████▊| 4831/4924 [4:02:51<08:22,  5.41s/it]"
     ]
    },
    {
     "name": "stdout",
     "output_type": "stream",
     "text": [
      "no url 10.21037/atm.2018.06.09\n"
     ]
    },
    {
     "name": "stderr",
     "output_type": "stream",
     "text": [
      "13.227075139722624% failure:  98%|█████████▊| 4832/4924 [4:02:51<05:54,  3.86s/it]"
     ]
    },
    {
     "name": "stdout",
     "output_type": "stream",
     "text": [
      "no url 10.1016/j.jacbts.2021.11.004\n"
     ]
    },
    {
     "name": "stderr",
     "output_type": "stream",
     "text": [
      "13.231341740748398% failure:  98%|█████████▊| 4838/4924 [4:04:39<18:35, 12.97s/it]"
     ]
    },
    {
     "name": "stdout",
     "output_type": "stream",
     "text": [
      "no url 10.1016/j.omtn.2021.05.022\n"
     ]
    },
    {
     "name": "stderr",
     "output_type": "stream",
     "text": [
      "13.23013415892673% failure:  98%|█████████▊| 4846/4924 [4:05:53<09:00,  6.93s/it] "
     ]
    },
    {
     "name": "stdout",
     "output_type": "stream",
     "text": [
      "no url 10.1113/jphysiol.2013.251470\n"
     ]
    },
    {
     "name": "stderr",
     "output_type": "stream",
     "text": [
      "13.256484149855908% failure:  99%|█████████▊| 4859/4924 [4:08:17<08:59,  8.30s/it]"
     ]
    },
    {
     "name": "stdout",
     "output_type": "stream",
     "text": [
      "HTTPSConnectionPool(host='jcvtr.tbzmed.ac.ir', port=443): Max retries exceeded with url: /PDF/jcvtr-12-195.pdf (Caused by SSLError(SSLCertVerificationError(1, '[SSL: CERTIFICATE_VERIFY_FAILED] certificate verify failed: unable to get local issuer certificate (_ssl.c:1007)')))\n"
     ]
    },
    {
     "name": "stderr",
     "output_type": "stream",
     "text": [
      "13.263417643429982% failure:  99%|█████████▉| 4864/4924 [4:09:25<11:04, 11.07s/it]"
     ]
    },
    {
     "name": "stdout",
     "output_type": "stream",
     "text": [
      "no url 10.21037/cdt.2019.11.06\n"
     ]
    },
    {
     "name": "stderr",
     "output_type": "stream",
     "text": [
      "13.27579120427456% failure:  99%|█████████▉| 4867/4924 [4:09:59<09:25,  9.93s/it] "
     ]
    },
    {
     "name": "stdout",
     "output_type": "stream",
     "text": [
      "no url 10.1016/j.devcel.2021.09.001\n"
     ]
    },
    {
     "name": "stderr",
     "output_type": "stream",
     "text": [
      "13.263632636326363% failure:  99%|█████████▉| 4879/4924 [4:12:07<05:15,  7.00s/it]"
     ]
    },
    {
     "name": "stdout",
     "output_type": "stream",
     "text": [
      "no url 10.1007/s12975-020-00807-y\n"
     ]
    },
    {
     "name": "stderr",
     "output_type": "stream",
     "text": [
      "13.28141012502562% failure:  99%|█████████▉| 4880/4924 [4:12:08<03:40,  5.00s/it] "
     ]
    },
    {
     "name": "stdout",
     "output_type": "stream",
     "text": [
      "no url 10.1016/j.reth.2019.12.002\n"
     ]
    },
    {
     "name": "stderr",
     "output_type": "stream",
     "text": [
      "13.29100962523039% failure:  99%|█████████▉| 4884/4924 [4:12:54<05:36,  8.40s/it] "
     ]
    },
    {
     "name": "stdout",
     "output_type": "stream",
     "text": [
      "no url 10.1016/j.csbj.2021.03.010\n"
     ]
    },
    {
     "name": "stderr",
     "output_type": "stream",
     "text": [
      "13.26530612244898% failure: 100%|█████████▉| 4901/4924 [4:17:10<04:28, 11.67s/it] "
     ]
    },
    {
     "name": "stdout",
     "output_type": "stream",
     "text": [
      "no url 10.1111/jth.13061\n"
     ]
    },
    {
     "name": "stderr",
     "output_type": "stream",
     "text": [
      "13.28300346867986% failure: 100%|█████████▉| 4902/4924 [4:17:10<03:01,  8.26s/it]"
     ]
    },
    {
     "name": "stdout",
     "output_type": "stream",
     "text": [
      "no url 10.1038/s42255-020-00279-2\n"
     ]
    },
    {
     "name": "stderr",
     "output_type": "stream",
     "text": [
      "13.24395693682714% failure: 100%|██████████| 4924/4924 [4:25:28<00:00, 10.86s/it] "
     ]
    },
    {
     "name": "stdout",
     "output_type": "stream",
     "text": [
      "no url 10.1016/j.ajhg.2022.11.011\n"
     ]
    },
    {
     "name": "stderr",
     "output_type": "stream",
     "text": [
      "13.24395693682714% failure: 100%|██████████| 4924/4924 [4:26:05<00:00,  3.24s/it]\n"
     ]
    }
   ],
   "source": [
    "pbar = tqdm(total=len(papersDF))\n",
    "for index, row in papersDF.iterrows():\n",
    "    pbar.update(1)\n",
    "    pbar.refresh()\n",
    "    if index != 0:\n",
    "        pbar.set_description(f\"{(len(no_url) + len(loader_not_works)) / index * 100}% failure\")\n",
    "    if index <= 3838:\n",
    "        continue\n",
    "    doi = row['DOI']\n",
    "    # print(f\"https://api.unpaywall.org/v2/{doi}?email=ryandu9221@gmail.com\")\n",
    "    req = requests.get(f\"https://api.unpaywall.org/v2/{doi}?email=ryandu9221@gmail.com\")\n",
    "    if req.status_code == 200:\n",
    "        if req.json().get('is_oa') == True:\n",
    "            oa = req.json().get('best_oa_location')\n",
    "            if oa == None:\n",
    "                no_url.append(doi)\n",
    "                print(\"no oa \" + doi)\n",
    "                continue\n",
    "            url = oa.get('url_for_pdf')\n",
    "            if url is None:\n",
    "                no_url.append(doi)\n",
    "                print(\"no url \" + doi)\n",
    "                continue\n",
    "            try:\n",
    "                cleaned_text = clean_up_pdf(url)\n",
    "                cleaned_text_batch = ''.join(cleaned_text)\n",
    "                \n",
    "                splitter = RecursiveCharacterTextSplitter(\n",
    "                    chunk_size = 1000,\n",
    "                    chunk_overlap  = 0,\n",
    "                    length_function = len,\n",
    "                    is_separator_regex = False,\n",
    "                )\n",
    "                chunks = splitter.create_documents([cleaned_text_batch])\n",
    "                for chunk in chunks:\n",
    "                    chunk.metadata[\"doi\"] = doi\n",
    "                    chunk.metadata[\"add_date\"] = str(datetime.datetime.now().date())\n",
    "                    # chunk.metadata.pop(\"source\")\n",
    "                embedded = Pinecone.from_documents(chunks, embedding,index_name=index_name,namespace=namespace )\n",
    "                supabase.table(\"papers\").insert({\"doi\": doi}).execute()\n",
    "                # print(\"sucess for \" + doi)\n",
    "            except Exception as error:\n",
    "                loader_not_works.append(doi)\n",
    "                # print(f\"not work for {index} \" + doi)\n",
    "                print(error)\n",
    "    else:\n",
    "        no_url.append(doi)\n",
    "    \n",
    "pbar.close()"
   ]
  },
  {
   "cell_type": "code",
   "execution_count": 12,
   "metadata": {},
   "outputs": [
    {
     "data": {
      "text/plain": [
       "3838"
      ]
     },
     "execution_count": 12,
     "metadata": {},
     "output_type": "execute_result"
    }
   ],
   "source": [
    "index"
   ]
  },
  {
   "cell_type": "markdown",
   "metadata": {},
   "source": [
    "# Test Cycle"
   ]
  },
  {
   "cell_type": "code",
   "execution_count": null,
   "metadata": {},
   "outputs": [],
   "source": [
    "test_doi = \"10.1038/s41584-020-0426-0\""
   ]
  },
  {
   "cell_type": "code",
   "execution_count": null,
   "metadata": {},
   "outputs": [],
   "source": [
    "req = requests.get(f\"https://api.unpaywall.org/v2/{test_doi}?email=ryandu9221@gmail.com\")\n",
    "url = req.json().get('best_oa_location').get('url')\n",
    "fileloader = OnlinePDFLoader(url)\n",
    "loader = UnstructuredPDFLoader(fileloader.file_path)\n",
    "splitter = RecursiveCharacterTextSplitter(\n",
    "    # Set a really small chunk size, just to show.\n",
    "    chunk_size = 500,\n",
    "    chunk_overlap  = 0,\n",
    "    length_function = len,\n",
    "    is_separator_regex = False,\n",
    ")\n",
    "chunks = loader.load_and_split(text_splitter=splitter)\n",
    "for chunk in chunks:\n",
    "    chunk.metadata[\"doi\"] = test_doi\n",
    "    chunk.metadata[\"add_date\"] = str(datetime.datetime.now().date())\n",
    "    chunk.metadata.pop(\"source\")"
   ]
  },
  {
   "cell_type": "code",
   "execution_count": null,
   "metadata": {},
   "outputs": [],
   "source": [
    "embedded = SupabaseVectorStore.from_documents(chunks, embedding, client=supabase, table_name=\"knowledge\")"
   ]
  },
  {
   "cell_type": "code",
   "execution_count": null,
   "metadata": {},
   "outputs": [],
   "source": []
  }
 ],
 "metadata": {
  "kernelspec": {
   "display_name": ".venv",
   "language": "python",
   "name": "python3"
  },
  "language_info": {
   "codemirror_mode": {
    "name": "ipython",
    "version": 3
   },
   "file_extension": ".py",
   "mimetype": "text/x-python",
   "name": "python",
   "nbconvert_exporter": "python",
   "pygments_lexer": "ipython3",
   "version": "3.10.12"
  },
  "orig_nbformat": 4
 },
 "nbformat": 4,
 "nbformat_minor": 2
}

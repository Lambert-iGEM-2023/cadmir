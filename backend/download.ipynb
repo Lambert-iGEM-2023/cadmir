{
 "cells": [
  {
   "cell_type": "code",
   "execution_count": 48,
   "metadata": {},
   "outputs": [
    {
     "data": {
      "text/plain": [
       "True"
      ]
     },
     "execution_count": 48,
     "metadata": {},
     "output_type": "execute_result"
    }
   ],
   "source": [
    "import requests\n",
    "import pandas\n",
    "from langchain.document_loaders import UnstructuredPDFLoader, OnlinePDFLoader, PyPDFLoader\n",
    "from langchain.text_splitter import RecursiveCharacterTextSplitter\n",
    "from langchain.embeddings import OpenAIEmbeddings\n",
    "from langchain.vectorstores.supabase import SupabaseVectorStore\n",
    "from supabase.client import Client, create_client\n",
    "import datetime\n",
    "from tqdm import tqdm\n",
    "\n",
    "import os\n",
    "from dotenv import load_dotenv\n",
    "load_dotenv()"
   ]
  },
  {
   "cell_type": "code",
   "execution_count": 40,
   "metadata": {},
   "outputs": [
    {
     "name": "stderr",
     "output_type": "stream",
     "text": [
      "  0%|          | 1/4924 [00:05<7:56:31,  5.81s/it]\n",
      "100%|██████████| 4924/4924 [00:00<00:00, 58875.48it/s]\n"
     ]
    }
   ],
   "source": [
    "pbar = tqdm(total=len(papersDF))\n",
    "for index, row in papersDF.iterrows():\n",
    "    pbar.update(1)\n",
    "pbar.close()"
   ]
  },
  {
   "cell_type": "code",
   "execution_count": 41,
   "metadata": {},
   "outputs": [],
   "source": [
    "embedding = OpenAIEmbeddings()\n",
    "supabase: Client = create_client(supabase_url=os.environ.get(\"SUPABASE_URL\"), supabase_key=os.environ.get(\"SUPABASE_SERVICE_KEY\"))"
   ]
  },
  {
   "cell_type": "code",
   "execution_count": 42,
   "metadata": {},
   "outputs": [],
   "source": [
    "papersDF = pandas.read_csv('csv-microRNAAN-set (1).csv')"
   ]
  },
  {
   "cell_type": "code",
   "execution_count": 53,
   "metadata": {},
   "outputs": [],
   "source": [
    "not_work_dois = []"
   ]
  },
  {
   "cell_type": "code",
   "execution_count": 55,
   "metadata": {},
   "outputs": [
    {
     "name": "stderr",
     "output_type": "stream",
     "text": [
      "  0%|          | 2/4924 [01:14<50:52:37, 37.21s/it]\n"
     ]
    },
    {
     "name": "stdout",
     "output_type": "stream",
     "text": [
      "https://api.unpaywall.org/v2/10.1038/s41584-020-0426-0?email=ryandu9221@gmail.com\n",
      "hi\n",
      "uhoh url https://www.nature.com/articles/s41584-020-0426-0.pdf\n"
     ]
    },
    {
     "name": "stderr",
     "output_type": "stream",
     "text": [
      "  0%|          | 1/4924 [00:15<21:12:13, 15.51s/it]"
     ]
    },
    {
     "name": "stdout",
     "output_type": "stream",
     "text": [
      "https://api.unpaywall.org/v2/10.1161/CIRCRESAHA.115.306300?email=ryandu9221@gmail.com\n"
     ]
    },
    {
     "name": "stderr",
     "output_type": "stream",
     "text": [
      "  0%|          | 2/4924 [00:16<9:07:43,  6.68s/it] "
     ]
    },
    {
     "name": "stdout",
     "output_type": "stream",
     "text": [
      "hi\n",
      "uhoh url https://www.ahajournals.org/doi/pdf/10.1161/CIRCRESAHA.115.306300\n",
      "not work 10.1161/CIRCRESAHA.115.306300\n",
      "https://api.unpaywall.org/v2/10.18632/aging.101766?email=ryandu9221@gmail.com\n",
      "hi\n",
      "no url 10.18632/aging.101766\n",
      "https://api.unpaywall.org/v2/10.3390/ijms21124370?email=ryandu9221@gmail.com\n",
      "hi\n",
      "uhoh url https://www.mdpi.com/1422-0067/21/12/4370/pdf?version=1592991712\n"
     ]
    },
    {
     "name": "stderr",
     "output_type": "stream",
     "text": [
      "  0%|          | 3/4924 [00:26<11:48:09,  8.63s/it]"
     ]
    },
    {
     "name": "stdout",
     "output_type": "stream",
     "text": [
      "not work 10.3390/ijms21124370\n",
      "https://api.unpaywall.org/v2/10.1186/s12920-019-0570-z?email=ryandu9221@gmail.com\n",
      "hi\n",
      "uhoh url https://bmcmedgenomics.biomedcentral.com/track/pdf/10.1186/s12920-019-0570-z\n"
     ]
    },
    {
     "name": "stderr",
     "output_type": "stream",
     "text": [
      "  0%|          | 4/4924 [00:41<15:11:46, 11.12s/it]"
     ]
    },
    {
     "name": "stdout",
     "output_type": "stream",
     "text": [
      "https://api.unpaywall.org/v2/10.1007/s00109-021-02037-7?email=ryandu9221@gmail.com\n",
      "hi\n",
      "uhoh url https://link.springer.com/content/pdf/10.1007/s00109-021-02037-7.pdf\n"
     ]
    },
    {
     "name": "stderr",
     "output_type": "stream",
     "text": [
      "  0%|          | 5/4924 [00:46<11:53:44,  8.71s/it]"
     ]
    },
    {
     "name": "stdout",
     "output_type": "stream",
     "text": [
      "not work 10.1007/s00109-021-02037-7\n",
      "https://api.unpaywall.org/v2/10.1186/s12933-022-01544-2?email=ryandu9221@gmail.com\n",
      "hi\n",
      "uhoh url https://cardiab.biomedcentral.com/counter/pdf/10.1186/s12933-022-01544-2\n"
     ]
    }
   ],
   "source": [
    "pbar = tqdm(total=len(papersDF))\n",
    "for index, row in papersDF.iterrows():\n",
    "    doi = row['DOI']\n",
    "    print(f\"https://api.unpaywall.org/v2/{doi}?email=ryandu9221@gmail.com\")\n",
    "    req = requests.get(f\"https://api.unpaywall.org/v2/{doi}?email=ryandu9221@gmail.com\")\n",
    "    url = req.json().get('best_oa_location').get('url_for_pdf')\n",
    "    if url is None:\n",
    "        not_work_dois.append(doi)\n",
    "        # print(\"no url \" + doi)\n",
    "        continue\n",
    "    try:\n",
    "        fileloader = OnlinePDFLoader(url)\n",
    "        loader = UnstructuredPDFLoader(fileloader.file_path)\n",
    "        splitter = RecursiveCharacterTextSplitter(\n",
    "            chunk_size = 500,\n",
    "            chunk_overlap  = 0,\n",
    "            length_function = len,\n",
    "            is_separator_regex = False,\n",
    "        )\n",
    "        chunks = loader.load_and_split(text_splitter=splitter)\n",
    "        for chunk in chunks:\n",
    "            chunk.metadata[\"doi\"] = doi\n",
    "            chunk.metadata[\"add_date\"] = str(datetime.datetime.now().date())\n",
    "            chunk.metadata.pop(\"source\")\n",
    "        embedded = SupabaseVectorStore.from_documents(chunks, embedding, client=supabase, table_name=\"knowledge\")\n",
    "    except:\n",
    "        not_work_dois.append(doi)\n",
    "        # print(\"not work \" + doi)\n",
    "    pbar.update(1)\n",
    "pbar.close()"
   ]
  },
  {
   "cell_type": "code",
   "execution_count": null,
   "metadata": {},
   "outputs": [],
   "source": []
  },
  {
   "cell_type": "markdown",
   "metadata": {},
   "source": [
    "# Test Cycle"
   ]
  },
  {
   "cell_type": "code",
   "execution_count": null,
   "metadata": {},
   "outputs": [],
   "source": [
    "test_doi = \"10.1038/s41584-020-0426-0\""
   ]
  },
  {
   "cell_type": "code",
   "execution_count": null,
   "metadata": {},
   "outputs": [],
   "source": [
    "req = requests.get(f\"https://api.unpaywall.org/v2/{test_doi}?email=ryandu9221@gmail.com\")\n",
    "url = req.json().get('best_oa_location').get('url')\n",
    "fileloader = OnlinePDFLoader(url)\n",
    "loader = UnstructuredPDFLoader(fileloader.file_path)\n",
    "splitter = RecursiveCharacterTextSplitter(\n",
    "    # Set a really small chunk size, just to show.\n",
    "    chunk_size = 500,\n",
    "    chunk_overlap  = 0,\n",
    "    length_function = len,\n",
    "    is_separator_regex = False,\n",
    ")\n",
    "chunks = loader.load_and_split(text_splitter=splitter)\n",
    "for chunk in chunks:\n",
    "    chunk.metadata[\"doi\"] = test_doi\n",
    "    chunk.metadata[\"add_date\"] = str(datetime.datetime.now().date())\n",
    "    chunk.metadata.pop(\"source\")"
   ]
  },
  {
   "cell_type": "code",
   "execution_count": null,
   "metadata": {},
   "outputs": [
    {
     "ename": "AttributeError",
     "evalue": "'tuple' object has no attribute 'page_content'",
     "output_type": "error",
     "traceback": [
      "\u001b[0;31m---------------------------------------------------------------------------\u001b[0m",
      "\u001b[0;31mAttributeError\u001b[0m                            Traceback (most recent call last)",
      "Cell \u001b[0;32mIn[31], line 1\u001b[0m\n\u001b[0;32m----> 1\u001b[0m embedded \u001b[39m=\u001b[39m SupabaseVectorStore\u001b[39m.\u001b[39;49madd_documents(chunks, embedding, client\u001b[39m=\u001b[39;49msupabase, table_name\u001b[39m=\u001b[39;49m\u001b[39m\"\u001b[39;49m\u001b[39mknowledge\u001b[39;49m\u001b[39m\"\u001b[39;49m)\n",
      "File \u001b[0;32m~/Desktop/iGEM/2023/cadmir/.conda/lib/python3.10/site-packages/langchain/vectorstores/base.py:102\u001b[0m, in \u001b[0;36mVectorStore.add_documents\u001b[0;34m(self, documents, **kwargs)\u001b[0m\n\u001b[1;32m     93\u001b[0m \u001b[39m\u001b[39m\u001b[39m\"\"\"Run more documents through the embeddings and add to the vectorstore.\u001b[39;00m\n\u001b[1;32m     94\u001b[0m \n\u001b[1;32m     95\u001b[0m \u001b[39mArgs:\u001b[39;00m\n\u001b[0;32m   (...)\u001b[0m\n\u001b[1;32m     99\u001b[0m \u001b[39m    List[str]: List of IDs of the added texts.\u001b[39;00m\n\u001b[1;32m    100\u001b[0m \u001b[39m\"\"\"\u001b[39;00m\n\u001b[1;32m    101\u001b[0m \u001b[39m# TODO: Handle the case where the user doesn't provide ids on the Collection\u001b[39;00m\n\u001b[0;32m--> 102\u001b[0m texts \u001b[39m=\u001b[39m [doc\u001b[39m.\u001b[39mpage_content \u001b[39mfor\u001b[39;00m doc \u001b[39min\u001b[39;00m documents]\n\u001b[1;32m    103\u001b[0m metadatas \u001b[39m=\u001b[39m [doc\u001b[39m.\u001b[39mmetadata \u001b[39mfor\u001b[39;00m doc \u001b[39min\u001b[39;00m documents]\n\u001b[1;32m    104\u001b[0m \u001b[39mreturn\u001b[39;00m \u001b[39mself\u001b[39m\u001b[39m.\u001b[39madd_texts(texts, metadatas, \u001b[39m*\u001b[39m\u001b[39m*\u001b[39mkwargs)\n",
      "File \u001b[0;32m~/Desktop/iGEM/2023/cadmir/.conda/lib/python3.10/site-packages/langchain/vectorstores/base.py:102\u001b[0m, in \u001b[0;36m<listcomp>\u001b[0;34m(.0)\u001b[0m\n\u001b[1;32m     93\u001b[0m \u001b[39m\u001b[39m\u001b[39m\"\"\"Run more documents through the embeddings and add to the vectorstore.\u001b[39;00m\n\u001b[1;32m     94\u001b[0m \n\u001b[1;32m     95\u001b[0m \u001b[39mArgs:\u001b[39;00m\n\u001b[0;32m   (...)\u001b[0m\n\u001b[1;32m     99\u001b[0m \u001b[39m    List[str]: List of IDs of the added texts.\u001b[39;00m\n\u001b[1;32m    100\u001b[0m \u001b[39m\"\"\"\u001b[39;00m\n\u001b[1;32m    101\u001b[0m \u001b[39m# TODO: Handle the case where the user doesn't provide ids on the Collection\u001b[39;00m\n\u001b[0;32m--> 102\u001b[0m texts \u001b[39m=\u001b[39m [doc\u001b[39m.\u001b[39;49mpage_content \u001b[39mfor\u001b[39;00m doc \u001b[39min\u001b[39;00m documents]\n\u001b[1;32m    103\u001b[0m metadatas \u001b[39m=\u001b[39m [doc\u001b[39m.\u001b[39mmetadata \u001b[39mfor\u001b[39;00m doc \u001b[39min\u001b[39;00m documents]\n\u001b[1;32m    104\u001b[0m \u001b[39mreturn\u001b[39;00m \u001b[39mself\u001b[39m\u001b[39m.\u001b[39madd_texts(texts, metadatas, \u001b[39m*\u001b[39m\u001b[39m*\u001b[39mkwargs)\n",
      "\u001b[0;31mAttributeError\u001b[0m: 'tuple' object has no attribute 'page_content'"
     ]
    }
   ],
   "source": [
    "embedded = SupabaseVectorStore.from_documents(chunks, embedding, client=supabase, table_name=\"knowledge\")"
   ]
  },
  {
   "cell_type": "code",
   "execution_count": null,
   "metadata": {},
   "outputs": [],
   "source": []
  }
 ],
 "metadata": {
  "kernelspec": {
   "display_name": ".venv",
   "language": "python",
   "name": "python3"
  },
  "language_info": {
   "codemirror_mode": {
    "name": "ipython",
    "version": 3
   },
   "file_extension": ".py",
   "mimetype": "text/x-python",
   "name": "python",
   "nbconvert_exporter": "python",
   "pygments_lexer": "ipython3",
   "version": "3.10.12"
  },
  "orig_nbformat": 4
 },
 "nbformat": 4,
 "nbformat_minor": 2
}

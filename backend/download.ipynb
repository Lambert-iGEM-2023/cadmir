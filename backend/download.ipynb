{
 "cells": [
  {
   "cell_type": "code",
   "execution_count": 14,
   "metadata": {},
   "outputs": [
    {
     "data": {
      "text/plain": [
       "True"
      ]
     },
     "execution_count": 14,
     "metadata": {},
     "output_type": "execute_result"
    }
   ],
   "source": [
    "import requests\n",
    "import pandas\n",
    "from langchain.document_loaders import UnstructuredPDFLoader, OnlinePDFLoader\n",
    "from langchain.text_splitter import RecursiveCharacterTextSplitter\n",
    "from langchain.embeddings import OpenAIEmbeddings\n",
    "from langchain.vectorstores.supabase import SupabaseVectorStore\n",
    "from supabase.client import Client, create_client\n",
    "\n",
    "import os\n",
    "from dotenv import load_dotenv\n",
    "load_dotenv()"
   ]
  },
  {
   "cell_type": "code",
   "execution_count": 2,
   "metadata": {},
   "outputs": [],
   "source": [
    "papersDF = pandas.read_csv('csv-microRNAAN-set (1).csv')"
   ]
  },
  {
   "cell_type": "code",
   "execution_count": 3,
   "metadata": {},
   "outputs": [],
   "source": [
    "for index, row in papersDF.iterrows():\n",
    "    doi = row['DOI']\n",
    "    pass"
   ]
  },
  {
   "cell_type": "code",
   "execution_count": 4,
   "metadata": {},
   "outputs": [],
   "source": [
    "test_doi = \"10.1038/s41584-020-0426-0\""
   ]
  },
  {
   "cell_type": "code",
   "execution_count": 9,
   "metadata": {},
   "outputs": [],
   "source": [
    "req = requests.get(f\"https://api.unpaywall.org/v2/{test_doi}?email=ryandu9221@gmail.com\")\n",
    "url = req.json().get('best_oa_location').get('url')\n",
    "fileloader = OnlinePDFLoader(url)\n",
    "loader = UnstructuredPDFLoader(fileloader.file_path)\n",
    "splitter = RecursiveCharacterTextSplitter(\n",
    "    # Set a really small chunk size, just to show.\n",
    "    chunk_size = 500,\n",
    "    chunk_overlap  = 0,\n",
    "    length_function = len,\n",
    "    is_separator_regex = False,\n",
    ")\n",
    "chunks = loader.load_and_split(text_splitter=splitter)"
   ]
  },
  {
   "cell_type": "code",
   "execution_count": 10,
   "metadata": {},
   "outputs": [
    {
     "data": {
      "text/plain": [
       "{'source': '/var/folders/8d/pdk79qrd6db6nb4r13lqsqqc0000gn/T/tmpuqfme3sl/tmp.pdf'}"
      ]
     },
     "execution_count": 10,
     "metadata": {},
     "output_type": "execute_result"
    }
   ],
   "source": [
    "chunks[0].metadata"
   ]
  },
  {
   "cell_type": "code",
   "execution_count": 18,
   "metadata": {},
   "outputs": [],
   "source": [
    "embedding = OpenAIEmbeddings()\n",
    "supabase: Client = create_client(supabase_url=os.environ.get(\"SUPABASE_URL\"), supabase_key=os.environ.get(\"SUPABASE_SERVICE_KEY\"))"
   ]
  },
  {
   "cell_type": "code",
   "execution_count": 7,
   "metadata": {},
   "outputs": [
    {
     "ename": "ProgrammingError",
     "evalue": "(psycopg2.errors.UndefinedObject) type \"vector\" does not exist\nLINE 4:  embedding VECTOR, \n                   ^\n\n[SQL: \nCREATE TABLE langchain_pg_embedding (\n\tcollection_id UUID, \n\tembedding VECTOR, \n\tdocument VARCHAR, \n\tcmetadata JSON, \n\tcustom_id VARCHAR, \n\tuuid UUID NOT NULL, \n\tPRIMARY KEY (uuid), \n\tFOREIGN KEY(collection_id) REFERENCES langchain_pg_collection (uuid) ON DELETE CASCADE\n)\n\n]\n(Background on this error at: https://sqlalche.me/e/20/f405)",
     "output_type": "error",
     "traceback": [
      "\u001b[0;31m---------------------------------------------------------------------------\u001b[0m",
      "\u001b[0;31mUndefinedObject\u001b[0m                           Traceback (most recent call last)",
      "File \u001b[0;32m~/Desktop/iGEM/2023/cadmir/.venv/lib/python3.11/site-packages/sqlalchemy/engine/base.py:1965\u001b[0m, in \u001b[0;36mConnection._exec_single_context\u001b[0;34m(self, dialect, context, statement, parameters)\u001b[0m\n\u001b[1;32m   1964\u001b[0m     \u001b[39mif\u001b[39;00m \u001b[39mnot\u001b[39;00m evt_handled:\n\u001b[0;32m-> 1965\u001b[0m         \u001b[39mself\u001b[39;49m\u001b[39m.\u001b[39;49mdialect\u001b[39m.\u001b[39;49mdo_execute(\n\u001b[1;32m   1966\u001b[0m             cursor, str_statement, effective_parameters, context\n\u001b[1;32m   1967\u001b[0m         )\n\u001b[1;32m   1969\u001b[0m \u001b[39mif\u001b[39;00m \u001b[39mself\u001b[39m\u001b[39m.\u001b[39m_has_events \u001b[39mor\u001b[39;00m \u001b[39mself\u001b[39m\u001b[39m.\u001b[39mengine\u001b[39m.\u001b[39m_has_events:\n",
      "File \u001b[0;32m~/Desktop/iGEM/2023/cadmir/.venv/lib/python3.11/site-packages/sqlalchemy/engine/default.py:921\u001b[0m, in \u001b[0;36mDefaultDialect.do_execute\u001b[0;34m(self, cursor, statement, parameters, context)\u001b[0m\n\u001b[1;32m    920\u001b[0m \u001b[39mdef\u001b[39;00m \u001b[39mdo_execute\u001b[39m(\u001b[39mself\u001b[39m, cursor, statement, parameters, context\u001b[39m=\u001b[39m\u001b[39mNone\u001b[39;00m):\n\u001b[0;32m--> 921\u001b[0m     cursor\u001b[39m.\u001b[39;49mexecute(statement, parameters)\n",
      "\u001b[0;31mUndefinedObject\u001b[0m: type \"vector\" does not exist\nLINE 4:  embedding VECTOR, \n                   ^\n",
      "\nThe above exception was the direct cause of the following exception:\n",
      "\u001b[0;31mProgrammingError\u001b[0m                          Traceback (most recent call last)",
      "Cell \u001b[0;32mIn[7], line 1\u001b[0m\n\u001b[0;32m----> 1\u001b[0m embedded \u001b[39m=\u001b[39m PGVector\u001b[39m.\u001b[39;49mfrom_documents(documents\u001b[39m=\u001b[39;49mchunks, embedding\u001b[39m=\u001b[39;49membedding)\n",
      "File \u001b[0;32m~/Desktop/iGEM/2023/cadmir/.venv/lib/python3.11/site-packages/langchain/vectorstores/pgvector.py:562\u001b[0m, in \u001b[0;36mPGVector.from_documents\u001b[0;34m(cls, documents, embedding, collection_name, distance_strategy, ids, pre_delete_collection, **kwargs)\u001b[0m\n\u001b[1;32m    558\u001b[0m connection_string \u001b[39m=\u001b[39m \u001b[39mcls\u001b[39m\u001b[39m.\u001b[39mget_connection_string(kwargs)\n\u001b[1;32m    560\u001b[0m kwargs[\u001b[39m\"\u001b[39m\u001b[39mconnection_string\u001b[39m\u001b[39m\"\u001b[39m] \u001b[39m=\u001b[39m connection_string\n\u001b[0;32m--> 562\u001b[0m \u001b[39mreturn\u001b[39;00m \u001b[39mcls\u001b[39;49m\u001b[39m.\u001b[39;49mfrom_texts(\n\u001b[1;32m    563\u001b[0m     texts\u001b[39m=\u001b[39;49mtexts,\n\u001b[1;32m    564\u001b[0m     pre_delete_collection\u001b[39m=\u001b[39;49mpre_delete_collection,\n\u001b[1;32m    565\u001b[0m     embedding\u001b[39m=\u001b[39;49membedding,\n\u001b[1;32m    566\u001b[0m     distance_strategy\u001b[39m=\u001b[39;49mdistance_strategy,\n\u001b[1;32m    567\u001b[0m     metadatas\u001b[39m=\u001b[39;49mmetadatas,\n\u001b[1;32m    568\u001b[0m     ids\u001b[39m=\u001b[39;49mids,\n\u001b[1;32m    569\u001b[0m     collection_name\u001b[39m=\u001b[39;49mcollection_name,\n\u001b[1;32m    570\u001b[0m     \u001b[39m*\u001b[39;49m\u001b[39m*\u001b[39;49mkwargs,\n\u001b[1;32m    571\u001b[0m )\n",
      "File \u001b[0;32m~/Desktop/iGEM/2023/cadmir/.venv/lib/python3.11/site-packages/langchain/vectorstores/pgvector.py:437\u001b[0m, in \u001b[0;36mPGVector.from_texts\u001b[0;34m(cls, texts, embedding, metadatas, collection_name, distance_strategy, ids, pre_delete_collection, **kwargs)\u001b[0m\n\u001b[1;32m    429\u001b[0m \u001b[39m\u001b[39m\u001b[39m\"\"\"\u001b[39;00m\n\u001b[1;32m    430\u001b[0m \u001b[39mReturn VectorStore initialized from texts and embeddings.\u001b[39;00m\n\u001b[1;32m    431\u001b[0m \u001b[39mPostgres connection string is required\u001b[39;00m\n\u001b[1;32m    432\u001b[0m \u001b[39m\"Either pass it as a parameter\u001b[39;00m\n\u001b[1;32m    433\u001b[0m \u001b[39mor set the PGVECTOR_CONNECTION_STRING environment variable.\u001b[39;00m\n\u001b[1;32m    434\u001b[0m \u001b[39m\"\"\"\u001b[39;00m\n\u001b[1;32m    435\u001b[0m embeddings \u001b[39m=\u001b[39m embedding\u001b[39m.\u001b[39membed_documents(\u001b[39mlist\u001b[39m(texts))\n\u001b[0;32m--> 437\u001b[0m \u001b[39mreturn\u001b[39;00m \u001b[39mcls\u001b[39;49m\u001b[39m.\u001b[39;49m__from(\n\u001b[1;32m    438\u001b[0m     texts,\n\u001b[1;32m    439\u001b[0m     embeddings,\n\u001b[1;32m    440\u001b[0m     embedding,\n\u001b[1;32m    441\u001b[0m     metadatas\u001b[39m=\u001b[39;49mmetadatas,\n\u001b[1;32m    442\u001b[0m     ids\u001b[39m=\u001b[39;49mids,\n\u001b[1;32m    443\u001b[0m     collection_name\u001b[39m=\u001b[39;49mcollection_name,\n\u001b[1;32m    444\u001b[0m     distance_strategy\u001b[39m=\u001b[39;49mdistance_strategy,\n\u001b[1;32m    445\u001b[0m     pre_delete_collection\u001b[39m=\u001b[39;49mpre_delete_collection,\n\u001b[1;32m    446\u001b[0m     \u001b[39m*\u001b[39;49m\u001b[39m*\u001b[39;49mkwargs,\n\u001b[1;32m    447\u001b[0m )\n",
      "File \u001b[0;32m~/Desktop/iGEM/2023/cadmir/.venv/lib/python3.11/site-packages/langchain/vectorstores/pgvector.py:197\u001b[0m, in \u001b[0;36mPGVector.__from\u001b[0;34m(cls, texts, embeddings, embedding, metadatas, ids, collection_name, distance_strategy, connection_string, pre_delete_collection, **kwargs)\u001b[0m\n\u001b[1;32m    194\u001b[0m \u001b[39mif\u001b[39;00m connection_string \u001b[39mis\u001b[39;00m \u001b[39mNone\u001b[39;00m:\n\u001b[1;32m    195\u001b[0m     connection_string \u001b[39m=\u001b[39m \u001b[39mcls\u001b[39m\u001b[39m.\u001b[39mget_connection_string(kwargs)\n\u001b[0;32m--> 197\u001b[0m store \u001b[39m=\u001b[39m \u001b[39mcls\u001b[39;49m(\n\u001b[1;32m    198\u001b[0m     connection_string\u001b[39m=\u001b[39;49mconnection_string,\n\u001b[1;32m    199\u001b[0m     collection_name\u001b[39m=\u001b[39;49mcollection_name,\n\u001b[1;32m    200\u001b[0m     embedding_function\u001b[39m=\u001b[39;49membedding,\n\u001b[1;32m    201\u001b[0m     distance_strategy\u001b[39m=\u001b[39;49mdistance_strategy,\n\u001b[1;32m    202\u001b[0m     pre_delete_collection\u001b[39m=\u001b[39;49mpre_delete_collection,\n\u001b[1;32m    203\u001b[0m     \u001b[39m*\u001b[39;49m\u001b[39m*\u001b[39;49mkwargs,\n\u001b[1;32m    204\u001b[0m )\n\u001b[1;32m    206\u001b[0m store\u001b[39m.\u001b[39madd_embeddings(\n\u001b[1;32m    207\u001b[0m     texts\u001b[39m=\u001b[39mtexts, embeddings\u001b[39m=\u001b[39membeddings, metadatas\u001b[39m=\u001b[39mmetadatas, ids\u001b[39m=\u001b[39mids, \u001b[39m*\u001b[39m\u001b[39m*\u001b[39mkwargs\n\u001b[1;32m    208\u001b[0m )\n\u001b[1;32m    210\u001b[0m \u001b[39mreturn\u001b[39;00m store\n",
      "File \u001b[0;32m~/Desktop/iGEM/2023/cadmir/.venv/lib/python3.11/site-packages/langchain/vectorstores/pgvector.py:108\u001b[0m, in \u001b[0;36mPGVector.__init__\u001b[0;34m(self, connection_string, embedding_function, collection_name, collection_metadata, distance_strategy, pre_delete_collection, logger, relevance_score_fn)\u001b[0m\n\u001b[1;32m    106\u001b[0m \u001b[39mself\u001b[39m\u001b[39m.\u001b[39mlogger \u001b[39m=\u001b[39m logger \u001b[39mor\u001b[39;00m logging\u001b[39m.\u001b[39mgetLogger(\u001b[39m__name__\u001b[39m)\n\u001b[1;32m    107\u001b[0m \u001b[39mself\u001b[39m\u001b[39m.\u001b[39moverride_relevance_score_fn \u001b[39m=\u001b[39m relevance_score_fn\n\u001b[0;32m--> 108\u001b[0m \u001b[39mself\u001b[39;49m\u001b[39m.\u001b[39;49m__post_init__()\n",
      "File \u001b[0;32m~/Desktop/iGEM/2023/cadmir/.venv/lib/python3.11/site-packages/langchain/vectorstores/pgvector.py:125\u001b[0m, in \u001b[0;36mPGVector.__post_init__\u001b[0;34m(self)\u001b[0m\n\u001b[1;32m    123\u001b[0m \u001b[39mself\u001b[39m\u001b[39m.\u001b[39mCollectionStore \u001b[39m=\u001b[39m CollectionStore\n\u001b[1;32m    124\u001b[0m \u001b[39mself\u001b[39m\u001b[39m.\u001b[39mEmbeddingStore \u001b[39m=\u001b[39m EmbeddingStore\n\u001b[0;32m--> 125\u001b[0m \u001b[39mself\u001b[39;49m\u001b[39m.\u001b[39;49mcreate_tables_if_not_exists()\n\u001b[1;32m    126\u001b[0m \u001b[39mself\u001b[39m\u001b[39m.\u001b[39mcreate_collection()\n",
      "File \u001b[0;32m~/Desktop/iGEM/2023/cadmir/.venv/lib/python3.11/site-packages/langchain/vectorstores/pgvector.py:148\u001b[0m, in \u001b[0;36mPGVector.create_tables_if_not_exists\u001b[0;34m(self)\u001b[0m\n\u001b[1;32m    146\u001b[0m \u001b[39mdef\u001b[39;00m \u001b[39mcreate_tables_if_not_exists\u001b[39m(\u001b[39mself\u001b[39m) \u001b[39m-\u001b[39m\u001b[39m>\u001b[39m \u001b[39mNone\u001b[39;00m:\n\u001b[1;32m    147\u001b[0m     \u001b[39mwith\u001b[39;00m \u001b[39mself\u001b[39m\u001b[39m.\u001b[39m_conn\u001b[39m.\u001b[39mbegin():\n\u001b[0;32m--> 148\u001b[0m         Base\u001b[39m.\u001b[39;49mmetadata\u001b[39m.\u001b[39;49mcreate_all(\u001b[39mself\u001b[39;49m\u001b[39m.\u001b[39;49m_conn)\n",
      "File \u001b[0;32m~/Desktop/iGEM/2023/cadmir/.venv/lib/python3.11/site-packages/sqlalchemy/sql/schema.py:5792\u001b[0m, in \u001b[0;36mMetaData.create_all\u001b[0;34m(self, bind, tables, checkfirst)\u001b[0m\n\u001b[1;32m   5768\u001b[0m \u001b[39mdef\u001b[39;00m \u001b[39mcreate_all\u001b[39m(\n\u001b[1;32m   5769\u001b[0m     \u001b[39mself\u001b[39m,\n\u001b[1;32m   5770\u001b[0m     bind: _CreateDropBind,\n\u001b[1;32m   5771\u001b[0m     tables: Optional[_typing_Sequence[Table]] \u001b[39m=\u001b[39m \u001b[39mNone\u001b[39;00m,\n\u001b[1;32m   5772\u001b[0m     checkfirst: \u001b[39mbool\u001b[39m \u001b[39m=\u001b[39m \u001b[39mTrue\u001b[39;00m,\n\u001b[1;32m   5773\u001b[0m ) \u001b[39m-\u001b[39m\u001b[39m>\u001b[39m \u001b[39mNone\u001b[39;00m:\n\u001b[1;32m   5774\u001b[0m \u001b[39m    \u001b[39m\u001b[39m\"\"\"Create all tables stored in this metadata.\u001b[39;00m\n\u001b[1;32m   5775\u001b[0m \n\u001b[1;32m   5776\u001b[0m \u001b[39m    Conditional by default, will not attempt to recreate tables already\u001b[39;00m\n\u001b[0;32m   (...)\u001b[0m\n\u001b[1;32m   5790\u001b[0m \n\u001b[1;32m   5791\u001b[0m \u001b[39m    \"\"\"\u001b[39;00m\n\u001b[0;32m-> 5792\u001b[0m     bind\u001b[39m.\u001b[39;49m_run_ddl_visitor(\n\u001b[1;32m   5793\u001b[0m         ddl\u001b[39m.\u001b[39;49mSchemaGenerator, \u001b[39mself\u001b[39;49m, checkfirst\u001b[39m=\u001b[39;49mcheckfirst, tables\u001b[39m=\u001b[39;49mtables\n\u001b[1;32m   5794\u001b[0m     )\n",
      "File \u001b[0;32m~/Desktop/iGEM/2023/cadmir/.venv/lib/python3.11/site-packages/sqlalchemy/engine/base.py:2443\u001b[0m, in \u001b[0;36mConnection._run_ddl_visitor\u001b[0;34m(self, visitorcallable, element, **kwargs)\u001b[0m\n\u001b[1;32m   2431\u001b[0m \u001b[39mdef\u001b[39;00m \u001b[39m_run_ddl_visitor\u001b[39m(\n\u001b[1;32m   2432\u001b[0m     \u001b[39mself\u001b[39m,\n\u001b[1;32m   2433\u001b[0m     visitorcallable: Type[Union[SchemaGenerator, SchemaDropper]],\n\u001b[1;32m   2434\u001b[0m     element: SchemaItem,\n\u001b[1;32m   2435\u001b[0m     \u001b[39m*\u001b[39m\u001b[39m*\u001b[39mkwargs: Any,\n\u001b[1;32m   2436\u001b[0m ) \u001b[39m-\u001b[39m\u001b[39m>\u001b[39m \u001b[39mNone\u001b[39;00m:\n\u001b[1;32m   2437\u001b[0m \u001b[39m    \u001b[39m\u001b[39m\"\"\"run a DDL visitor.\u001b[39;00m\n\u001b[1;32m   2438\u001b[0m \n\u001b[1;32m   2439\u001b[0m \u001b[39m    This method is only here so that the MockConnection can change the\u001b[39;00m\n\u001b[1;32m   2440\u001b[0m \u001b[39m    options given to the visitor so that \"checkfirst\" is skipped.\u001b[39;00m\n\u001b[1;32m   2441\u001b[0m \n\u001b[1;32m   2442\u001b[0m \u001b[39m    \"\"\"\u001b[39;00m\n\u001b[0;32m-> 2443\u001b[0m     visitorcallable(\u001b[39mself\u001b[39;49m\u001b[39m.\u001b[39;49mdialect, \u001b[39mself\u001b[39;49m, \u001b[39m*\u001b[39;49m\u001b[39m*\u001b[39;49mkwargs)\u001b[39m.\u001b[39;49mtraverse_single(element)\n",
      "File \u001b[0;32m~/Desktop/iGEM/2023/cadmir/.venv/lib/python3.11/site-packages/sqlalchemy/sql/visitors.py:670\u001b[0m, in \u001b[0;36mExternalTraversal.traverse_single\u001b[0;34m(self, obj, **kw)\u001b[0m\n\u001b[1;32m    668\u001b[0m meth \u001b[39m=\u001b[39m \u001b[39mgetattr\u001b[39m(v, \u001b[39m\"\u001b[39m\u001b[39mvisit_\u001b[39m\u001b[39m%s\u001b[39;00m\u001b[39m\"\u001b[39m \u001b[39m%\u001b[39m obj\u001b[39m.\u001b[39m__visit_name__, \u001b[39mNone\u001b[39;00m)\n\u001b[1;32m    669\u001b[0m \u001b[39mif\u001b[39;00m meth:\n\u001b[0;32m--> 670\u001b[0m     \u001b[39mreturn\u001b[39;00m meth(obj, \u001b[39m*\u001b[39;49m\u001b[39m*\u001b[39;49mkw)\n",
      "File \u001b[0;32m~/Desktop/iGEM/2023/cadmir/.venv/lib/python3.11/site-packages/sqlalchemy/sql/ddl.py:922\u001b[0m, in \u001b[0;36mSchemaGenerator.visit_metadata\u001b[0;34m(self, metadata)\u001b[0m\n\u001b[1;32m    920\u001b[0m \u001b[39mfor\u001b[39;00m table, fkcs \u001b[39min\u001b[39;00m collection:\n\u001b[1;32m    921\u001b[0m     \u001b[39mif\u001b[39;00m table \u001b[39mis\u001b[39;00m \u001b[39mnot\u001b[39;00m \u001b[39mNone\u001b[39;00m:\n\u001b[0;32m--> 922\u001b[0m         \u001b[39mself\u001b[39;49m\u001b[39m.\u001b[39;49mtraverse_single(\n\u001b[1;32m    923\u001b[0m             table,\n\u001b[1;32m    924\u001b[0m             create_ok\u001b[39m=\u001b[39;49m\u001b[39mTrue\u001b[39;49;00m,\n\u001b[1;32m    925\u001b[0m             include_foreign_key_constraints\u001b[39m=\u001b[39;49mfkcs,\n\u001b[1;32m    926\u001b[0m             _is_metadata_operation\u001b[39m=\u001b[39;49m\u001b[39mTrue\u001b[39;49;00m,\n\u001b[1;32m    927\u001b[0m         )\n\u001b[1;32m    928\u001b[0m     \u001b[39melse\u001b[39;00m:\n\u001b[1;32m    929\u001b[0m         \u001b[39mfor\u001b[39;00m fkc \u001b[39min\u001b[39;00m fkcs:\n",
      "File \u001b[0;32m~/Desktop/iGEM/2023/cadmir/.venv/lib/python3.11/site-packages/sqlalchemy/sql/visitors.py:670\u001b[0m, in \u001b[0;36mExternalTraversal.traverse_single\u001b[0;34m(self, obj, **kw)\u001b[0m\n\u001b[1;32m    668\u001b[0m meth \u001b[39m=\u001b[39m \u001b[39mgetattr\u001b[39m(v, \u001b[39m\"\u001b[39m\u001b[39mvisit_\u001b[39m\u001b[39m%s\u001b[39;00m\u001b[39m\"\u001b[39m \u001b[39m%\u001b[39m obj\u001b[39m.\u001b[39m__visit_name__, \u001b[39mNone\u001b[39;00m)\n\u001b[1;32m    669\u001b[0m \u001b[39mif\u001b[39;00m meth:\n\u001b[0;32m--> 670\u001b[0m     \u001b[39mreturn\u001b[39;00m meth(obj, \u001b[39m*\u001b[39;49m\u001b[39m*\u001b[39;49mkw)\n",
      "File \u001b[0;32m~/Desktop/iGEM/2023/cadmir/.venv/lib/python3.11/site-packages/sqlalchemy/sql/ddl.py:960\u001b[0m, in \u001b[0;36mSchemaGenerator.visit_table\u001b[0;34m(self, table, create_ok, include_foreign_key_constraints, _is_metadata_operation)\u001b[0m\n\u001b[1;32m    951\u001b[0m \u001b[39mif\u001b[39;00m \u001b[39mnot\u001b[39;00m \u001b[39mself\u001b[39m\u001b[39m.\u001b[39mdialect\u001b[39m.\u001b[39msupports_alter:\n\u001b[1;32m    952\u001b[0m     \u001b[39m# e.g., don't omit any foreign key constraints\u001b[39;00m\n\u001b[1;32m    953\u001b[0m     include_foreign_key_constraints \u001b[39m=\u001b[39m \u001b[39mNone\u001b[39;00m\n\u001b[1;32m    955\u001b[0m CreateTable(\n\u001b[1;32m    956\u001b[0m     table,\n\u001b[1;32m    957\u001b[0m     include_foreign_key_constraints\u001b[39m=\u001b[39;49m(\n\u001b[1;32m    958\u001b[0m         include_foreign_key_constraints\n\u001b[1;32m    959\u001b[0m     ),\n\u001b[0;32m--> 960\u001b[0m )\u001b[39m.\u001b[39;49m_invoke_with(\u001b[39mself\u001b[39;49m\u001b[39m.\u001b[39;49mconnection)\n\u001b[1;32m    962\u001b[0m \u001b[39mif\u001b[39;00m \u001b[39mhasattr\u001b[39m(table, \u001b[39m\"\u001b[39m\u001b[39mindexes\u001b[39m\u001b[39m\"\u001b[39m):\n\u001b[1;32m    963\u001b[0m     \u001b[39mfor\u001b[39;00m index \u001b[39min\u001b[39;00m table\u001b[39m.\u001b[39mindexes:\n",
      "File \u001b[0;32m~/Desktop/iGEM/2023/cadmir/.venv/lib/python3.11/site-packages/sqlalchemy/sql/ddl.py:315\u001b[0m, in \u001b[0;36mExecutableDDLElement._invoke_with\u001b[0;34m(self, bind)\u001b[0m\n\u001b[1;32m    313\u001b[0m \u001b[39mdef\u001b[39;00m \u001b[39m_invoke_with\u001b[39m(\u001b[39mself\u001b[39m, bind):\n\u001b[1;32m    314\u001b[0m     \u001b[39mif\u001b[39;00m \u001b[39mself\u001b[39m\u001b[39m.\u001b[39m_should_execute(\u001b[39mself\u001b[39m\u001b[39m.\u001b[39mtarget, bind):\n\u001b[0;32m--> 315\u001b[0m         \u001b[39mreturn\u001b[39;00m bind\u001b[39m.\u001b[39;49mexecute(\u001b[39mself\u001b[39;49m)\n",
      "File \u001b[0;32m~/Desktop/iGEM/2023/cadmir/.venv/lib/python3.11/site-packages/sqlalchemy/engine/base.py:1412\u001b[0m, in \u001b[0;36mConnection.execute\u001b[0;34m(self, statement, parameters, execution_options)\u001b[0m\n\u001b[1;32m   1410\u001b[0m     \u001b[39mraise\u001b[39;00m exc\u001b[39m.\u001b[39mObjectNotExecutableError(statement) \u001b[39mfrom\u001b[39;00m \u001b[39merr\u001b[39;00m\n\u001b[1;32m   1411\u001b[0m \u001b[39melse\u001b[39;00m:\n\u001b[0;32m-> 1412\u001b[0m     \u001b[39mreturn\u001b[39;00m meth(\n\u001b[1;32m   1413\u001b[0m         \u001b[39mself\u001b[39;49m,\n\u001b[1;32m   1414\u001b[0m         distilled_parameters,\n\u001b[1;32m   1415\u001b[0m         execution_options \u001b[39mor\u001b[39;49;00m NO_OPTIONS,\n\u001b[1;32m   1416\u001b[0m     )\n",
      "File \u001b[0;32m~/Desktop/iGEM/2023/cadmir/.venv/lib/python3.11/site-packages/sqlalchemy/sql/ddl.py:181\u001b[0m, in \u001b[0;36mExecutableDDLElement._execute_on_connection\u001b[0;34m(self, connection, distilled_params, execution_options)\u001b[0m\n\u001b[1;32m    178\u001b[0m \u001b[39mdef\u001b[39;00m \u001b[39m_execute_on_connection\u001b[39m(\n\u001b[1;32m    179\u001b[0m     \u001b[39mself\u001b[39m, connection, distilled_params, execution_options\n\u001b[1;32m    180\u001b[0m ):\n\u001b[0;32m--> 181\u001b[0m     \u001b[39mreturn\u001b[39;00m connection\u001b[39m.\u001b[39;49m_execute_ddl(\n\u001b[1;32m    182\u001b[0m         \u001b[39mself\u001b[39;49m, distilled_params, execution_options\n\u001b[1;32m    183\u001b[0m     )\n",
      "File \u001b[0;32m~/Desktop/iGEM/2023/cadmir/.venv/lib/python3.11/site-packages/sqlalchemy/engine/base.py:1524\u001b[0m, in \u001b[0;36mConnection._execute_ddl\u001b[0;34m(self, ddl, distilled_parameters, execution_options)\u001b[0m\n\u001b[1;32m   1519\u001b[0m dialect \u001b[39m=\u001b[39m \u001b[39mself\u001b[39m\u001b[39m.\u001b[39mdialect\n\u001b[1;32m   1521\u001b[0m compiled \u001b[39m=\u001b[39m ddl\u001b[39m.\u001b[39mcompile(\n\u001b[1;32m   1522\u001b[0m     dialect\u001b[39m=\u001b[39mdialect, schema_translate_map\u001b[39m=\u001b[39mschema_translate_map\n\u001b[1;32m   1523\u001b[0m )\n\u001b[0;32m-> 1524\u001b[0m ret \u001b[39m=\u001b[39m \u001b[39mself\u001b[39;49m\u001b[39m.\u001b[39;49m_execute_context(\n\u001b[1;32m   1525\u001b[0m     dialect,\n\u001b[1;32m   1526\u001b[0m     dialect\u001b[39m.\u001b[39;49mexecution_ctx_cls\u001b[39m.\u001b[39;49m_init_ddl,\n\u001b[1;32m   1527\u001b[0m     compiled,\n\u001b[1;32m   1528\u001b[0m     \u001b[39mNone\u001b[39;49;00m,\n\u001b[1;32m   1529\u001b[0m     execution_options,\n\u001b[1;32m   1530\u001b[0m     compiled,\n\u001b[1;32m   1531\u001b[0m )\n\u001b[1;32m   1532\u001b[0m \u001b[39mif\u001b[39;00m \u001b[39mself\u001b[39m\u001b[39m.\u001b[39m_has_events \u001b[39mor\u001b[39;00m \u001b[39mself\u001b[39m\u001b[39m.\u001b[39mengine\u001b[39m.\u001b[39m_has_events:\n\u001b[1;32m   1533\u001b[0m     \u001b[39mself\u001b[39m\u001b[39m.\u001b[39mdispatch\u001b[39m.\u001b[39mafter_execute(\n\u001b[1;32m   1534\u001b[0m         \u001b[39mself\u001b[39m,\n\u001b[1;32m   1535\u001b[0m         ddl,\n\u001b[0;32m   (...)\u001b[0m\n\u001b[1;32m   1539\u001b[0m         ret,\n\u001b[1;32m   1540\u001b[0m     )\n",
      "File \u001b[0;32m~/Desktop/iGEM/2023/cadmir/.venv/lib/python3.11/site-packages/sqlalchemy/engine/base.py:1844\u001b[0m, in \u001b[0;36mConnection._execute_context\u001b[0;34m(self, dialect, constructor, statement, parameters, execution_options, *args, **kw)\u001b[0m\n\u001b[1;32m   1839\u001b[0m     \u001b[39mreturn\u001b[39;00m \u001b[39mself\u001b[39m\u001b[39m.\u001b[39m_exec_insertmany_context(\n\u001b[1;32m   1840\u001b[0m         dialect,\n\u001b[1;32m   1841\u001b[0m         context,\n\u001b[1;32m   1842\u001b[0m     )\n\u001b[1;32m   1843\u001b[0m \u001b[39melse\u001b[39;00m:\n\u001b[0;32m-> 1844\u001b[0m     \u001b[39mreturn\u001b[39;00m \u001b[39mself\u001b[39;49m\u001b[39m.\u001b[39;49m_exec_single_context(\n\u001b[1;32m   1845\u001b[0m         dialect, context, statement, parameters\n\u001b[1;32m   1846\u001b[0m     )\n",
      "File \u001b[0;32m~/Desktop/iGEM/2023/cadmir/.venv/lib/python3.11/site-packages/sqlalchemy/engine/base.py:1984\u001b[0m, in \u001b[0;36mConnection._exec_single_context\u001b[0;34m(self, dialect, context, statement, parameters)\u001b[0m\n\u001b[1;32m   1981\u001b[0m     result \u001b[39m=\u001b[39m context\u001b[39m.\u001b[39m_setup_result_proxy()\n\u001b[1;32m   1983\u001b[0m \u001b[39mexcept\u001b[39;00m \u001b[39mBaseException\u001b[39;00m \u001b[39mas\u001b[39;00m e:\n\u001b[0;32m-> 1984\u001b[0m     \u001b[39mself\u001b[39;49m\u001b[39m.\u001b[39;49m_handle_dbapi_exception(\n\u001b[1;32m   1985\u001b[0m         e, str_statement, effective_parameters, cursor, context\n\u001b[1;32m   1986\u001b[0m     )\n\u001b[1;32m   1988\u001b[0m \u001b[39mreturn\u001b[39;00m result\n",
      "File \u001b[0;32m~/Desktop/iGEM/2023/cadmir/.venv/lib/python3.11/site-packages/sqlalchemy/engine/base.py:2339\u001b[0m, in \u001b[0;36mConnection._handle_dbapi_exception\u001b[0;34m(self, e, statement, parameters, cursor, context, is_sub_exec)\u001b[0m\n\u001b[1;32m   2337\u001b[0m \u001b[39melif\u001b[39;00m should_wrap:\n\u001b[1;32m   2338\u001b[0m     \u001b[39massert\u001b[39;00m sqlalchemy_exception \u001b[39mis\u001b[39;00m \u001b[39mnot\u001b[39;00m \u001b[39mNone\u001b[39;00m\n\u001b[0;32m-> 2339\u001b[0m     \u001b[39mraise\u001b[39;00m sqlalchemy_exception\u001b[39m.\u001b[39mwith_traceback(exc_info[\u001b[39m2\u001b[39m]) \u001b[39mfrom\u001b[39;00m \u001b[39me\u001b[39;00m\n\u001b[1;32m   2340\u001b[0m \u001b[39melse\u001b[39;00m:\n\u001b[1;32m   2341\u001b[0m     \u001b[39massert\u001b[39;00m exc_info[\u001b[39m1\u001b[39m] \u001b[39mis\u001b[39;00m \u001b[39mnot\u001b[39;00m \u001b[39mNone\u001b[39;00m\n",
      "File \u001b[0;32m~/Desktop/iGEM/2023/cadmir/.venv/lib/python3.11/site-packages/sqlalchemy/engine/base.py:1965\u001b[0m, in \u001b[0;36mConnection._exec_single_context\u001b[0;34m(self, dialect, context, statement, parameters)\u001b[0m\n\u001b[1;32m   1963\u001b[0m                 \u001b[39mbreak\u001b[39;00m\n\u001b[1;32m   1964\u001b[0m     \u001b[39mif\u001b[39;00m \u001b[39mnot\u001b[39;00m evt_handled:\n\u001b[0;32m-> 1965\u001b[0m         \u001b[39mself\u001b[39;49m\u001b[39m.\u001b[39;49mdialect\u001b[39m.\u001b[39;49mdo_execute(\n\u001b[1;32m   1966\u001b[0m             cursor, str_statement, effective_parameters, context\n\u001b[1;32m   1967\u001b[0m         )\n\u001b[1;32m   1969\u001b[0m \u001b[39mif\u001b[39;00m \u001b[39mself\u001b[39m\u001b[39m.\u001b[39m_has_events \u001b[39mor\u001b[39;00m \u001b[39mself\u001b[39m\u001b[39m.\u001b[39mengine\u001b[39m.\u001b[39m_has_events:\n\u001b[1;32m   1970\u001b[0m     \u001b[39mself\u001b[39m\u001b[39m.\u001b[39mdispatch\u001b[39m.\u001b[39mafter_cursor_execute(\n\u001b[1;32m   1971\u001b[0m         \u001b[39mself\u001b[39m,\n\u001b[1;32m   1972\u001b[0m         cursor,\n\u001b[0;32m   (...)\u001b[0m\n\u001b[1;32m   1976\u001b[0m         context\u001b[39m.\u001b[39mexecutemany,\n\u001b[1;32m   1977\u001b[0m     )\n",
      "File \u001b[0;32m~/Desktop/iGEM/2023/cadmir/.venv/lib/python3.11/site-packages/sqlalchemy/engine/default.py:921\u001b[0m, in \u001b[0;36mDefaultDialect.do_execute\u001b[0;34m(self, cursor, statement, parameters, context)\u001b[0m\n\u001b[1;32m    920\u001b[0m \u001b[39mdef\u001b[39;00m \u001b[39mdo_execute\u001b[39m(\u001b[39mself\u001b[39m, cursor, statement, parameters, context\u001b[39m=\u001b[39m\u001b[39mNone\u001b[39;00m):\n\u001b[0;32m--> 921\u001b[0m     cursor\u001b[39m.\u001b[39;49mexecute(statement, parameters)\n",
      "\u001b[0;31mProgrammingError\u001b[0m: (psycopg2.errors.UndefinedObject) type \"vector\" does not exist\nLINE 4:  embedding VECTOR, \n                   ^\n\n[SQL: \nCREATE TABLE langchain_pg_embedding (\n\tcollection_id UUID, \n\tembedding VECTOR, \n\tdocument VARCHAR, \n\tcmetadata JSON, \n\tcustom_id VARCHAR, \n\tuuid UUID NOT NULL, \n\tPRIMARY KEY (uuid), \n\tFOREIGN KEY(collection_id) REFERENCES langchain_pg_collection (uuid) ON DELETE CASCADE\n)\n\n]\n(Background on this error at: https://sqlalche.me/e/20/f405)"
     ]
    }
   ],
   "source": [
    "embedded = SupabaseVectorStore.from_documents(documents=chunks, embedding=embedding)"
   ]
  },
  {
   "cell_type": "code",
   "execution_count": null,
   "metadata": {},
   "outputs": [],
   "source": []
  }
 ],
 "metadata": {
  "kernelspec": {
   "display_name": ".venv",
   "language": "python",
   "name": "python3"
  },
  "language_info": {
   "codemirror_mode": {
    "name": "ipython",
    "version": 3
   },
   "file_extension": ".py",
   "mimetype": "text/x-python",
   "name": "python",
   "nbconvert_exporter": "python",
   "pygments_lexer": "ipython3",
   "version": "3.10.12"
  },
  "orig_nbformat": 4
 },
 "nbformat": 4,
 "nbformat_minor": 2
}

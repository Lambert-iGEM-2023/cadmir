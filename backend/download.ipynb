{
 "cells": [
  {
   "cell_type": "code",
   "execution_count": 21,
   "metadata": {},
   "outputs": [],
   "source": [
    "import requests\n",
    "import pandas\n",
    "from langchain.document_loaders import PyPDFLoader"
   ]
  },
  {
   "cell_type": "code",
   "execution_count": 7,
   "metadata": {},
   "outputs": [],
   "source": [
    "papersDF = pandas.read_csv('csv-microRNAAN-set (1).csv')"
   ]
  },
  {
   "cell_type": "code",
   "execution_count": 9,
   "metadata": {},
   "outputs": [
    {
     "data": {
      "text/html": [
       "<div>\n",
       "<style scoped>\n",
       "    .dataframe tbody tr th:only-of-type {\n",
       "        vertical-align: middle;\n",
       "    }\n",
       "\n",
       "    .dataframe tbody tr th {\n",
       "        vertical-align: top;\n",
       "    }\n",
       "\n",
       "    .dataframe thead th {\n",
       "        text-align: right;\n",
       "    }\n",
       "</style>\n",
       "<table border=\"1\" class=\"dataframe\">\n",
       "  <thead>\n",
       "    <tr style=\"text-align: right;\">\n",
       "      <th></th>\n",
       "      <th>PMID</th>\n",
       "      <th>Title</th>\n",
       "      <th>Authors</th>\n",
       "      <th>Citation</th>\n",
       "      <th>First Author</th>\n",
       "      <th>Journal/Book</th>\n",
       "      <th>Publication Year</th>\n",
       "      <th>Create Date</th>\n",
       "      <th>PMCID</th>\n",
       "      <th>NIHMS ID</th>\n",
       "      <th>DOI</th>\n",
       "    </tr>\n",
       "  </thead>\n",
       "  <tbody>\n",
       "    <tr>\n",
       "      <th>0</th>\n",
       "      <td>32457494</td>\n",
       "      <td>Kawasaki disease: pathophysiology and insights...</td>\n",
       "      <td>Noval Rivas M, Arditi M.</td>\n",
       "      <td>Nat Rev Rheumatol. 2020 Jul;16(7):391-405. doi...</td>\n",
       "      <td>Noval Rivas M</td>\n",
       "      <td>Nat Rev Rheumatol</td>\n",
       "      <td>2020</td>\n",
       "      <td>2020/05/28</td>\n",
       "      <td>PMC7250272</td>\n",
       "      <td>NaN</td>\n",
       "      <td>10.1038/s41584-020-0426-0</td>\n",
       "    </tr>\n",
       "    <tr>\n",
       "      <th>1</th>\n",
       "      <td>26892968</td>\n",
       "      <td>MicroRNA Regulation of Atherosclerosis</td>\n",
       "      <td>Feinberg MW, Moore KJ.</td>\n",
       "      <td>Circ Res. 2016 Feb 19;118(4):703-20. doi: 10.1...</td>\n",
       "      <td>Feinberg MW</td>\n",
       "      <td>Circ Res</td>\n",
       "      <td>2016</td>\n",
       "      <td>2016/02/20</td>\n",
       "      <td>PMC4762069</td>\n",
       "      <td>NIHMS753671</td>\n",
       "      <td>10.1161/CIRCRESAHA.115.306300</td>\n",
       "    </tr>\n",
       "    <tr>\n",
       "      <th>2</th>\n",
       "      <td>30787203</td>\n",
       "      <td>MALAT1/miR-15b-5p/MAPK1 mediates endothelial p...</td>\n",
       "      <td>Zhu Y, Yang T, Duan J, Mu N, Zhang T.</td>\n",
       "      <td>Aging (Albany NY). 2019 Feb 21;11(4):1089-1109...</td>\n",
       "      <td>Zhu Y</td>\n",
       "      <td>Aging (Albany NY)</td>\n",
       "      <td>2019</td>\n",
       "      <td>2019/02/22</td>\n",
       "      <td>PMC6402525</td>\n",
       "      <td>NaN</td>\n",
       "      <td>10.18632/aging.101766</td>\n",
       "    </tr>\n",
       "    <tr>\n",
       "      <th>3</th>\n",
       "      <td>32575472</td>\n",
       "      <td>MicroRNA and ROS Crosstalk in Cardiac and Pulm...</td>\n",
       "      <td>Climent M, Viggiani G, Chen YW, Coulis G, Cast...</td>\n",
       "      <td>Int J Mol Sci. 2020 Jun 19;21(12):4370. doi: 1...</td>\n",
       "      <td>Climent M</td>\n",
       "      <td>Int J Mol Sci</td>\n",
       "      <td>2020</td>\n",
       "      <td>2020/06/25</td>\n",
       "      <td>PMC7352701</td>\n",
       "      <td>NaN</td>\n",
       "      <td>10.3390/ijms21124370</td>\n",
       "    </tr>\n",
       "    <tr>\n",
       "      <th>4</th>\n",
       "      <td>31443660</td>\n",
       "      <td>Transcriptome sequencing of lncRNA, miRNA, mRN...</td>\n",
       "      <td>Liao J, Wang J, Liu Y, Li J, Duan L.</td>\n",
       "      <td>BMC Med Genomics. 2019 Aug 23;12(1):124. doi: ...</td>\n",
       "      <td>Liao J</td>\n",
       "      <td>BMC Med Genomics</td>\n",
       "      <td>2019</td>\n",
       "      <td>2019/08/25</td>\n",
       "      <td>PMC6708182</td>\n",
       "      <td>NaN</td>\n",
       "      <td>10.1186/s12920-019-0570-z</td>\n",
       "    </tr>\n",
       "  </tbody>\n",
       "</table>\n",
       "</div>"
      ],
      "text/plain": [
       "       PMID                                              Title  \\\n",
       "0  32457494  Kawasaki disease: pathophysiology and insights...   \n",
       "1  26892968             MicroRNA Regulation of Atherosclerosis   \n",
       "2  30787203  MALAT1/miR-15b-5p/MAPK1 mediates endothelial p...   \n",
       "3  32575472  MicroRNA and ROS Crosstalk in Cardiac and Pulm...   \n",
       "4  31443660  Transcriptome sequencing of lncRNA, miRNA, mRN...   \n",
       "\n",
       "                                             Authors  \\\n",
       "0                           Noval Rivas M, Arditi M.   \n",
       "1                             Feinberg MW, Moore KJ.   \n",
       "2              Zhu Y, Yang T, Duan J, Mu N, Zhang T.   \n",
       "3  Climent M, Viggiani G, Chen YW, Coulis G, Cast...   \n",
       "4               Liao J, Wang J, Liu Y, Li J, Duan L.   \n",
       "\n",
       "                                            Citation   First Author  \\\n",
       "0  Nat Rev Rheumatol. 2020 Jul;16(7):391-405. doi...  Noval Rivas M   \n",
       "1  Circ Res. 2016 Feb 19;118(4):703-20. doi: 10.1...    Feinberg MW   \n",
       "2  Aging (Albany NY). 2019 Feb 21;11(4):1089-1109...          Zhu Y   \n",
       "3  Int J Mol Sci. 2020 Jun 19;21(12):4370. doi: 1...      Climent M   \n",
       "4  BMC Med Genomics. 2019 Aug 23;12(1):124. doi: ...         Liao J   \n",
       "\n",
       "        Journal/Book  Publication Year Create Date       PMCID     NIHMS ID  \\\n",
       "0  Nat Rev Rheumatol              2020  2020/05/28  PMC7250272          NaN   \n",
       "1           Circ Res              2016  2016/02/20  PMC4762069  NIHMS753671   \n",
       "2  Aging (Albany NY)              2019  2019/02/22  PMC6402525          NaN   \n",
       "3      Int J Mol Sci              2020  2020/06/25  PMC7352701          NaN   \n",
       "4   BMC Med Genomics              2019  2019/08/25  PMC6708182          NaN   \n",
       "\n",
       "                             DOI  \n",
       "0      10.1038/s41584-020-0426-0  \n",
       "1  10.1161/CIRCRESAHA.115.306300  \n",
       "2          10.18632/aging.101766  \n",
       "3           10.3390/ijms21124370  \n",
       "4      10.1186/s12920-019-0570-z  "
      ]
     },
     "execution_count": 9,
     "metadata": {},
     "output_type": "execute_result"
    }
   ],
   "source": [
    "papersDF.head()"
   ]
  },
  {
   "cell_type": "code",
   "execution_count": 11,
   "metadata": {},
   "outputs": [],
   "source": [
    "for index, row in papersDF.iterrows():\n",
    "    row['DOI']\n",
    "    pass"
   ]
  },
  {
   "cell_type": "code",
   "execution_count": 12,
   "metadata": {},
   "outputs": [],
   "source": [
    "test_doi = \"10.1038/s41584-020-0426-0\""
   ]
  },
  {
   "cell_type": "code",
   "execution_count": 23,
   "metadata": {},
   "outputs": [],
   "source": [
    "req = requests.get(f\"https://api.unpaywall.org/v2/{test_doi}?email=ryandu9221@gmail.com\")\n",
    "url = req.json().get('best_oa_location').get('url')"
   ]
  },
  {
   "cell_type": "code",
   "execution_count": 28,
   "metadata": {},
   "outputs": [],
   "source": [
    "loader = PyPDFLoader(url)"
   ]
  },
  {
   "cell_type": "code",
   "execution_count": 29,
   "metadata": {},
   "outputs": [],
   "source": [
    "pages = loader.load_and_split()"
   ]
  },
  {
   "cell_type": "code",
   "execution_count": null,
   "metadata": {},
   "outputs": [],
   "source": [
    "# clean pdf to remove references section\n"
   ]
  }
 ],
 "metadata": {
  "kernelspec": {
   "display_name": ".venv",
   "language": "python",
   "name": "python3"
  },
  "language_info": {
   "codemirror_mode": {
    "name": "ipython",
    "version": 3
   },
   "file_extension": ".py",
   "mimetype": "text/x-python",
   "name": "python",
   "nbconvert_exporter": "python",
   "pygments_lexer": "ipython3",
   "version": "3.11.4"
  },
  "orig_nbformat": 4
 },
 "nbformat": 4,
 "nbformat_minor": 2
}

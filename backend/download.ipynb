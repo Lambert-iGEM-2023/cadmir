{
 "cells": [
  {
   "cell_type": "code",
   "execution_count": 1,
   "metadata": {},
   "outputs": [
    {
     "data": {
      "text/plain": [
       "True"
      ]
     },
     "execution_count": 1,
     "metadata": {},
     "output_type": "execute_result"
    }
   ],
   "source": [
    "import requests\n",
    "import pandas\n",
    "from langchain.document_loaders import UnstructuredPDFLoader, OnlinePDFLoader, PyPDFLoader\n",
    "from langchain.text_splitter import RecursiveCharacterTextSplitter\n",
    "from langchain.embeddings import OpenAIEmbeddings\n",
    "from langchain.vectorstores.supabase import SupabaseVectorStore\n",
    "from supabase.client import Client, create_client\n",
    "import datetime\n",
    "from tqdm import tqdm\n",
    "\n",
    "import os\n",
    "from dotenv import load_dotenv\n",
    "load_dotenv()"
   ]
  },
  {
   "cell_type": "code",
   "execution_count": 2,
   "metadata": {},
   "outputs": [],
   "source": [
    "papersDF = pandas.read_csv('csv-microRNAAN-set (1).csv')"
   ]
  },
  {
   "cell_type": "code",
   "execution_count": 3,
   "metadata": {},
   "outputs": [],
   "source": [
    "embedding = OpenAIEmbeddings()\n",
    "supabase: Client = create_client(supabase_url=os.environ.get(\"SUPABASE_URL\"), supabase_key=os.environ.get(\"SUPABASE_SERVICE_KEY\"))"
   ]
  },
  {
   "cell_type": "code",
   "execution_count": 4,
   "metadata": {},
   "outputs": [],
   "source": [
    "loader_not_works = []\n",
    "no_url = []"
   ]
  },
  {
   "cell_type": "code",
   "execution_count": 6,
   "metadata": {},
   "outputs": [
    {
     "name": "stderr",
     "output_type": "stream",
     "text": [
      "23.13645621181263% failure: 100%|█████████▉| 4911/4924 [4:25:38<00:42,  3.25s/it]\n",
      "23.237863091610805% failure: 100%|██████████| 4924/4924 [05:01<00:00, 16.34it/s]\n"
     ]
    }
   ],
   "source": [
    "pbar = tqdm(total=len(papersDF))\n",
    "for index, row in papersDF.iterrows():\n",
    "    pbar.update(1)\n",
    "    if index != 0:\n",
    "        pbar.set_description(f\"{(len(no_url) + len(loader_not_works)) / index * 100}% failure\")\n",
    "    if index <= 4911:\n",
    "        continue\n",
    "    doi = row['DOI']\n",
    "    # print(f\"https://api.unpaywall.org/v2/{doi}?email=ryandu9221@gmail.com\")\n",
    "    req = requests.get(f\"https://api.unpaywall.org/v2/{doi}?email=ryandu9221@gmail.com\")\n",
    "    if req.status_code == 200:\n",
    "        if req.json().get('is_oa') == True:\n",
    "            oa = req.json().get('best_oa_location')\n",
    "            if oa == None:\n",
    "                no_url.append(doi)\n",
    "                # print(\"no oa \" + doi)\n",
    "                continue\n",
    "            url = oa.get('url_for_pdf')\n",
    "            if url is None:\n",
    "                no_url.append(doi)\n",
    "                # print(\"no url \" + doi)\n",
    "                continue\n",
    "            try:\n",
    "                fileloader = OnlinePDFLoader(url)\n",
    "                loader = UnstructuredPDFLoader(fileloader.file_path)\n",
    "                splitter = RecursiveCharacterTextSplitter(\n",
    "                    chunk_size = 500,\n",
    "                    chunk_overlap  = 0,\n",
    "                    length_function = len,\n",
    "                    is_separator_regex = False,\n",
    "                )\n",
    "                chunks = loader.load_and_split(text_splitter=splitter)\n",
    "                for chunk in chunks:\n",
    "                    chunk.metadata[\"doi\"] = doi\n",
    "                    chunk.metadata[\"add_date\"] = str(datetime.datetime.now().date())\n",
    "                    chunk.metadata.pop(\"source\")\n",
    "                embedded = SupabaseVectorStore.from_documents(chunks, embedding, client=supabase, table_name=\"knowledge\")\n",
    "            except:\n",
    "                loader_not_works.append(doi)\n",
    "                # print(\"not work \" + doi)\n",
    "    else:\n",
    "        no_url.append(doi)\n",
    "    \n",
    "pbar.close()"
   ]
  },
  {
   "cell_type": "code",
   "execution_count": 6,
   "metadata": {},
   "outputs": [
    {
     "data": {
      "text/plain": [
       "{'doi': '10.3390/genes13050747',\n",
       " 'doi_url': 'https://doi.org/10.3390/genes13050747',\n",
       " 'title': 'Genetic Variants of MIR27A, MIR196A2 May Impact the Risk for the Onset of Coronary Artery Disease in the Pakistani Population',\n",
       " 'genre': 'journal-article',\n",
       " 'is_paratext': False,\n",
       " 'published_date': '2022-04-24',\n",
       " 'year': 2022,\n",
       " 'journal_name': 'Genes',\n",
       " 'journal_issns': '2073-4425',\n",
       " 'journal_issn_l': '2073-4425',\n",
       " 'journal_is_oa': True,\n",
       " 'journal_is_in_doaj': True,\n",
       " 'publisher': 'MDPI AG',\n",
       " 'is_oa': True,\n",
       " 'oa_status': 'gold',\n",
       " 'has_repository_copy': True,\n",
       " 'best_oa_location': {'updated': '2023-08-13T18:05:58.604486',\n",
       "  'url': 'https://www.mdpi.com/2073-4425/13/5/747/pdf?version=1650788366',\n",
       "  'url_for_pdf': 'https://www.mdpi.com/2073-4425/13/5/747/pdf?version=1650788366',\n",
       "  'url_for_landing_page': 'https://doi.org/10.3390/genes13050747',\n",
       "  'evidence': 'oa journal (via doaj)',\n",
       "  'license': 'cc-by',\n",
       "  'version': 'publishedVersion',\n",
       "  'host_type': 'publisher',\n",
       "  'is_best': True,\n",
       "  'pmh_id': None,\n",
       "  'endpoint_id': None,\n",
       "  'repository_institution': None,\n",
       "  'oa_date': '2022-04-24'},\n",
       " 'first_oa_location': {'updated': '2023-08-13T18:05:58.604486',\n",
       "  'url': 'https://www.mdpi.com/2073-4425/13/5/747/pdf?version=1650788366',\n",
       "  'url_for_pdf': 'https://www.mdpi.com/2073-4425/13/5/747/pdf?version=1650788366',\n",
       "  'url_for_landing_page': 'https://doi.org/10.3390/genes13050747',\n",
       "  'evidence': 'oa journal (via doaj)',\n",
       "  'license': 'cc-by',\n",
       "  'version': 'publishedVersion',\n",
       "  'host_type': 'publisher',\n",
       "  'is_best': True,\n",
       "  'pmh_id': None,\n",
       "  'endpoint_id': None,\n",
       "  'repository_institution': None,\n",
       "  'oa_date': '2022-04-24'},\n",
       " 'oa_locations': [{'updated': '2023-08-13T18:05:58.604486',\n",
       "   'url': 'https://www.mdpi.com/2073-4425/13/5/747/pdf?version=1650788366',\n",
       "   'url_for_pdf': 'https://www.mdpi.com/2073-4425/13/5/747/pdf?version=1650788366',\n",
       "   'url_for_landing_page': 'https://doi.org/10.3390/genes13050747',\n",
       "   'evidence': 'oa journal (via doaj)',\n",
       "   'license': 'cc-by',\n",
       "   'version': 'publishedVersion',\n",
       "   'host_type': 'publisher',\n",
       "   'is_best': True,\n",
       "   'pmh_id': None,\n",
       "   'endpoint_id': None,\n",
       "   'repository_institution': None,\n",
       "   'oa_date': '2022-04-24'},\n",
       "  {'updated': '2023-08-13T18:05:58.604573',\n",
       "   'url': 'https://www.ncbi.nlm.nih.gov/pmc/articles/PMC9141586',\n",
       "   'url_for_pdf': None,\n",
       "   'url_for_landing_page': 'https://www.ncbi.nlm.nih.gov/pmc/articles/PMC9141586',\n",
       "   'evidence': 'oa repository (via pmcid lookup)',\n",
       "   'license': None,\n",
       "   'version': 'publishedVersion',\n",
       "   'host_type': 'repository',\n",
       "   'is_best': False,\n",
       "   'pmh_id': None,\n",
       "   'endpoint_id': None,\n",
       "   'repository_institution': None,\n",
       "   'oa_date': None}],\n",
       " 'oa_locations_embargoed': [],\n",
       " 'updated': '2023-03-24T13:55:01.236328',\n",
       " 'data_standard': 2,\n",
       " 'z_authors': [{'given': 'Taqweem Ul', 'family': 'Haq', 'sequence': 'first'},\n",
       "  {'given': 'Abdul', 'family': 'Zahoor', 'sequence': 'additional'},\n",
       "  {'ORCID': 'http://orcid.org/0000-0001-8895-7808',\n",
       "   'given': 'Yasir',\n",
       "   'family': 'Ali',\n",
       "   'sequence': 'additional',\n",
       "   'authenticated-orcid': False},\n",
       "  {'given': 'Yangchao', 'family': 'Chen', 'sequence': 'additional'},\n",
       "  {'ORCID': 'http://orcid.org/0000-0002-3372-4457',\n",
       "   'given': 'Fazal',\n",
       "   'family': 'Jalil',\n",
       "   'sequence': 'additional',\n",
       "   'authenticated-orcid': False},\n",
       "  {'ORCID': 'http://orcid.org/0000-0003-1702-9777',\n",
       "   'given': 'Aftab Ali',\n",
       "   'family': 'Shah',\n",
       "   'sequence': 'additional',\n",
       "   'authenticated-orcid': False}]}"
      ]
     },
     "execution_count": 6,
     "metadata": {},
     "output_type": "execute_result"
    }
   ],
   "source": [
    "req.json()\n"
   ]
  },
  {
   "cell_type": "markdown",
   "metadata": {},
   "source": [
    "# Test Cycle"
   ]
  },
  {
   "cell_type": "code",
   "execution_count": null,
   "metadata": {},
   "outputs": [],
   "source": [
    "test_doi = \"10.1038/s41584-020-0426-0\""
   ]
  },
  {
   "cell_type": "code",
   "execution_count": null,
   "metadata": {},
   "outputs": [],
   "source": [
    "req = requests.get(f\"https://api.unpaywall.org/v2/{test_doi}?email=ryandu9221@gmail.com\")\n",
    "url = req.json().get('best_oa_location').get('url')\n",
    "fileloader = OnlinePDFLoader(url)\n",
    "loader = UnstructuredPDFLoader(fileloader.file_path)\n",
    "splitter = RecursiveCharacterTextSplitter(\n",
    "    # Set a really small chunk size, just to show.\n",
    "    chunk_size = 500,\n",
    "    chunk_overlap  = 0,\n",
    "    length_function = len,\n",
    "    is_separator_regex = False,\n",
    ")\n",
    "chunks = loader.load_and_split(text_splitter=splitter)\n",
    "for chunk in chunks:\n",
    "    chunk.metadata[\"doi\"] = test_doi\n",
    "    chunk.metadata[\"add_date\"] = str(datetime.datetime.now().date())\n",
    "    chunk.metadata.pop(\"source\")"
   ]
  },
  {
   "cell_type": "code",
   "execution_count": null,
   "metadata": {},
   "outputs": [
    {
     "ename": "AttributeError",
     "evalue": "'tuple' object has no attribute 'page_content'",
     "output_type": "error",
     "traceback": [
      "\u001b[0;31m---------------------------------------------------------------------------\u001b[0m",
      "\u001b[0;31mAttributeError\u001b[0m                            Traceback (most recent call last)",
      "Cell \u001b[0;32mIn[31], line 1\u001b[0m\n\u001b[0;32m----> 1\u001b[0m embedded \u001b[39m=\u001b[39m SupabaseVectorStore\u001b[39m.\u001b[39;49madd_documents(chunks, embedding, client\u001b[39m=\u001b[39;49msupabase, table_name\u001b[39m=\u001b[39;49m\u001b[39m\"\u001b[39;49m\u001b[39mknowledge\u001b[39;49m\u001b[39m\"\u001b[39;49m)\n",
      "File \u001b[0;32m~/Desktop/iGEM/2023/cadmir/.conda/lib/python3.10/site-packages/langchain/vectorstores/base.py:102\u001b[0m, in \u001b[0;36mVectorStore.add_documents\u001b[0;34m(self, documents, **kwargs)\u001b[0m\n\u001b[1;32m     93\u001b[0m \u001b[39m\u001b[39m\u001b[39m\"\"\"Run more documents through the embeddings and add to the vectorstore.\u001b[39;00m\n\u001b[1;32m     94\u001b[0m \n\u001b[1;32m     95\u001b[0m \u001b[39mArgs:\u001b[39;00m\n\u001b[0;32m   (...)\u001b[0m\n\u001b[1;32m     99\u001b[0m \u001b[39m    List[str]: List of IDs of the added texts.\u001b[39;00m\n\u001b[1;32m    100\u001b[0m \u001b[39m\"\"\"\u001b[39;00m\n\u001b[1;32m    101\u001b[0m \u001b[39m# TODO: Handle the case where the user doesn't provide ids on the Collection\u001b[39;00m\n\u001b[0;32m--> 102\u001b[0m texts \u001b[39m=\u001b[39m [doc\u001b[39m.\u001b[39mpage_content \u001b[39mfor\u001b[39;00m doc \u001b[39min\u001b[39;00m documents]\n\u001b[1;32m    103\u001b[0m metadatas \u001b[39m=\u001b[39m [doc\u001b[39m.\u001b[39mmetadata \u001b[39mfor\u001b[39;00m doc \u001b[39min\u001b[39;00m documents]\n\u001b[1;32m    104\u001b[0m \u001b[39mreturn\u001b[39;00m \u001b[39mself\u001b[39m\u001b[39m.\u001b[39madd_texts(texts, metadatas, \u001b[39m*\u001b[39m\u001b[39m*\u001b[39mkwargs)\n",
      "File \u001b[0;32m~/Desktop/iGEM/2023/cadmir/.conda/lib/python3.10/site-packages/langchain/vectorstores/base.py:102\u001b[0m, in \u001b[0;36m<listcomp>\u001b[0;34m(.0)\u001b[0m\n\u001b[1;32m     93\u001b[0m \u001b[39m\u001b[39m\u001b[39m\"\"\"Run more documents through the embeddings and add to the vectorstore.\u001b[39;00m\n\u001b[1;32m     94\u001b[0m \n\u001b[1;32m     95\u001b[0m \u001b[39mArgs:\u001b[39;00m\n\u001b[0;32m   (...)\u001b[0m\n\u001b[1;32m     99\u001b[0m \u001b[39m    List[str]: List of IDs of the added texts.\u001b[39;00m\n\u001b[1;32m    100\u001b[0m \u001b[39m\"\"\"\u001b[39;00m\n\u001b[1;32m    101\u001b[0m \u001b[39m# TODO: Handle the case where the user doesn't provide ids on the Collection\u001b[39;00m\n\u001b[0;32m--> 102\u001b[0m texts \u001b[39m=\u001b[39m [doc\u001b[39m.\u001b[39;49mpage_content \u001b[39mfor\u001b[39;00m doc \u001b[39min\u001b[39;00m documents]\n\u001b[1;32m    103\u001b[0m metadatas \u001b[39m=\u001b[39m [doc\u001b[39m.\u001b[39mmetadata \u001b[39mfor\u001b[39;00m doc \u001b[39min\u001b[39;00m documents]\n\u001b[1;32m    104\u001b[0m \u001b[39mreturn\u001b[39;00m \u001b[39mself\u001b[39m\u001b[39m.\u001b[39madd_texts(texts, metadatas, \u001b[39m*\u001b[39m\u001b[39m*\u001b[39mkwargs)\n",
      "\u001b[0;31mAttributeError\u001b[0m: 'tuple' object has no attribute 'page_content'"
     ]
    }
   ],
   "source": [
    "embedded = SupabaseVectorStore.from_documents(chunks, embedding, client=supabase, table_name=\"knowledge\")"
   ]
  },
  {
   "cell_type": "code",
   "execution_count": null,
   "metadata": {},
   "outputs": [],
   "source": []
  }
 ],
 "metadata": {
  "kernelspec": {
   "display_name": ".venv",
   "language": "python",
   "name": "python3"
  },
  "language_info": {
   "codemirror_mode": {
    "name": "ipython",
    "version": 3
   },
   "file_extension": ".py",
   "mimetype": "text/x-python",
   "name": "python",
   "nbconvert_exporter": "python",
   "pygments_lexer": "ipython3",
   "version": "3.10.12"
  },
  "orig_nbformat": 4
 },
 "nbformat": 4,
 "nbformat_minor": 2
}

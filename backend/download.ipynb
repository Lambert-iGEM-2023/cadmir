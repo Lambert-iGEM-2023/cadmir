{
 "cells": [
  {
   "cell_type": "code",
   "execution_count": 3,
   "metadata": {},
   "outputs": [
    {
     "data": {
      "text/plain": [
       "True"
      ]
     },
     "execution_count": 3,
     "metadata": {},
     "output_type": "execute_result"
    }
   ],
   "source": [
    "import requests\n",
    "import pandas\n",
    "from langchain.document_loaders import UnstructuredPDFLoader, OnlinePDFLoader, PyPDFLoader\n",
    "from langchain.text_splitter import RecursiveCharacterTextSplitter\n",
    "from langchain.embeddings import OpenAIEmbeddings\n",
    "from langchain.vectorstores.pinecone import Pinecone\n",
    "from supabase.client import Client, create_client\n",
    "import datetime\n",
    "from tqdm import tqdm\n",
    "\n",
    "import os\n",
    "from dotenv import load_dotenv\n",
    "load_dotenv()"
   ]
  },
  {
   "cell_type": "code",
   "execution_count": null,
   "metadata": {},
   "outputs": [],
   "source": []
  },
  {
   "cell_type": "code",
   "execution_count": 4,
   "metadata": {},
   "outputs": [],
   "source": [
    "papersDF = pandas.read_csv('csv-microRNAAN-set (1).csv')"
   ]
  },
  {
   "cell_type": "code",
   "execution_count": 5,
   "metadata": {},
   "outputs": [],
   "source": [
    "index_name = \"cadmir\"\n",
    "embedding = OpenAIEmbeddings()"
   ]
  },
  {
   "cell_type": "code",
   "execution_count": 1,
   "metadata": {},
   "outputs": [],
   "source": [
    "loader_not_works = []\n",
    "no_url = []\n",
    "works=[]"
   ]
  },
  {
   "cell_type": "code",
   "execution_count": 2,
   "metadata": {},
   "outputs": [
    {
     "ename": "NameError",
     "evalue": "name 'tqdm' is not defined",
     "output_type": "error",
     "traceback": [
      "\u001b[0;31m---------------------------------------------------------------------------\u001b[0m",
      "\u001b[0;31mNameError\u001b[0m                                 Traceback (most recent call last)",
      "Cell \u001b[0;32mIn[2], line 1\u001b[0m\n\u001b[0;32m----> 1\u001b[0m pbar \u001b[39m=\u001b[39m tqdm(total\u001b[39m=\u001b[39m\u001b[39mlen\u001b[39m(papersDF))\n\u001b[1;32m      2\u001b[0m \u001b[39mfor\u001b[39;00m index, row \u001b[39min\u001b[39;00m papersDF\u001b[39m.\u001b[39miterrows():\n\u001b[1;32m      3\u001b[0m     pbar\u001b[39m.\u001b[39mupdate(\u001b[39m1\u001b[39m)\n",
      "\u001b[0;31mNameError\u001b[0m: name 'tqdm' is not defined"
     ]
    }
   ],
   "source": [
    "pbar = tqdm(total=len(papersDF))\n",
    "for index, row in papersDF.iterrows():\n",
    "    pbar.update(1)\n",
    "    if index != 0:\n",
    "        pbar.set_description(f\"{(len(no_url) + len(loader_not_works)) / index * 100}% failure\")\n",
    "    # if index <= 4911:\n",
    "    #     continue\n",
    "    doi = row['DOI']\n",
    "    # print(f\"https://api.unpaywall.org/v2/{doi}?email=ryandu9221@gmail.com\")\n",
    "    req = requests.get(f\"https://api.unpaywall.org/v2/{doi}?email=ryandu9221@gmail.com\")\n",
    "    if req.status_code == 200:\n",
    "        if req.json().get('is_oa') == True:\n",
    "            oa = req.json().get('best_oa_location')\n",
    "            if oa == None:\n",
    "                no_url.append(doi)\n",
    "                # print(\"no oa \" + doi)\n",
    "                continue\n",
    "            url = oa.get('url_for_pdf')\n",
    "            if url is None:\n",
    "                no_url.append(doi)\n",
    "                # print(\"no url \" + doi)\n",
    "                continue\n",
    "            try:\n",
    "                fileloader = OnlinePDFLoader(url)\n",
    "                loader = UnstructuredPDFLoader(fileloader.file_path)\n",
    "                splitter = RecursiveCharacterTextSplitter(\n",
    "                    chunk_size = 500,\n",
    "                    chunk_overlap  = 0,\n",
    "                    length_function = len,\n",
    "                    is_separator_regex = False,\n",
    "                )\n",
    "                chunks = loader.load_and_split(text_splitter=splitter)\n",
    "                for chunk in chunks:\n",
    "                    chunk.metadata[\"doi\"] = doi\n",
    "                    chunk.metadata[\"add_date\"] = str(datetime.datetime.now().date())\n",
    "                    chunk.metadata.pop(\"source\")\n",
    "                embedded = Pinecone.from_documents(chunks, embedding,index_name=index_name )\n",
    "            except:\n",
    "                loader_not_works.append(doi)\n",
    "                # print(\"not work \" + doi)\n",
    "    else:\n",
    "        no_url.append(doi)\n",
    "    \n",
    "pbar.close()"
   ]
  },
  {
   "cell_type": "code",
   "execution_count": 6,
   "metadata": {},
   "outputs": [
    {
     "ename": "APIError",
     "evalue": "{'code': 'PGRST202', 'details': 'Searched for the function public.match_documents with parameters match_count, query_embedding or with a single unnamed json/jsonb parameter, but no matches were found in the schema cache.', 'hint': None, 'message': 'Could not find the function public.match_documents(match_count, query_embedding) in the schema cache'}",
     "output_type": "error",
     "traceback": [
      "\u001b[0;31m---------------------------------------------------------------------------\u001b[0m",
      "\u001b[0;31mAPIError\u001b[0m                                  Traceback (most recent call last)",
      "Cell \u001b[0;32mIn[6], line 2\u001b[0m\n\u001b[1;32m      1\u001b[0m store \u001b[39m=\u001b[39m SupabaseVectorStore(embedding\u001b[39m=\u001b[39membedding, client\u001b[39m=\u001b[39msupabase, table_name\u001b[39m=\u001b[39m\u001b[39m\"\u001b[39m\u001b[39mknowledge\u001b[39m\u001b[39m\"\u001b[39m)\n\u001b[0;32m----> 2\u001b[0m store\u001b[39m.\u001b[39;49msimilarity_search(\u001b[39m\"\u001b[39;49m\u001b[39mmiRNA\u001b[39;49m\u001b[39m\"\u001b[39;49m,\u001b[39m1\u001b[39;49m)\n",
      "File \u001b[0;32m~/Desktop/iGEM/2023/cadmir/.conda/lib/python3.10/site-packages/langchain/vectorstores/supabase.py:170\u001b[0m, in \u001b[0;36mSupabaseVectorStore.similarity_search\u001b[0;34m(self, query, k, filter, **kwargs)\u001b[0m\n\u001b[1;32m    162\u001b[0m \u001b[39mdef\u001b[39;00m \u001b[39msimilarity_search\u001b[39m(\n\u001b[1;32m    163\u001b[0m     \u001b[39mself\u001b[39m,\n\u001b[1;32m    164\u001b[0m     query: \u001b[39mstr\u001b[39m,\n\u001b[0;32m   (...)\u001b[0m\n\u001b[1;32m    167\u001b[0m     \u001b[39m*\u001b[39m\u001b[39m*\u001b[39mkwargs: Any,\n\u001b[1;32m    168\u001b[0m ) \u001b[39m-\u001b[39m\u001b[39m>\u001b[39m List[Document]:\n\u001b[1;32m    169\u001b[0m     vectors \u001b[39m=\u001b[39m \u001b[39mself\u001b[39m\u001b[39m.\u001b[39m_embedding\u001b[39m.\u001b[39membed_documents([query])\n\u001b[0;32m--> 170\u001b[0m     \u001b[39mreturn\u001b[39;00m \u001b[39mself\u001b[39;49m\u001b[39m.\u001b[39;49msimilarity_search_by_vector(\n\u001b[1;32m    171\u001b[0m         vectors[\u001b[39m0\u001b[39;49m], k\u001b[39m=\u001b[39;49mk, \u001b[39mfilter\u001b[39;49m\u001b[39m=\u001b[39;49m\u001b[39mfilter\u001b[39;49m, \u001b[39m*\u001b[39;49m\u001b[39m*\u001b[39;49mkwargs\n\u001b[1;32m    172\u001b[0m     )\n",
      "File \u001b[0;32m~/Desktop/iGEM/2023/cadmir/.conda/lib/python3.10/site-packages/langchain/vectorstores/supabase.py:181\u001b[0m, in \u001b[0;36mSupabaseVectorStore.similarity_search_by_vector\u001b[0;34m(self, embedding, k, filter, **kwargs)\u001b[0m\n\u001b[1;32m    174\u001b[0m \u001b[39mdef\u001b[39;00m \u001b[39msimilarity_search_by_vector\u001b[39m(\n\u001b[1;32m    175\u001b[0m     \u001b[39mself\u001b[39m,\n\u001b[1;32m    176\u001b[0m     embedding: List[\u001b[39mfloat\u001b[39m],\n\u001b[0;32m   (...)\u001b[0m\n\u001b[1;32m    179\u001b[0m     \u001b[39m*\u001b[39m\u001b[39m*\u001b[39mkwargs: Any,\n\u001b[1;32m    180\u001b[0m ) \u001b[39m-\u001b[39m\u001b[39m>\u001b[39m List[Document]:\n\u001b[0;32m--> 181\u001b[0m     result \u001b[39m=\u001b[39m \u001b[39mself\u001b[39;49m\u001b[39m.\u001b[39;49msimilarity_search_by_vector_with_relevance_scores(\n\u001b[1;32m    182\u001b[0m         embedding, k\u001b[39m=\u001b[39;49mk, \u001b[39mfilter\u001b[39;49m\u001b[39m=\u001b[39;49m\u001b[39mfilter\u001b[39;49m, \u001b[39m*\u001b[39;49m\u001b[39m*\u001b[39;49mkwargs\n\u001b[1;32m    183\u001b[0m     )\n\u001b[1;32m    185\u001b[0m     documents \u001b[39m=\u001b[39m [doc \u001b[39mfor\u001b[39;00m doc, _ \u001b[39min\u001b[39;00m result]\n\u001b[1;32m    187\u001b[0m     \u001b[39mreturn\u001b[39;00m documents\n",
      "File \u001b[0;32m~/Desktop/iGEM/2023/cadmir/.conda/lib/python3.10/site-packages/langchain/vectorstores/supabase.py:213\u001b[0m, in \u001b[0;36mSupabaseVectorStore.similarity_search_by_vector_with_relevance_scores\u001b[0;34m(self, query, k, filter)\u001b[0m\n\u001b[1;32m    209\u001b[0m \u001b[39mdef\u001b[39;00m \u001b[39msimilarity_search_by_vector_with_relevance_scores\u001b[39m(\n\u001b[1;32m    210\u001b[0m     \u001b[39mself\u001b[39m, query: List[\u001b[39mfloat\u001b[39m], k: \u001b[39mint\u001b[39m, \u001b[39mfilter\u001b[39m: Optional[Dict[\u001b[39mstr\u001b[39m, Any]] \u001b[39m=\u001b[39m \u001b[39mNone\u001b[39;00m\n\u001b[1;32m    211\u001b[0m ) \u001b[39m-\u001b[39m\u001b[39m>\u001b[39m List[Tuple[Document, \u001b[39mfloat\u001b[39m]]:\n\u001b[1;32m    212\u001b[0m     match_documents_params \u001b[39m=\u001b[39m \u001b[39mself\u001b[39m\u001b[39m.\u001b[39mmatch_args(query, k, \u001b[39mfilter\u001b[39m)\n\u001b[0;32m--> 213\u001b[0m     res \u001b[39m=\u001b[39m \u001b[39mself\u001b[39;49m\u001b[39m.\u001b[39;49m_client\u001b[39m.\u001b[39;49mrpc(\u001b[39mself\u001b[39;49m\u001b[39m.\u001b[39;49mquery_name, match_documents_params)\u001b[39m.\u001b[39;49mexecute()\n\u001b[1;32m    215\u001b[0m     match_result \u001b[39m=\u001b[39m [\n\u001b[1;32m    216\u001b[0m         (\n\u001b[1;32m    217\u001b[0m             Document(\n\u001b[0;32m   (...)\u001b[0m\n\u001b[1;32m    224\u001b[0m         \u001b[39mif\u001b[39;00m search\u001b[39m.\u001b[39mget(\u001b[39m\"\u001b[39m\u001b[39mcontent\u001b[39m\u001b[39m\"\u001b[39m)\n\u001b[1;32m    225\u001b[0m     ]\n\u001b[1;32m    227\u001b[0m     \u001b[39mreturn\u001b[39;00m match_result\n",
      "File \u001b[0;32m~/Desktop/iGEM/2023/cadmir/.conda/lib/python3.10/site-packages/postgrest/_sync/request_builder.py:68\u001b[0m, in \u001b[0;36mSyncQueryRequestBuilder.execute\u001b[0;34m(self)\u001b[0m\n\u001b[1;32m     66\u001b[0m         \u001b[39mreturn\u001b[39;00m APIResponse\u001b[39m.\u001b[39mfrom_http_request_response(r)\n\u001b[1;32m     67\u001b[0m     \u001b[39melse\u001b[39;00m:\n\u001b[0;32m---> 68\u001b[0m         \u001b[39mraise\u001b[39;00m APIError(r\u001b[39m.\u001b[39mjson())\n\u001b[1;32m     69\u001b[0m \u001b[39mexcept\u001b[39;00m ValidationError \u001b[39mas\u001b[39;00m e:\n\u001b[1;32m     70\u001b[0m     \u001b[39mraise\u001b[39;00m APIError(r\u001b[39m.\u001b[39mjson()) \u001b[39mfrom\u001b[39;00m \u001b[39me\u001b[39;00m\n",
      "\u001b[0;31mAPIError\u001b[0m: {'code': 'PGRST202', 'details': 'Searched for the function public.match_documents with parameters match_count, query_embedding or with a single unnamed json/jsonb parameter, but no matches were found in the schema cache.', 'hint': None, 'message': 'Could not find the function public.match_documents(match_count, query_embedding) in the schema cache'}"
     ]
    }
   ],
   "source": [
    "store = SupabaseVectorStore(embedding=embedding, client=supabase, table_name=\"knowledge\")\n",
    "store.similarity_search(\"miRNA\",1)"
   ]
  },
  {
   "cell_type": "markdown",
   "metadata": {},
   "source": [
    "# Test Cycle"
   ]
  },
  {
   "cell_type": "code",
   "execution_count": null,
   "metadata": {},
   "outputs": [],
   "source": [
    "test_doi = \"10.1038/s41584-020-0426-0\""
   ]
  },
  {
   "cell_type": "code",
   "execution_count": null,
   "metadata": {},
   "outputs": [],
   "source": [
    "req = requests.get(f\"https://api.unpaywall.org/v2/{test_doi}?email=ryandu9221@gmail.com\")\n",
    "url = req.json().get('best_oa_location').get('url')\n",
    "fileloader = OnlinePDFLoader(url)\n",
    "loader = UnstructuredPDFLoader(fileloader.file_path)\n",
    "splitter = RecursiveCharacterTextSplitter(\n",
    "    # Set a really small chunk size, just to show.\n",
    "    chunk_size = 500,\n",
    "    chunk_overlap  = 0,\n",
    "    length_function = len,\n",
    "    is_separator_regex = False,\n",
    ")\n",
    "chunks = loader.load_and_split(text_splitter=splitter)\n",
    "for chunk in chunks:\n",
    "    chunk.metadata[\"doi\"] = test_doi\n",
    "    chunk.metadata[\"add_date\"] = str(datetime.datetime.now().date())\n",
    "    chunk.metadata.pop(\"source\")"
   ]
  },
  {
   "cell_type": "code",
   "execution_count": null,
   "metadata": {},
   "outputs": [
    {
     "ename": "AttributeError",
     "evalue": "'tuple' object has no attribute 'page_content'",
     "output_type": "error",
     "traceback": [
      "\u001b[0;31m---------------------------------------------------------------------------\u001b[0m",
      "\u001b[0;31mAttributeError\u001b[0m                            Traceback (most recent call last)",
      "Cell \u001b[0;32mIn[31], line 1\u001b[0m\n\u001b[0;32m----> 1\u001b[0m embedded \u001b[39m=\u001b[39m SupabaseVectorStore\u001b[39m.\u001b[39;49madd_documents(chunks, embedding, client\u001b[39m=\u001b[39;49msupabase, table_name\u001b[39m=\u001b[39;49m\u001b[39m\"\u001b[39;49m\u001b[39mknowledge\u001b[39;49m\u001b[39m\"\u001b[39;49m)\n",
      "File \u001b[0;32m~/Desktop/iGEM/2023/cadmir/.conda/lib/python3.10/site-packages/langchain/vectorstores/base.py:102\u001b[0m, in \u001b[0;36mVectorStore.add_documents\u001b[0;34m(self, documents, **kwargs)\u001b[0m\n\u001b[1;32m     93\u001b[0m \u001b[39m\u001b[39m\u001b[39m\"\"\"Run more documents through the embeddings and add to the vectorstore.\u001b[39;00m\n\u001b[1;32m     94\u001b[0m \n\u001b[1;32m     95\u001b[0m \u001b[39mArgs:\u001b[39;00m\n\u001b[0;32m   (...)\u001b[0m\n\u001b[1;32m     99\u001b[0m \u001b[39m    List[str]: List of IDs of the added texts.\u001b[39;00m\n\u001b[1;32m    100\u001b[0m \u001b[39m\"\"\"\u001b[39;00m\n\u001b[1;32m    101\u001b[0m \u001b[39m# TODO: Handle the case where the user doesn't provide ids on the Collection\u001b[39;00m\n\u001b[0;32m--> 102\u001b[0m texts \u001b[39m=\u001b[39m [doc\u001b[39m.\u001b[39mpage_content \u001b[39mfor\u001b[39;00m doc \u001b[39min\u001b[39;00m documents]\n\u001b[1;32m    103\u001b[0m metadatas \u001b[39m=\u001b[39m [doc\u001b[39m.\u001b[39mmetadata \u001b[39mfor\u001b[39;00m doc \u001b[39min\u001b[39;00m documents]\n\u001b[1;32m    104\u001b[0m \u001b[39mreturn\u001b[39;00m \u001b[39mself\u001b[39m\u001b[39m.\u001b[39madd_texts(texts, metadatas, \u001b[39m*\u001b[39m\u001b[39m*\u001b[39mkwargs)\n",
      "File \u001b[0;32m~/Desktop/iGEM/2023/cadmir/.conda/lib/python3.10/site-packages/langchain/vectorstores/base.py:102\u001b[0m, in \u001b[0;36m<listcomp>\u001b[0;34m(.0)\u001b[0m\n\u001b[1;32m     93\u001b[0m \u001b[39m\u001b[39m\u001b[39m\"\"\"Run more documents through the embeddings and add to the vectorstore.\u001b[39;00m\n\u001b[1;32m     94\u001b[0m \n\u001b[1;32m     95\u001b[0m \u001b[39mArgs:\u001b[39;00m\n\u001b[0;32m   (...)\u001b[0m\n\u001b[1;32m     99\u001b[0m \u001b[39m    List[str]: List of IDs of the added texts.\u001b[39;00m\n\u001b[1;32m    100\u001b[0m \u001b[39m\"\"\"\u001b[39;00m\n\u001b[1;32m    101\u001b[0m \u001b[39m# TODO: Handle the case where the user doesn't provide ids on the Collection\u001b[39;00m\n\u001b[0;32m--> 102\u001b[0m texts \u001b[39m=\u001b[39m [doc\u001b[39m.\u001b[39;49mpage_content \u001b[39mfor\u001b[39;00m doc \u001b[39min\u001b[39;00m documents]\n\u001b[1;32m    103\u001b[0m metadatas \u001b[39m=\u001b[39m [doc\u001b[39m.\u001b[39mmetadata \u001b[39mfor\u001b[39;00m doc \u001b[39min\u001b[39;00m documents]\n\u001b[1;32m    104\u001b[0m \u001b[39mreturn\u001b[39;00m \u001b[39mself\u001b[39m\u001b[39m.\u001b[39madd_texts(texts, metadatas, \u001b[39m*\u001b[39m\u001b[39m*\u001b[39mkwargs)\n",
      "\u001b[0;31mAttributeError\u001b[0m: 'tuple' object has no attribute 'page_content'"
     ]
    }
   ],
   "source": [
    "embedded = SupabaseVectorStore.from_documents(chunks, embedding, client=supabase, table_name=\"knowledge\")"
   ]
  },
  {
   "cell_type": "code",
   "execution_count": null,
   "metadata": {},
   "outputs": [],
   "source": []
  }
 ],
 "metadata": {
  "kernelspec": {
   "display_name": ".venv",
   "language": "python",
   "name": "python3"
  },
  "language_info": {
   "codemirror_mode": {
    "name": "ipython",
    "version": 3
   },
   "file_extension": ".py",
   "mimetype": "text/x-python",
   "name": "python",
   "nbconvert_exporter": "python",
   "pygments_lexer": "ipython3",
   "version": "3.10.12"
  },
  "orig_nbformat": 4
 },
 "nbformat": 4,
 "nbformat_minor": 2
}
